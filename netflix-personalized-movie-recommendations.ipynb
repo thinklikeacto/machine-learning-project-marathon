{
 "cells": [
  {
   "cell_type": "markdown",
   "id": "0884a0ea",
   "metadata": {
    "papermill": {
     "duration": 0.009011,
     "end_time": "2023-12-29T13:09:27.593751",
     "exception": false,
     "start_time": "2023-12-29T13:09:27.584740",
     "status": "completed"
    },
    "tags": []
   },
   "source": [
    "# Problem Statement\n",
    "Develop a machine learning model that provides personalized movie recommendations to Netflix users. The system should analyze user preferences and viewing history to suggest movies that align with their tastes and interests. The goal is to enhance user engagement and satisfaction by presenting a curated list of movies that are likely to be of interest to each individual user.\"\n",
    "\n",
    "Key aspects of this problem statement include:\n",
    "\n",
    "**Personalization**: The system must tailor recommendations to individual users based on their unique preferences and viewing history.\n",
    "\n",
    "**Data-Driven**: The recommendations should be based on data, such as user ratings, viewing patterns, and movie metadata (genres, directors, actors, etc.).\n",
    "\n",
    "**User Engagement**: The primary objective is to increase user engagement by suggesting movies that users are likely to enjoy and watch.\n",
    "\n",
    "**Scalability**: The system should be scalable, capable of handling a large number of users and movies.\n",
    "\n",
    "**Performance Metrics**: The effectiveness of the system should be measurable using appropriate metrics (e.g., accuracy of recommendations, user satisfaction, click-through rates).\n",
    "\n",
    "**Ethical Considerations**: The system should respect user privacy and comply with data usage regulations.\n",
    "\n",
    "Uses machine learning algorithms to recommend movies and TV shows based on user preferences and viewing history."
   ]
  },
  {
   "cell_type": "markdown",
   "id": "7ce3bbcb",
   "metadata": {
    "papermill": {
     "duration": 0.008216,
     "end_time": "2023-12-29T13:09:27.611074",
     "exception": false,
     "start_time": "2023-12-29T13:09:27.602858",
     "status": "completed"
    },
    "tags": []
   },
   "source": [
    "# Understand the goals and expectations\n",
    "\n",
    "\n",
    "The project's goal is to enhance Netflix's user experience by providing personalized movie recommendations, increasing engagement and retention. It focuses on scalable, efficient algorithms that respect user privacy, continuously improve through feedback, and positively impact business metrics, while innovating in machine learning and recommendation systems."
   ]
  },
  {
   "cell_type": "markdown",
   "id": "11b9fcc7",
   "metadata": {
    "papermill": {
     "duration": 0.007835,
     "end_time": "2023-12-29T13:09:27.627380",
     "exception": false,
     "start_time": "2023-12-29T13:09:27.619545",
     "status": "completed"
    },
    "tags": []
   },
   "source": []
  },
  {
   "cell_type": "code",
   "execution_count": 1,
   "id": "d14c77d6",
   "metadata": {
    "execution": {
     "iopub.execute_input": "2023-12-29T13:09:27.646385Z",
     "iopub.status.busy": "2023-12-29T13:09:27.645841Z",
     "iopub.status.idle": "2023-12-29T13:09:31.084665Z",
     "shell.execute_reply": "2023-12-29T13:09:31.082907Z"
    },
    "papermill": {
     "duration": 3.452333,
     "end_time": "2023-12-29T13:09:31.087931",
     "exception": false,
     "start_time": "2023-12-29T13:09:27.635598",
     "status": "completed"
    },
    "tags": []
   },
   "outputs": [
    {
     "name": "stdout",
     "output_type": "stream",
     "text": [
      "Collecting sklearn\r\n",
      "  Downloading sklearn-0.0.post12.tar.gz (2.6 kB)\r\n",
      "  Preparing metadata (setup.py) ... \u001b[?25l-\b \berror\r\n",
      "  \u001b[1;31merror\u001b[0m: \u001b[1msubprocess-exited-with-error\u001b[0m\r\n",
      "  \r\n",
      "  \u001b[31m×\u001b[0m \u001b[32mpython setup.py egg_info\u001b[0m did not run successfully.\r\n",
      "  \u001b[31m│\u001b[0m exit code: \u001b[1;36m1\u001b[0m\r\n",
      "  \u001b[31m╰─>\u001b[0m \u001b[31m[15 lines of output]\u001b[0m\r\n",
      "  \u001b[31m   \u001b[0m The 'sklearn' PyPI package is deprecated, use 'scikit-learn'\r\n",
      "  \u001b[31m   \u001b[0m rather than 'sklearn' for pip commands.\r\n",
      "  \u001b[31m   \u001b[0m \r\n",
      "  \u001b[31m   \u001b[0m Here is how to fix this error in the main use cases:\r\n",
      "  \u001b[31m   \u001b[0m - use 'pip install scikit-learn' rather than 'pip install sklearn'\r\n",
      "  \u001b[31m   \u001b[0m - replace 'sklearn' by 'scikit-learn' in your pip requirements files\r\n",
      "  \u001b[31m   \u001b[0m   (requirements.txt, setup.py, setup.cfg, Pipfile, etc ...)\r\n",
      "  \u001b[31m   \u001b[0m - if the 'sklearn' package is used by one of your dependencies,\r\n",
      "  \u001b[31m   \u001b[0m   it would be great if you take some time to track which package uses\r\n",
      "  \u001b[31m   \u001b[0m   'sklearn' instead of 'scikit-learn' and report it to their issue tracker\r\n",
      "  \u001b[31m   \u001b[0m - as a last resort, set the environment variable\r\n",
      "  \u001b[31m   \u001b[0m   SKLEARN_ALLOW_DEPRECATED_SKLEARN_PACKAGE_INSTALL=True to avoid this error\r\n",
      "  \u001b[31m   \u001b[0m \r\n",
      "  \u001b[31m   \u001b[0m More information is available at\r\n",
      "  \u001b[31m   \u001b[0m https://github.com/scikit-learn/sklearn-pypi-package\r\n",
      "  \u001b[31m   \u001b[0m \u001b[31m[end of output]\u001b[0m\r\n",
      "  \r\n",
      "  \u001b[1;35mnote\u001b[0m: This error originates from a subprocess, and is likely not a problem with pip.\r\n",
      "\u001b[1;31merror\u001b[0m: \u001b[1mmetadata-generation-failed\u001b[0m\r\n",
      "\r\n",
      "\u001b[31m×\u001b[0m Encountered error while generating package metadata.\r\n",
      "\u001b[31m╰─>\u001b[0m See above for output.\r\n",
      "\r\n",
      "\u001b[1;35mnote\u001b[0m: This is an issue with the package mentioned above, not pip.\r\n",
      "\u001b[1;36mhint\u001b[0m: See above for details.\r\n",
      "\u001b[?25hNote: you may need to restart the kernel to use updated packages.\n"
     ]
    }
   ],
   "source": [
    "pip install sklearn"
   ]
  },
  {
   "cell_type": "code",
   "execution_count": null,
   "id": "fdc0d21f",
   "metadata": {
    "papermill": {
     "duration": 0.008815,
     "end_time": "2023-12-29T13:09:31.105927",
     "exception": false,
     "start_time": "2023-12-29T13:09:31.097112",
     "status": "completed"
    },
    "tags": []
   },
   "outputs": [],
   "source": []
  },
  {
   "cell_type": "code",
   "execution_count": 2,
   "id": "c7d7b644",
   "metadata": {
    "_cell_guid": "b1076dfc-b9ad-4769-8c92-a6c4dae69d19",
    "_uuid": "8f2839f25d086af736a60e9eeb907d3b93b6e0e5",
    "execution": {
     "iopub.execute_input": "2023-12-29T13:09:31.126750Z",
     "iopub.status.busy": "2023-12-29T13:09:31.126194Z",
     "iopub.status.idle": "2023-12-29T13:09:33.583329Z",
     "shell.execute_reply": "2023-12-29T13:09:33.581346Z"
    },
    "papermill": {
     "duration": 2.471526,
     "end_time": "2023-12-29T13:09:33.586425",
     "exception": false,
     "start_time": "2023-12-29T13:09:31.114899",
     "status": "completed"
    },
    "tags": []
   },
   "outputs": [
    {
     "name": "stdout",
     "output_type": "stream",
     "text": [
      "/kaggle/input/netflix-prize-data/combined_data_3.txt\n",
      "/kaggle/input/netflix-prize-data/movie_titles.csv\n",
      "/kaggle/input/netflix-prize-data/combined_data_4.txt\n",
      "/kaggle/input/netflix-prize-data/combined_data_1.txt\n",
      "/kaggle/input/netflix-prize-data/README\n",
      "/kaggle/input/netflix-prize-data/probe.txt\n",
      "/kaggle/input/netflix-prize-data/combined_data_2.txt\n",
      "/kaggle/input/netflix-prize-data/qualifying.txt\n",
      "/kaggle/input/tmdb-movie-metadata/tmdb_5000_movies.csv\n",
      "/kaggle/input/tmdb-movie-metadata/tmdb_5000_credits.csv\n"
     ]
    }
   ],
   "source": [
    "import numpy as np # linear algebra\n",
    "import pandas as pd # data processing, CSV file I/O (e.g. pd.read_csv)\n",
    "import matplotlib.pyplot as plt\n",
    "import seaborn as sns\n",
    "from sklearn.feature_extraction.text import CountVectorizer\n",
    "from sklearn.metrics.pairwise import cosine_similarity\n",
    "\n",
    "# Input data files are available in the read-only \"../kaggle/working\" directory\n",
    "\n",
    "import os\n",
    "for dirname, _, filenames in os.walk('/kaggle/input'):\n",
    "    for filename in filenames:\n",
    "        print(os.path.join(dirname, filename))\n",
    "        "
   ]
  },
  {
   "cell_type": "code",
   "execution_count": 3,
   "id": "aebcad47",
   "metadata": {
    "execution": {
     "iopub.execute_input": "2023-12-29T13:09:33.608262Z",
     "iopub.status.busy": "2023-12-29T13:09:33.607112Z",
     "iopub.status.idle": "2023-12-29T13:09:33.851962Z",
     "shell.execute_reply": "2023-12-29T13:09:33.850293Z"
    },
    "papermill": {
     "duration": 0.259144,
     "end_time": "2023-12-29T13:09:33.855093",
     "exception": false,
     "start_time": "2023-12-29T13:09:33.595949",
     "status": "completed"
    },
    "tags": []
   },
   "outputs": [],
   "source": [
    "#df = pd.read_csv(\"/kaggle/input/netflix-prize-data/movie_titles.csv\", encoding='cp1252', sep=',')\n",
    "df = pd.read_csv(\"/kaggle/input/tmdb-movie-metadata/tmdb_5000_movies.csv\")\n"
   ]
  },
  {
   "cell_type": "code",
   "execution_count": 4,
   "id": "2ee36559",
   "metadata": {
    "execution": {
     "iopub.execute_input": "2023-12-29T13:09:33.876175Z",
     "iopub.status.busy": "2023-12-29T13:09:33.875669Z",
     "iopub.status.idle": "2023-12-29T13:09:33.915868Z",
     "shell.execute_reply": "2023-12-29T13:09:33.914863Z"
    },
    "papermill": {
     "duration": 0.054273,
     "end_time": "2023-12-29T13:09:33.918763",
     "exception": false,
     "start_time": "2023-12-29T13:09:33.864490",
     "status": "completed"
    },
    "tags": []
   },
   "outputs": [
    {
     "data": {
      "text/html": [
       "<div>\n",
       "<style scoped>\n",
       "    .dataframe tbody tr th:only-of-type {\n",
       "        vertical-align: middle;\n",
       "    }\n",
       "\n",
       "    .dataframe tbody tr th {\n",
       "        vertical-align: top;\n",
       "    }\n",
       "\n",
       "    .dataframe thead th {\n",
       "        text-align: right;\n",
       "    }\n",
       "</style>\n",
       "<table border=\"1\" class=\"dataframe\">\n",
       "  <thead>\n",
       "    <tr style=\"text-align: right;\">\n",
       "      <th></th>\n",
       "      <th>budget</th>\n",
       "      <th>genres</th>\n",
       "      <th>homepage</th>\n",
       "      <th>id</th>\n",
       "      <th>keywords</th>\n",
       "      <th>original_language</th>\n",
       "      <th>original_title</th>\n",
       "      <th>overview</th>\n",
       "      <th>popularity</th>\n",
       "      <th>production_companies</th>\n",
       "      <th>production_countries</th>\n",
       "      <th>release_date</th>\n",
       "      <th>revenue</th>\n",
       "      <th>runtime</th>\n",
       "      <th>spoken_languages</th>\n",
       "      <th>status</th>\n",
       "      <th>tagline</th>\n",
       "      <th>title</th>\n",
       "      <th>vote_average</th>\n",
       "      <th>vote_count</th>\n",
       "    </tr>\n",
       "  </thead>\n",
       "  <tbody>\n",
       "    <tr>\n",
       "      <th>0</th>\n",
       "      <td>237000000</td>\n",
       "      <td>[{\"id\": 28, \"name\": \"Action\"}, {\"id\": 12, \"nam...</td>\n",
       "      <td>http://www.avatarmovie.com/</td>\n",
       "      <td>19995</td>\n",
       "      <td>[{\"id\": 1463, \"name\": \"culture clash\"}, {\"id\":...</td>\n",
       "      <td>en</td>\n",
       "      <td>Avatar</td>\n",
       "      <td>In the 22nd century, a paraplegic Marine is di...</td>\n",
       "      <td>150.437577</td>\n",
       "      <td>[{\"name\": \"Ingenious Film Partners\", \"id\": 289...</td>\n",
       "      <td>[{\"iso_3166_1\": \"US\", \"name\": \"United States o...</td>\n",
       "      <td>2009-12-10</td>\n",
       "      <td>2787965087</td>\n",
       "      <td>162.0</td>\n",
       "      <td>[{\"iso_639_1\": \"en\", \"name\": \"English\"}, {\"iso...</td>\n",
       "      <td>Released</td>\n",
       "      <td>Enter the World of Pandora.</td>\n",
       "      <td>Avatar</td>\n",
       "      <td>7.2</td>\n",
       "      <td>11800</td>\n",
       "    </tr>\n",
       "    <tr>\n",
       "      <th>1</th>\n",
       "      <td>300000000</td>\n",
       "      <td>[{\"id\": 12, \"name\": \"Adventure\"}, {\"id\": 14, \"...</td>\n",
       "      <td>http://disney.go.com/disneypictures/pirates/</td>\n",
       "      <td>285</td>\n",
       "      <td>[{\"id\": 270, \"name\": \"ocean\"}, {\"id\": 726, \"na...</td>\n",
       "      <td>en</td>\n",
       "      <td>Pirates of the Caribbean: At World's End</td>\n",
       "      <td>Captain Barbossa, long believed to be dead, ha...</td>\n",
       "      <td>139.082615</td>\n",
       "      <td>[{\"name\": \"Walt Disney Pictures\", \"id\": 2}, {\"...</td>\n",
       "      <td>[{\"iso_3166_1\": \"US\", \"name\": \"United States o...</td>\n",
       "      <td>2007-05-19</td>\n",
       "      <td>961000000</td>\n",
       "      <td>169.0</td>\n",
       "      <td>[{\"iso_639_1\": \"en\", \"name\": \"English\"}]</td>\n",
       "      <td>Released</td>\n",
       "      <td>At the end of the world, the adventure begins.</td>\n",
       "      <td>Pirates of the Caribbean: At World's End</td>\n",
       "      <td>6.9</td>\n",
       "      <td>4500</td>\n",
       "    </tr>\n",
       "    <tr>\n",
       "      <th>2</th>\n",
       "      <td>245000000</td>\n",
       "      <td>[{\"id\": 28, \"name\": \"Action\"}, {\"id\": 12, \"nam...</td>\n",
       "      <td>http://www.sonypictures.com/movies/spectre/</td>\n",
       "      <td>206647</td>\n",
       "      <td>[{\"id\": 470, \"name\": \"spy\"}, {\"id\": 818, \"name...</td>\n",
       "      <td>en</td>\n",
       "      <td>Spectre</td>\n",
       "      <td>A cryptic message from Bond’s past sends him o...</td>\n",
       "      <td>107.376788</td>\n",
       "      <td>[{\"name\": \"Columbia Pictures\", \"id\": 5}, {\"nam...</td>\n",
       "      <td>[{\"iso_3166_1\": \"GB\", \"name\": \"United Kingdom\"...</td>\n",
       "      <td>2015-10-26</td>\n",
       "      <td>880674609</td>\n",
       "      <td>148.0</td>\n",
       "      <td>[{\"iso_639_1\": \"fr\", \"name\": \"Fran\\u00e7ais\"},...</td>\n",
       "      <td>Released</td>\n",
       "      <td>A Plan No One Escapes</td>\n",
       "      <td>Spectre</td>\n",
       "      <td>6.3</td>\n",
       "      <td>4466</td>\n",
       "    </tr>\n",
       "    <tr>\n",
       "      <th>3</th>\n",
       "      <td>250000000</td>\n",
       "      <td>[{\"id\": 28, \"name\": \"Action\"}, {\"id\": 80, \"nam...</td>\n",
       "      <td>http://www.thedarkknightrises.com/</td>\n",
       "      <td>49026</td>\n",
       "      <td>[{\"id\": 849, \"name\": \"dc comics\"}, {\"id\": 853,...</td>\n",
       "      <td>en</td>\n",
       "      <td>The Dark Knight Rises</td>\n",
       "      <td>Following the death of District Attorney Harve...</td>\n",
       "      <td>112.312950</td>\n",
       "      <td>[{\"name\": \"Legendary Pictures\", \"id\": 923}, {\"...</td>\n",
       "      <td>[{\"iso_3166_1\": \"US\", \"name\": \"United States o...</td>\n",
       "      <td>2012-07-16</td>\n",
       "      <td>1084939099</td>\n",
       "      <td>165.0</td>\n",
       "      <td>[{\"iso_639_1\": \"en\", \"name\": \"English\"}]</td>\n",
       "      <td>Released</td>\n",
       "      <td>The Legend Ends</td>\n",
       "      <td>The Dark Knight Rises</td>\n",
       "      <td>7.6</td>\n",
       "      <td>9106</td>\n",
       "    </tr>\n",
       "    <tr>\n",
       "      <th>4</th>\n",
       "      <td>260000000</td>\n",
       "      <td>[{\"id\": 28, \"name\": \"Action\"}, {\"id\": 12, \"nam...</td>\n",
       "      <td>http://movies.disney.com/john-carter</td>\n",
       "      <td>49529</td>\n",
       "      <td>[{\"id\": 818, \"name\": \"based on novel\"}, {\"id\":...</td>\n",
       "      <td>en</td>\n",
       "      <td>John Carter</td>\n",
       "      <td>John Carter is a war-weary, former military ca...</td>\n",
       "      <td>43.926995</td>\n",
       "      <td>[{\"name\": \"Walt Disney Pictures\", \"id\": 2}]</td>\n",
       "      <td>[{\"iso_3166_1\": \"US\", \"name\": \"United States o...</td>\n",
       "      <td>2012-03-07</td>\n",
       "      <td>284139100</td>\n",
       "      <td>132.0</td>\n",
       "      <td>[{\"iso_639_1\": \"en\", \"name\": \"English\"}]</td>\n",
       "      <td>Released</td>\n",
       "      <td>Lost in our world, found in another.</td>\n",
       "      <td>John Carter</td>\n",
       "      <td>6.1</td>\n",
       "      <td>2124</td>\n",
       "    </tr>\n",
       "  </tbody>\n",
       "</table>\n",
       "</div>"
      ],
      "text/plain": [
       "      budget                                             genres  \\\n",
       "0  237000000  [{\"id\": 28, \"name\": \"Action\"}, {\"id\": 12, \"nam...   \n",
       "1  300000000  [{\"id\": 12, \"name\": \"Adventure\"}, {\"id\": 14, \"...   \n",
       "2  245000000  [{\"id\": 28, \"name\": \"Action\"}, {\"id\": 12, \"nam...   \n",
       "3  250000000  [{\"id\": 28, \"name\": \"Action\"}, {\"id\": 80, \"nam...   \n",
       "4  260000000  [{\"id\": 28, \"name\": \"Action\"}, {\"id\": 12, \"nam...   \n",
       "\n",
       "                                       homepage      id  \\\n",
       "0                   http://www.avatarmovie.com/   19995   \n",
       "1  http://disney.go.com/disneypictures/pirates/     285   \n",
       "2   http://www.sonypictures.com/movies/spectre/  206647   \n",
       "3            http://www.thedarkknightrises.com/   49026   \n",
       "4          http://movies.disney.com/john-carter   49529   \n",
       "\n",
       "                                            keywords original_language  \\\n",
       "0  [{\"id\": 1463, \"name\": \"culture clash\"}, {\"id\":...                en   \n",
       "1  [{\"id\": 270, \"name\": \"ocean\"}, {\"id\": 726, \"na...                en   \n",
       "2  [{\"id\": 470, \"name\": \"spy\"}, {\"id\": 818, \"name...                en   \n",
       "3  [{\"id\": 849, \"name\": \"dc comics\"}, {\"id\": 853,...                en   \n",
       "4  [{\"id\": 818, \"name\": \"based on novel\"}, {\"id\":...                en   \n",
       "\n",
       "                             original_title  \\\n",
       "0                                    Avatar   \n",
       "1  Pirates of the Caribbean: At World's End   \n",
       "2                                   Spectre   \n",
       "3                     The Dark Knight Rises   \n",
       "4                               John Carter   \n",
       "\n",
       "                                            overview  popularity  \\\n",
       "0  In the 22nd century, a paraplegic Marine is di...  150.437577   \n",
       "1  Captain Barbossa, long believed to be dead, ha...  139.082615   \n",
       "2  A cryptic message from Bond’s past sends him o...  107.376788   \n",
       "3  Following the death of District Attorney Harve...  112.312950   \n",
       "4  John Carter is a war-weary, former military ca...   43.926995   \n",
       "\n",
       "                                production_companies  \\\n",
       "0  [{\"name\": \"Ingenious Film Partners\", \"id\": 289...   \n",
       "1  [{\"name\": \"Walt Disney Pictures\", \"id\": 2}, {\"...   \n",
       "2  [{\"name\": \"Columbia Pictures\", \"id\": 5}, {\"nam...   \n",
       "3  [{\"name\": \"Legendary Pictures\", \"id\": 923}, {\"...   \n",
       "4        [{\"name\": \"Walt Disney Pictures\", \"id\": 2}]   \n",
       "\n",
       "                                production_countries release_date     revenue  \\\n",
       "0  [{\"iso_3166_1\": \"US\", \"name\": \"United States o...   2009-12-10  2787965087   \n",
       "1  [{\"iso_3166_1\": \"US\", \"name\": \"United States o...   2007-05-19   961000000   \n",
       "2  [{\"iso_3166_1\": \"GB\", \"name\": \"United Kingdom\"...   2015-10-26   880674609   \n",
       "3  [{\"iso_3166_1\": \"US\", \"name\": \"United States o...   2012-07-16  1084939099   \n",
       "4  [{\"iso_3166_1\": \"US\", \"name\": \"United States o...   2012-03-07   284139100   \n",
       "\n",
       "   runtime                                   spoken_languages    status  \\\n",
       "0    162.0  [{\"iso_639_1\": \"en\", \"name\": \"English\"}, {\"iso...  Released   \n",
       "1    169.0           [{\"iso_639_1\": \"en\", \"name\": \"English\"}]  Released   \n",
       "2    148.0  [{\"iso_639_1\": \"fr\", \"name\": \"Fran\\u00e7ais\"},...  Released   \n",
       "3    165.0           [{\"iso_639_1\": \"en\", \"name\": \"English\"}]  Released   \n",
       "4    132.0           [{\"iso_639_1\": \"en\", \"name\": \"English\"}]  Released   \n",
       "\n",
       "                                          tagline  \\\n",
       "0                     Enter the World of Pandora.   \n",
       "1  At the end of the world, the adventure begins.   \n",
       "2                           A Plan No One Escapes   \n",
       "3                                 The Legend Ends   \n",
       "4            Lost in our world, found in another.   \n",
       "\n",
       "                                      title  vote_average  vote_count  \n",
       "0                                    Avatar           7.2       11800  \n",
       "1  Pirates of the Caribbean: At World's End           6.9        4500  \n",
       "2                                   Spectre           6.3        4466  \n",
       "3                     The Dark Knight Rises           7.6        9106  \n",
       "4                               John Carter           6.1        2124  "
      ]
     },
     "execution_count": 4,
     "metadata": {},
     "output_type": "execute_result"
    }
   ],
   "source": [
    "df.head()"
   ]
  },
  {
   "cell_type": "code",
   "execution_count": 5,
   "id": "9bdab709",
   "metadata": {
    "execution": {
     "iopub.execute_input": "2023-12-29T13:09:33.940802Z",
     "iopub.status.busy": "2023-12-29T13:09:33.939873Z",
     "iopub.status.idle": "2023-12-29T13:09:33.980478Z",
     "shell.execute_reply": "2023-12-29T13:09:33.979082Z"
    },
    "papermill": {
     "duration": 0.054953,
     "end_time": "2023-12-29T13:09:33.983428",
     "exception": false,
     "start_time": "2023-12-29T13:09:33.928475",
     "status": "completed"
    },
    "tags": []
   },
   "outputs": [
    {
     "data": {
      "text/html": [
       "<div>\n",
       "<style scoped>\n",
       "    .dataframe tbody tr th:only-of-type {\n",
       "        vertical-align: middle;\n",
       "    }\n",
       "\n",
       "    .dataframe tbody tr th {\n",
       "        vertical-align: top;\n",
       "    }\n",
       "\n",
       "    .dataframe thead th {\n",
       "        text-align: right;\n",
       "    }\n",
       "</style>\n",
       "<table border=\"1\" class=\"dataframe\">\n",
       "  <thead>\n",
       "    <tr style=\"text-align: right;\">\n",
       "      <th></th>\n",
       "      <th>budget</th>\n",
       "      <th>id</th>\n",
       "      <th>popularity</th>\n",
       "      <th>revenue</th>\n",
       "      <th>runtime</th>\n",
       "      <th>vote_average</th>\n",
       "      <th>vote_count</th>\n",
       "    </tr>\n",
       "  </thead>\n",
       "  <tbody>\n",
       "    <tr>\n",
       "      <th>count</th>\n",
       "      <td>4.803000e+03</td>\n",
       "      <td>4803.000000</td>\n",
       "      <td>4803.000000</td>\n",
       "      <td>4.803000e+03</td>\n",
       "      <td>4801.000000</td>\n",
       "      <td>4803.000000</td>\n",
       "      <td>4803.000000</td>\n",
       "    </tr>\n",
       "    <tr>\n",
       "      <th>mean</th>\n",
       "      <td>2.904504e+07</td>\n",
       "      <td>57165.484281</td>\n",
       "      <td>21.492301</td>\n",
       "      <td>8.226064e+07</td>\n",
       "      <td>106.875859</td>\n",
       "      <td>6.092172</td>\n",
       "      <td>690.217989</td>\n",
       "    </tr>\n",
       "    <tr>\n",
       "      <th>std</th>\n",
       "      <td>4.072239e+07</td>\n",
       "      <td>88694.614033</td>\n",
       "      <td>31.816650</td>\n",
       "      <td>1.628571e+08</td>\n",
       "      <td>22.611935</td>\n",
       "      <td>1.194612</td>\n",
       "      <td>1234.585891</td>\n",
       "    </tr>\n",
       "    <tr>\n",
       "      <th>min</th>\n",
       "      <td>0.000000e+00</td>\n",
       "      <td>5.000000</td>\n",
       "      <td>0.000000</td>\n",
       "      <td>0.000000e+00</td>\n",
       "      <td>0.000000</td>\n",
       "      <td>0.000000</td>\n",
       "      <td>0.000000</td>\n",
       "    </tr>\n",
       "    <tr>\n",
       "      <th>25%</th>\n",
       "      <td>7.900000e+05</td>\n",
       "      <td>9014.500000</td>\n",
       "      <td>4.668070</td>\n",
       "      <td>0.000000e+00</td>\n",
       "      <td>94.000000</td>\n",
       "      <td>5.600000</td>\n",
       "      <td>54.000000</td>\n",
       "    </tr>\n",
       "    <tr>\n",
       "      <th>50%</th>\n",
       "      <td>1.500000e+07</td>\n",
       "      <td>14629.000000</td>\n",
       "      <td>12.921594</td>\n",
       "      <td>1.917000e+07</td>\n",
       "      <td>103.000000</td>\n",
       "      <td>6.200000</td>\n",
       "      <td>235.000000</td>\n",
       "    </tr>\n",
       "    <tr>\n",
       "      <th>75%</th>\n",
       "      <td>4.000000e+07</td>\n",
       "      <td>58610.500000</td>\n",
       "      <td>28.313505</td>\n",
       "      <td>9.291719e+07</td>\n",
       "      <td>118.000000</td>\n",
       "      <td>6.800000</td>\n",
       "      <td>737.000000</td>\n",
       "    </tr>\n",
       "    <tr>\n",
       "      <th>max</th>\n",
       "      <td>3.800000e+08</td>\n",
       "      <td>459488.000000</td>\n",
       "      <td>875.581305</td>\n",
       "      <td>2.787965e+09</td>\n",
       "      <td>338.000000</td>\n",
       "      <td>10.000000</td>\n",
       "      <td>13752.000000</td>\n",
       "    </tr>\n",
       "  </tbody>\n",
       "</table>\n",
       "</div>"
      ],
      "text/plain": [
       "             budget             id   popularity       revenue      runtime  \\\n",
       "count  4.803000e+03    4803.000000  4803.000000  4.803000e+03  4801.000000   \n",
       "mean   2.904504e+07   57165.484281    21.492301  8.226064e+07   106.875859   \n",
       "std    4.072239e+07   88694.614033    31.816650  1.628571e+08    22.611935   \n",
       "min    0.000000e+00       5.000000     0.000000  0.000000e+00     0.000000   \n",
       "25%    7.900000e+05    9014.500000     4.668070  0.000000e+00    94.000000   \n",
       "50%    1.500000e+07   14629.000000    12.921594  1.917000e+07   103.000000   \n",
       "75%    4.000000e+07   58610.500000    28.313505  9.291719e+07   118.000000   \n",
       "max    3.800000e+08  459488.000000   875.581305  2.787965e+09   338.000000   \n",
       "\n",
       "       vote_average    vote_count  \n",
       "count   4803.000000   4803.000000  \n",
       "mean       6.092172    690.217989  \n",
       "std        1.194612   1234.585891  \n",
       "min        0.000000      0.000000  \n",
       "25%        5.600000     54.000000  \n",
       "50%        6.200000    235.000000  \n",
       "75%        6.800000    737.000000  \n",
       "max       10.000000  13752.000000  "
      ]
     },
     "execution_count": 5,
     "metadata": {},
     "output_type": "execute_result"
    }
   ],
   "source": [
    "df.describe()"
   ]
  },
  {
   "cell_type": "code",
   "execution_count": 6,
   "id": "5940178a",
   "metadata": {
    "execution": {
     "iopub.execute_input": "2023-12-29T13:09:34.006616Z",
     "iopub.status.busy": "2023-12-29T13:09:34.006057Z",
     "iopub.status.idle": "2023-12-29T13:09:34.047009Z",
     "shell.execute_reply": "2023-12-29T13:09:34.045635Z"
    },
    "papermill": {
     "duration": 0.05654,
     "end_time": "2023-12-29T13:09:34.050165",
     "exception": false,
     "start_time": "2023-12-29T13:09:33.993625",
     "status": "completed"
    },
    "tags": []
   },
   "outputs": [
    {
     "name": "stdout",
     "output_type": "stream",
     "text": [
      "<class 'pandas.core.frame.DataFrame'>\n",
      "RangeIndex: 4803 entries, 0 to 4802\n",
      "Data columns (total 20 columns):\n",
      " #   Column                Non-Null Count  Dtype  \n",
      "---  ------                --------------  -----  \n",
      " 0   budget                4803 non-null   int64  \n",
      " 1   genres                4803 non-null   object \n",
      " 2   homepage              1712 non-null   object \n",
      " 3   id                    4803 non-null   int64  \n",
      " 4   keywords              4803 non-null   object \n",
      " 5   original_language     4803 non-null   object \n",
      " 6   original_title        4803 non-null   object \n",
      " 7   overview              4800 non-null   object \n",
      " 8   popularity            4803 non-null   float64\n",
      " 9   production_companies  4803 non-null   object \n",
      " 10  production_countries  4803 non-null   object \n",
      " 11  release_date          4802 non-null   object \n",
      " 12  revenue               4803 non-null   int64  \n",
      " 13  runtime               4801 non-null   float64\n",
      " 14  spoken_languages      4803 non-null   object \n",
      " 15  status                4803 non-null   object \n",
      " 16  tagline               3959 non-null   object \n",
      " 17  title                 4803 non-null   object \n",
      " 18  vote_average          4803 non-null   float64\n",
      " 19  vote_count            4803 non-null   int64  \n",
      "dtypes: float64(3), int64(4), object(13)\n",
      "memory usage: 750.6+ KB\n"
     ]
    }
   ],
   "source": [
    "df.info()"
   ]
  },
  {
   "cell_type": "code",
   "execution_count": 7,
   "id": "70041d39",
   "metadata": {
    "execution": {
     "iopub.execute_input": "2023-12-29T13:09:34.073442Z",
     "iopub.status.busy": "2023-12-29T13:09:34.072931Z",
     "iopub.status.idle": "2023-12-29T13:09:34.081317Z",
     "shell.execute_reply": "2023-12-29T13:09:34.080166Z"
    },
    "papermill": {
     "duration": 0.023264,
     "end_time": "2023-12-29T13:09:34.084098",
     "exception": false,
     "start_time": "2023-12-29T13:09:34.060834",
     "status": "completed"
    },
    "tags": []
   },
   "outputs": [
    {
     "data": {
      "text/plain": [
       "Index(['budget', 'genres', 'homepage', 'id', 'keywords', 'original_language',\n",
       "       'original_title', 'overview', 'popularity', 'production_companies',\n",
       "       'production_countries', 'release_date', 'revenue', 'runtime',\n",
       "       'spoken_languages', 'status', 'tagline', 'title', 'vote_average',\n",
       "       'vote_count'],\n",
       "      dtype='object')"
      ]
     },
     "execution_count": 7,
     "metadata": {},
     "output_type": "execute_result"
    }
   ],
   "source": [
    "df.columns"
   ]
  },
  {
   "cell_type": "code",
   "execution_count": 8,
   "id": "5b7727a0",
   "metadata": {
    "execution": {
     "iopub.execute_input": "2023-12-29T13:09:34.107105Z",
     "iopub.status.busy": "2023-12-29T13:09:34.106643Z",
     "iopub.status.idle": "2023-12-29T13:09:34.117917Z",
     "shell.execute_reply": "2023-12-29T13:09:34.116656Z"
    },
    "papermill": {
     "duration": 0.025758,
     "end_time": "2023-12-29T13:09:34.120352",
     "exception": false,
     "start_time": "2023-12-29T13:09:34.094594",
     "status": "completed"
    },
    "tags": []
   },
   "outputs": [],
   "source": [
    "movies = df[['id', 'keywords', 'overview', 'title', 'genres']]"
   ]
  },
  {
   "cell_type": "code",
   "execution_count": 9,
   "id": "e2885d23",
   "metadata": {
    "execution": {
     "iopub.execute_input": "2023-12-29T13:09:34.143688Z",
     "iopub.status.busy": "2023-12-29T13:09:34.143148Z",
     "iopub.status.idle": "2023-12-29T13:09:34.161240Z",
     "shell.execute_reply": "2023-12-29T13:09:34.159897Z"
    },
    "papermill": {
     "duration": 0.033093,
     "end_time": "2023-12-29T13:09:34.163778",
     "exception": false,
     "start_time": "2023-12-29T13:09:34.130685",
     "status": "completed"
    },
    "tags": []
   },
   "outputs": [
    {
     "data": {
      "text/html": [
       "<div>\n",
       "<style scoped>\n",
       "    .dataframe tbody tr th:only-of-type {\n",
       "        vertical-align: middle;\n",
       "    }\n",
       "\n",
       "    .dataframe tbody tr th {\n",
       "        vertical-align: top;\n",
       "    }\n",
       "\n",
       "    .dataframe thead th {\n",
       "        text-align: right;\n",
       "    }\n",
       "</style>\n",
       "<table border=\"1\" class=\"dataframe\">\n",
       "  <thead>\n",
       "    <tr style=\"text-align: right;\">\n",
       "      <th></th>\n",
       "      <th>id</th>\n",
       "      <th>keywords</th>\n",
       "      <th>overview</th>\n",
       "      <th>title</th>\n",
       "      <th>genres</th>\n",
       "    </tr>\n",
       "  </thead>\n",
       "  <tbody>\n",
       "    <tr>\n",
       "      <th>0</th>\n",
       "      <td>19995</td>\n",
       "      <td>[{\"id\": 1463, \"name\": \"culture clash\"}, {\"id\":...</td>\n",
       "      <td>In the 22nd century, a paraplegic Marine is di...</td>\n",
       "      <td>Avatar</td>\n",
       "      <td>[{\"id\": 28, \"name\": \"Action\"}, {\"id\": 12, \"nam...</td>\n",
       "    </tr>\n",
       "    <tr>\n",
       "      <th>1</th>\n",
       "      <td>285</td>\n",
       "      <td>[{\"id\": 270, \"name\": \"ocean\"}, {\"id\": 726, \"na...</td>\n",
       "      <td>Captain Barbossa, long believed to be dead, ha...</td>\n",
       "      <td>Pirates of the Caribbean: At World's End</td>\n",
       "      <td>[{\"id\": 12, \"name\": \"Adventure\"}, {\"id\": 14, \"...</td>\n",
       "    </tr>\n",
       "    <tr>\n",
       "      <th>2</th>\n",
       "      <td>206647</td>\n",
       "      <td>[{\"id\": 470, \"name\": \"spy\"}, {\"id\": 818, \"name...</td>\n",
       "      <td>A cryptic message from Bond’s past sends him o...</td>\n",
       "      <td>Spectre</td>\n",
       "      <td>[{\"id\": 28, \"name\": \"Action\"}, {\"id\": 12, \"nam...</td>\n",
       "    </tr>\n",
       "    <tr>\n",
       "      <th>3</th>\n",
       "      <td>49026</td>\n",
       "      <td>[{\"id\": 849, \"name\": \"dc comics\"}, {\"id\": 853,...</td>\n",
       "      <td>Following the death of District Attorney Harve...</td>\n",
       "      <td>The Dark Knight Rises</td>\n",
       "      <td>[{\"id\": 28, \"name\": \"Action\"}, {\"id\": 80, \"nam...</td>\n",
       "    </tr>\n",
       "    <tr>\n",
       "      <th>4</th>\n",
       "      <td>49529</td>\n",
       "      <td>[{\"id\": 818, \"name\": \"based on novel\"}, {\"id\":...</td>\n",
       "      <td>John Carter is a war-weary, former military ca...</td>\n",
       "      <td>John Carter</td>\n",
       "      <td>[{\"id\": 28, \"name\": \"Action\"}, {\"id\": 12, \"nam...</td>\n",
       "    </tr>\n",
       "    <tr>\n",
       "      <th>...</th>\n",
       "      <td>...</td>\n",
       "      <td>...</td>\n",
       "      <td>...</td>\n",
       "      <td>...</td>\n",
       "      <td>...</td>\n",
       "    </tr>\n",
       "    <tr>\n",
       "      <th>4798</th>\n",
       "      <td>9367</td>\n",
       "      <td>[{\"id\": 5616, \"name\": \"united states\\u2013mexi...</td>\n",
       "      <td>El Mariachi just wants to play his guitar and ...</td>\n",
       "      <td>El Mariachi</td>\n",
       "      <td>[{\"id\": 28, \"name\": \"Action\"}, {\"id\": 80, \"nam...</td>\n",
       "    </tr>\n",
       "    <tr>\n",
       "      <th>4799</th>\n",
       "      <td>72766</td>\n",
       "      <td>[]</td>\n",
       "      <td>A newlywed couple's honeymoon is upended by th...</td>\n",
       "      <td>Newlyweds</td>\n",
       "      <td>[{\"id\": 35, \"name\": \"Comedy\"}, {\"id\": 10749, \"...</td>\n",
       "    </tr>\n",
       "    <tr>\n",
       "      <th>4800</th>\n",
       "      <td>231617</td>\n",
       "      <td>[{\"id\": 248, \"name\": \"date\"}, {\"id\": 699, \"nam...</td>\n",
       "      <td>\"Signed, Sealed, Delivered\" introduces a dedic...</td>\n",
       "      <td>Signed, Sealed, Delivered</td>\n",
       "      <td>[{\"id\": 35, \"name\": \"Comedy\"}, {\"id\": 18, \"nam...</td>\n",
       "    </tr>\n",
       "    <tr>\n",
       "      <th>4801</th>\n",
       "      <td>126186</td>\n",
       "      <td>[]</td>\n",
       "      <td>When ambitious New York attorney Sam is sent t...</td>\n",
       "      <td>Shanghai Calling</td>\n",
       "      <td>[]</td>\n",
       "    </tr>\n",
       "    <tr>\n",
       "      <th>4802</th>\n",
       "      <td>25975</td>\n",
       "      <td>[{\"id\": 1523, \"name\": \"obsession\"}, {\"id\": 224...</td>\n",
       "      <td>Ever since the second grade when he first saw ...</td>\n",
       "      <td>My Date with Drew</td>\n",
       "      <td>[{\"id\": 99, \"name\": \"Documentary\"}]</td>\n",
       "    </tr>\n",
       "  </tbody>\n",
       "</table>\n",
       "<p>4803 rows × 5 columns</p>\n",
       "</div>"
      ],
      "text/plain": [
       "          id                                           keywords  \\\n",
       "0      19995  [{\"id\": 1463, \"name\": \"culture clash\"}, {\"id\":...   \n",
       "1        285  [{\"id\": 270, \"name\": \"ocean\"}, {\"id\": 726, \"na...   \n",
       "2     206647  [{\"id\": 470, \"name\": \"spy\"}, {\"id\": 818, \"name...   \n",
       "3      49026  [{\"id\": 849, \"name\": \"dc comics\"}, {\"id\": 853,...   \n",
       "4      49529  [{\"id\": 818, \"name\": \"based on novel\"}, {\"id\":...   \n",
       "...      ...                                                ...   \n",
       "4798    9367  [{\"id\": 5616, \"name\": \"united states\\u2013mexi...   \n",
       "4799   72766                                                 []   \n",
       "4800  231617  [{\"id\": 248, \"name\": \"date\"}, {\"id\": 699, \"nam...   \n",
       "4801  126186                                                 []   \n",
       "4802   25975  [{\"id\": 1523, \"name\": \"obsession\"}, {\"id\": 224...   \n",
       "\n",
       "                                               overview  \\\n",
       "0     In the 22nd century, a paraplegic Marine is di...   \n",
       "1     Captain Barbossa, long believed to be dead, ha...   \n",
       "2     A cryptic message from Bond’s past sends him o...   \n",
       "3     Following the death of District Attorney Harve...   \n",
       "4     John Carter is a war-weary, former military ca...   \n",
       "...                                                 ...   \n",
       "4798  El Mariachi just wants to play his guitar and ...   \n",
       "4799  A newlywed couple's honeymoon is upended by th...   \n",
       "4800  \"Signed, Sealed, Delivered\" introduces a dedic...   \n",
       "4801  When ambitious New York attorney Sam is sent t...   \n",
       "4802  Ever since the second grade when he first saw ...   \n",
       "\n",
       "                                         title  \\\n",
       "0                                       Avatar   \n",
       "1     Pirates of the Caribbean: At World's End   \n",
       "2                                      Spectre   \n",
       "3                        The Dark Knight Rises   \n",
       "4                                  John Carter   \n",
       "...                                        ...   \n",
       "4798                               El Mariachi   \n",
       "4799                                 Newlyweds   \n",
       "4800                 Signed, Sealed, Delivered   \n",
       "4801                          Shanghai Calling   \n",
       "4802                         My Date with Drew   \n",
       "\n",
       "                                                 genres  \n",
       "0     [{\"id\": 28, \"name\": \"Action\"}, {\"id\": 12, \"nam...  \n",
       "1     [{\"id\": 12, \"name\": \"Adventure\"}, {\"id\": 14, \"...  \n",
       "2     [{\"id\": 28, \"name\": \"Action\"}, {\"id\": 12, \"nam...  \n",
       "3     [{\"id\": 28, \"name\": \"Action\"}, {\"id\": 80, \"nam...  \n",
       "4     [{\"id\": 28, \"name\": \"Action\"}, {\"id\": 12, \"nam...  \n",
       "...                                                 ...  \n",
       "4798  [{\"id\": 28, \"name\": \"Action\"}, {\"id\": 80, \"nam...  \n",
       "4799  [{\"id\": 35, \"name\": \"Comedy\"}, {\"id\": 10749, \"...  \n",
       "4800  [{\"id\": 35, \"name\": \"Comedy\"}, {\"id\": 18, \"nam...  \n",
       "4801                                                 []  \n",
       "4802                [{\"id\": 99, \"name\": \"Documentary\"}]  \n",
       "\n",
       "[4803 rows x 5 columns]"
      ]
     },
     "execution_count": 9,
     "metadata": {},
     "output_type": "execute_result"
    }
   ],
   "source": [
    "movies"
   ]
  },
  {
   "cell_type": "code",
   "execution_count": 10,
   "id": "b655e60d",
   "metadata": {
    "execution": {
     "iopub.execute_input": "2023-12-29T13:09:34.188110Z",
     "iopub.status.busy": "2023-12-29T13:09:34.187583Z",
     "iopub.status.idle": "2023-12-29T13:09:34.202553Z",
     "shell.execute_reply": "2023-12-29T13:09:34.201307Z"
    },
    "papermill": {
     "duration": 0.03047,
     "end_time": "2023-12-29T13:09:34.205580",
     "exception": false,
     "start_time": "2023-12-29T13:09:34.175110",
     "status": "completed"
    },
    "tags": []
   },
   "outputs": [
    {
     "name": "stderr",
     "output_type": "stream",
     "text": [
      "/tmp/ipykernel_19/732695747.py:1: SettingWithCopyWarning: \n",
      "A value is trying to be set on a copy of a slice from a DataFrame.\n",
      "Try using .loc[row_indexer,col_indexer] = value instead\n",
      "\n",
      "See the caveats in the documentation: https://pandas.pydata.org/pandas-docs/stable/user_guide/indexing.html#returning-a-view-versus-a-copy\n",
      "  movies.loc[:,'tags'] = movies['title']+movies['overview']\n"
     ]
    }
   ],
   "source": [
    "movies.loc[:,'tags'] = movies['title']+movies['overview']"
   ]
  },
  {
   "cell_type": "code",
   "execution_count": 11,
   "id": "167f3bf2",
   "metadata": {
    "execution": {
     "iopub.execute_input": "2023-12-29T13:09:34.229534Z",
     "iopub.status.busy": "2023-12-29T13:09:34.228985Z",
     "iopub.status.idle": "2023-12-29T13:09:34.247876Z",
     "shell.execute_reply": "2023-12-29T13:09:34.246627Z"
    },
    "papermill": {
     "duration": 0.03444,
     "end_time": "2023-12-29T13:09:34.250964",
     "exception": false,
     "start_time": "2023-12-29T13:09:34.216524",
     "status": "completed"
    },
    "tags": []
   },
   "outputs": [
    {
     "data": {
      "text/html": [
       "<div>\n",
       "<style scoped>\n",
       "    .dataframe tbody tr th:only-of-type {\n",
       "        vertical-align: middle;\n",
       "    }\n",
       "\n",
       "    .dataframe tbody tr th {\n",
       "        vertical-align: top;\n",
       "    }\n",
       "\n",
       "    .dataframe thead th {\n",
       "        text-align: right;\n",
       "    }\n",
       "</style>\n",
       "<table border=\"1\" class=\"dataframe\">\n",
       "  <thead>\n",
       "    <tr style=\"text-align: right;\">\n",
       "      <th></th>\n",
       "      <th>id</th>\n",
       "      <th>keywords</th>\n",
       "      <th>overview</th>\n",
       "      <th>title</th>\n",
       "      <th>genres</th>\n",
       "      <th>tags</th>\n",
       "    </tr>\n",
       "  </thead>\n",
       "  <tbody>\n",
       "    <tr>\n",
       "      <th>0</th>\n",
       "      <td>19995</td>\n",
       "      <td>[{\"id\": 1463, \"name\": \"culture clash\"}, {\"id\":...</td>\n",
       "      <td>In the 22nd century, a paraplegic Marine is di...</td>\n",
       "      <td>Avatar</td>\n",
       "      <td>[{\"id\": 28, \"name\": \"Action\"}, {\"id\": 12, \"nam...</td>\n",
       "      <td>AvatarIn the 22nd century, a paraplegic Marine...</td>\n",
       "    </tr>\n",
       "    <tr>\n",
       "      <th>1</th>\n",
       "      <td>285</td>\n",
       "      <td>[{\"id\": 270, \"name\": \"ocean\"}, {\"id\": 726, \"na...</td>\n",
       "      <td>Captain Barbossa, long believed to be dead, ha...</td>\n",
       "      <td>Pirates of the Caribbean: At World's End</td>\n",
       "      <td>[{\"id\": 12, \"name\": \"Adventure\"}, {\"id\": 14, \"...</td>\n",
       "      <td>Pirates of the Caribbean: At World's EndCaptai...</td>\n",
       "    </tr>\n",
       "    <tr>\n",
       "      <th>2</th>\n",
       "      <td>206647</td>\n",
       "      <td>[{\"id\": 470, \"name\": \"spy\"}, {\"id\": 818, \"name...</td>\n",
       "      <td>A cryptic message from Bond’s past sends him o...</td>\n",
       "      <td>Spectre</td>\n",
       "      <td>[{\"id\": 28, \"name\": \"Action\"}, {\"id\": 12, \"nam...</td>\n",
       "      <td>SpectreA cryptic message from Bond’s past send...</td>\n",
       "    </tr>\n",
       "    <tr>\n",
       "      <th>3</th>\n",
       "      <td>49026</td>\n",
       "      <td>[{\"id\": 849, \"name\": \"dc comics\"}, {\"id\": 853,...</td>\n",
       "      <td>Following the death of District Attorney Harve...</td>\n",
       "      <td>The Dark Knight Rises</td>\n",
       "      <td>[{\"id\": 28, \"name\": \"Action\"}, {\"id\": 80, \"nam...</td>\n",
       "      <td>The Dark Knight RisesFollowing the death of Di...</td>\n",
       "    </tr>\n",
       "    <tr>\n",
       "      <th>4</th>\n",
       "      <td>49529</td>\n",
       "      <td>[{\"id\": 818, \"name\": \"based on novel\"}, {\"id\":...</td>\n",
       "      <td>John Carter is a war-weary, former military ca...</td>\n",
       "      <td>John Carter</td>\n",
       "      <td>[{\"id\": 28, \"name\": \"Action\"}, {\"id\": 12, \"nam...</td>\n",
       "      <td>John CarterJohn Carter is a war-weary, former ...</td>\n",
       "    </tr>\n",
       "    <tr>\n",
       "      <th>...</th>\n",
       "      <td>...</td>\n",
       "      <td>...</td>\n",
       "      <td>...</td>\n",
       "      <td>...</td>\n",
       "      <td>...</td>\n",
       "      <td>...</td>\n",
       "    </tr>\n",
       "    <tr>\n",
       "      <th>4798</th>\n",
       "      <td>9367</td>\n",
       "      <td>[{\"id\": 5616, \"name\": \"united states\\u2013mexi...</td>\n",
       "      <td>El Mariachi just wants to play his guitar and ...</td>\n",
       "      <td>El Mariachi</td>\n",
       "      <td>[{\"id\": 28, \"name\": \"Action\"}, {\"id\": 80, \"nam...</td>\n",
       "      <td>El MariachiEl Mariachi just wants to play his ...</td>\n",
       "    </tr>\n",
       "    <tr>\n",
       "      <th>4799</th>\n",
       "      <td>72766</td>\n",
       "      <td>[]</td>\n",
       "      <td>A newlywed couple's honeymoon is upended by th...</td>\n",
       "      <td>Newlyweds</td>\n",
       "      <td>[{\"id\": 35, \"name\": \"Comedy\"}, {\"id\": 10749, \"...</td>\n",
       "      <td>NewlywedsA newlywed couple's honeymoon is upen...</td>\n",
       "    </tr>\n",
       "    <tr>\n",
       "      <th>4800</th>\n",
       "      <td>231617</td>\n",
       "      <td>[{\"id\": 248, \"name\": \"date\"}, {\"id\": 699, \"nam...</td>\n",
       "      <td>\"Signed, Sealed, Delivered\" introduces a dedic...</td>\n",
       "      <td>Signed, Sealed, Delivered</td>\n",
       "      <td>[{\"id\": 35, \"name\": \"Comedy\"}, {\"id\": 18, \"nam...</td>\n",
       "      <td>Signed, Sealed, Delivered\"Signed, Sealed, Deli...</td>\n",
       "    </tr>\n",
       "    <tr>\n",
       "      <th>4801</th>\n",
       "      <td>126186</td>\n",
       "      <td>[]</td>\n",
       "      <td>When ambitious New York attorney Sam is sent t...</td>\n",
       "      <td>Shanghai Calling</td>\n",
       "      <td>[]</td>\n",
       "      <td>Shanghai CallingWhen ambitious New York attorn...</td>\n",
       "    </tr>\n",
       "    <tr>\n",
       "      <th>4802</th>\n",
       "      <td>25975</td>\n",
       "      <td>[{\"id\": 1523, \"name\": \"obsession\"}, {\"id\": 224...</td>\n",
       "      <td>Ever since the second grade when he first saw ...</td>\n",
       "      <td>My Date with Drew</td>\n",
       "      <td>[{\"id\": 99, \"name\": \"Documentary\"}]</td>\n",
       "      <td>My Date with DrewEver since the second grade w...</td>\n",
       "    </tr>\n",
       "  </tbody>\n",
       "</table>\n",
       "<p>4803 rows × 6 columns</p>\n",
       "</div>"
      ],
      "text/plain": [
       "          id                                           keywords  \\\n",
       "0      19995  [{\"id\": 1463, \"name\": \"culture clash\"}, {\"id\":...   \n",
       "1        285  [{\"id\": 270, \"name\": \"ocean\"}, {\"id\": 726, \"na...   \n",
       "2     206647  [{\"id\": 470, \"name\": \"spy\"}, {\"id\": 818, \"name...   \n",
       "3      49026  [{\"id\": 849, \"name\": \"dc comics\"}, {\"id\": 853,...   \n",
       "4      49529  [{\"id\": 818, \"name\": \"based on novel\"}, {\"id\":...   \n",
       "...      ...                                                ...   \n",
       "4798    9367  [{\"id\": 5616, \"name\": \"united states\\u2013mexi...   \n",
       "4799   72766                                                 []   \n",
       "4800  231617  [{\"id\": 248, \"name\": \"date\"}, {\"id\": 699, \"nam...   \n",
       "4801  126186                                                 []   \n",
       "4802   25975  [{\"id\": 1523, \"name\": \"obsession\"}, {\"id\": 224...   \n",
       "\n",
       "                                               overview  \\\n",
       "0     In the 22nd century, a paraplegic Marine is di...   \n",
       "1     Captain Barbossa, long believed to be dead, ha...   \n",
       "2     A cryptic message from Bond’s past sends him o...   \n",
       "3     Following the death of District Attorney Harve...   \n",
       "4     John Carter is a war-weary, former military ca...   \n",
       "...                                                 ...   \n",
       "4798  El Mariachi just wants to play his guitar and ...   \n",
       "4799  A newlywed couple's honeymoon is upended by th...   \n",
       "4800  \"Signed, Sealed, Delivered\" introduces a dedic...   \n",
       "4801  When ambitious New York attorney Sam is sent t...   \n",
       "4802  Ever since the second grade when he first saw ...   \n",
       "\n",
       "                                         title  \\\n",
       "0                                       Avatar   \n",
       "1     Pirates of the Caribbean: At World's End   \n",
       "2                                      Spectre   \n",
       "3                        The Dark Knight Rises   \n",
       "4                                  John Carter   \n",
       "...                                        ...   \n",
       "4798                               El Mariachi   \n",
       "4799                                 Newlyweds   \n",
       "4800                 Signed, Sealed, Delivered   \n",
       "4801                          Shanghai Calling   \n",
       "4802                         My Date with Drew   \n",
       "\n",
       "                                                 genres  \\\n",
       "0     [{\"id\": 28, \"name\": \"Action\"}, {\"id\": 12, \"nam...   \n",
       "1     [{\"id\": 12, \"name\": \"Adventure\"}, {\"id\": 14, \"...   \n",
       "2     [{\"id\": 28, \"name\": \"Action\"}, {\"id\": 12, \"nam...   \n",
       "3     [{\"id\": 28, \"name\": \"Action\"}, {\"id\": 80, \"nam...   \n",
       "4     [{\"id\": 28, \"name\": \"Action\"}, {\"id\": 12, \"nam...   \n",
       "...                                                 ...   \n",
       "4798  [{\"id\": 28, \"name\": \"Action\"}, {\"id\": 80, \"nam...   \n",
       "4799  [{\"id\": 35, \"name\": \"Comedy\"}, {\"id\": 10749, \"...   \n",
       "4800  [{\"id\": 35, \"name\": \"Comedy\"}, {\"id\": 18, \"nam...   \n",
       "4801                                                 []   \n",
       "4802                [{\"id\": 99, \"name\": \"Documentary\"}]   \n",
       "\n",
       "                                                   tags  \n",
       "0     AvatarIn the 22nd century, a paraplegic Marine...  \n",
       "1     Pirates of the Caribbean: At World's EndCaptai...  \n",
       "2     SpectreA cryptic message from Bond’s past send...  \n",
       "3     The Dark Knight RisesFollowing the death of Di...  \n",
       "4     John CarterJohn Carter is a war-weary, former ...  \n",
       "...                                                 ...  \n",
       "4798  El MariachiEl Mariachi just wants to play his ...  \n",
       "4799  NewlywedsA newlywed couple's honeymoon is upen...  \n",
       "4800  Signed, Sealed, Delivered\"Signed, Sealed, Deli...  \n",
       "4801  Shanghai CallingWhen ambitious New York attorn...  \n",
       "4802  My Date with DrewEver since the second grade w...  \n",
       "\n",
       "[4803 rows x 6 columns]"
      ]
     },
     "execution_count": 11,
     "metadata": {},
     "output_type": "execute_result"
    }
   ],
   "source": [
    "movies"
   ]
  },
  {
   "cell_type": "code",
   "execution_count": 12,
   "id": "264bd542",
   "metadata": {
    "execution": {
     "iopub.execute_input": "2023-12-29T13:09:34.276435Z",
     "iopub.status.busy": "2023-12-29T13:09:34.275619Z",
     "iopub.status.idle": "2023-12-29T13:09:34.283949Z",
     "shell.execute_reply": "2023-12-29T13:09:34.282679Z"
    },
    "papermill": {
     "duration": 0.024243,
     "end_time": "2023-12-29T13:09:34.286790",
     "exception": false,
     "start_time": "2023-12-29T13:09:34.262547",
     "status": "completed"
    },
    "tags": []
   },
   "outputs": [
    {
     "data": {
      "text/plain": [
       "0"
      ]
     },
     "execution_count": 12,
     "metadata": {},
     "output_type": "execute_result"
    }
   ],
   "source": [
    "movies['genres'].index[0]"
   ]
  },
  {
   "cell_type": "code",
   "execution_count": 13,
   "id": "3b4798a3",
   "metadata": {
    "execution": {
     "iopub.execute_input": "2023-12-29T13:09:34.311939Z",
     "iopub.status.busy": "2023-12-29T13:09:34.310992Z",
     "iopub.status.idle": "2023-12-29T13:09:34.319922Z",
     "shell.execute_reply": "2023-12-29T13:09:34.317826Z"
    },
    "papermill": {
     "duration": 0.025817,
     "end_time": "2023-12-29T13:09:34.323967",
     "exception": false,
     "start_time": "2023-12-29T13:09:34.298150",
     "status": "completed"
    },
    "tags": []
   },
   "outputs": [],
   "source": [
    "movies_df = movies.drop(columns=['keywords','overview','genres'])"
   ]
  },
  {
   "cell_type": "code",
   "execution_count": 14,
   "id": "ec476f84",
   "metadata": {
    "execution": {
     "iopub.execute_input": "2023-12-29T13:09:34.350665Z",
     "iopub.status.busy": "2023-12-29T13:09:34.349290Z",
     "iopub.status.idle": "2023-12-29T13:09:34.367010Z",
     "shell.execute_reply": "2023-12-29T13:09:34.365690Z"
    },
    "papermill": {
     "duration": 0.03376,
     "end_time": "2023-12-29T13:09:34.369961",
     "exception": false,
     "start_time": "2023-12-29T13:09:34.336201",
     "status": "completed"
    },
    "tags": []
   },
   "outputs": [
    {
     "data": {
      "text/html": [
       "<div>\n",
       "<style scoped>\n",
       "    .dataframe tbody tr th:only-of-type {\n",
       "        vertical-align: middle;\n",
       "    }\n",
       "\n",
       "    .dataframe tbody tr th {\n",
       "        vertical-align: top;\n",
       "    }\n",
       "\n",
       "    .dataframe thead th {\n",
       "        text-align: right;\n",
       "    }\n",
       "</style>\n",
       "<table border=\"1\" class=\"dataframe\">\n",
       "  <thead>\n",
       "    <tr style=\"text-align: right;\">\n",
       "      <th></th>\n",
       "      <th>id</th>\n",
       "      <th>title</th>\n",
       "      <th>tags</th>\n",
       "    </tr>\n",
       "  </thead>\n",
       "  <tbody>\n",
       "    <tr>\n",
       "      <th>0</th>\n",
       "      <td>19995</td>\n",
       "      <td>Avatar</td>\n",
       "      <td>AvatarIn the 22nd century, a paraplegic Marine...</td>\n",
       "    </tr>\n",
       "    <tr>\n",
       "      <th>1</th>\n",
       "      <td>285</td>\n",
       "      <td>Pirates of the Caribbean: At World's End</td>\n",
       "      <td>Pirates of the Caribbean: At World's EndCaptai...</td>\n",
       "    </tr>\n",
       "    <tr>\n",
       "      <th>2</th>\n",
       "      <td>206647</td>\n",
       "      <td>Spectre</td>\n",
       "      <td>SpectreA cryptic message from Bond’s past send...</td>\n",
       "    </tr>\n",
       "    <tr>\n",
       "      <th>3</th>\n",
       "      <td>49026</td>\n",
       "      <td>The Dark Knight Rises</td>\n",
       "      <td>The Dark Knight RisesFollowing the death of Di...</td>\n",
       "    </tr>\n",
       "    <tr>\n",
       "      <th>4</th>\n",
       "      <td>49529</td>\n",
       "      <td>John Carter</td>\n",
       "      <td>John CarterJohn Carter is a war-weary, former ...</td>\n",
       "    </tr>\n",
       "    <tr>\n",
       "      <th>...</th>\n",
       "      <td>...</td>\n",
       "      <td>...</td>\n",
       "      <td>...</td>\n",
       "    </tr>\n",
       "    <tr>\n",
       "      <th>4798</th>\n",
       "      <td>9367</td>\n",
       "      <td>El Mariachi</td>\n",
       "      <td>El MariachiEl Mariachi just wants to play his ...</td>\n",
       "    </tr>\n",
       "    <tr>\n",
       "      <th>4799</th>\n",
       "      <td>72766</td>\n",
       "      <td>Newlyweds</td>\n",
       "      <td>NewlywedsA newlywed couple's honeymoon is upen...</td>\n",
       "    </tr>\n",
       "    <tr>\n",
       "      <th>4800</th>\n",
       "      <td>231617</td>\n",
       "      <td>Signed, Sealed, Delivered</td>\n",
       "      <td>Signed, Sealed, Delivered\"Signed, Sealed, Deli...</td>\n",
       "    </tr>\n",
       "    <tr>\n",
       "      <th>4801</th>\n",
       "      <td>126186</td>\n",
       "      <td>Shanghai Calling</td>\n",
       "      <td>Shanghai CallingWhen ambitious New York attorn...</td>\n",
       "    </tr>\n",
       "    <tr>\n",
       "      <th>4802</th>\n",
       "      <td>25975</td>\n",
       "      <td>My Date with Drew</td>\n",
       "      <td>My Date with DrewEver since the second grade w...</td>\n",
       "    </tr>\n",
       "  </tbody>\n",
       "</table>\n",
       "<p>4803 rows × 3 columns</p>\n",
       "</div>"
      ],
      "text/plain": [
       "          id                                     title  \\\n",
       "0      19995                                    Avatar   \n",
       "1        285  Pirates of the Caribbean: At World's End   \n",
       "2     206647                                   Spectre   \n",
       "3      49026                     The Dark Knight Rises   \n",
       "4      49529                               John Carter   \n",
       "...      ...                                       ...   \n",
       "4798    9367                               El Mariachi   \n",
       "4799   72766                                 Newlyweds   \n",
       "4800  231617                 Signed, Sealed, Delivered   \n",
       "4801  126186                          Shanghai Calling   \n",
       "4802   25975                         My Date with Drew   \n",
       "\n",
       "                                                   tags  \n",
       "0     AvatarIn the 22nd century, a paraplegic Marine...  \n",
       "1     Pirates of the Caribbean: At World's EndCaptai...  \n",
       "2     SpectreA cryptic message from Bond’s past send...  \n",
       "3     The Dark Knight RisesFollowing the death of Di...  \n",
       "4     John CarterJohn Carter is a war-weary, former ...  \n",
       "...                                                 ...  \n",
       "4798  El MariachiEl Mariachi just wants to play his ...  \n",
       "4799  NewlywedsA newlywed couple's honeymoon is upen...  \n",
       "4800  Signed, Sealed, Delivered\"Signed, Sealed, Deli...  \n",
       "4801  Shanghai CallingWhen ambitious New York attorn...  \n",
       "4802  My Date with DrewEver since the second grade w...  \n",
       "\n",
       "[4803 rows x 3 columns]"
      ]
     },
     "execution_count": 14,
     "metadata": {},
     "output_type": "execute_result"
    }
   ],
   "source": [
    "movies_df"
   ]
  },
  {
   "cell_type": "code",
   "execution_count": 15,
   "id": "81f80852",
   "metadata": {
    "execution": {
     "iopub.execute_input": "2023-12-29T13:09:34.397035Z",
     "iopub.status.busy": "2023-12-29T13:09:34.396518Z",
     "iopub.status.idle": "2023-12-29T13:09:34.402558Z",
     "shell.execute_reply": "2023-12-29T13:09:34.401394Z"
    },
    "papermill": {
     "duration": 0.023623,
     "end_time": "2023-12-29T13:09:34.405824",
     "exception": false,
     "start_time": "2023-12-29T13:09:34.382201",
     "status": "completed"
    },
    "tags": []
   },
   "outputs": [],
   "source": [
    "cv = CountVectorizer(max_features=5000, stop_words='english')"
   ]
  },
  {
   "cell_type": "code",
   "execution_count": 16,
   "id": "fe64d751",
   "metadata": {
    "execution": {
     "iopub.execute_input": "2023-12-29T13:09:34.433388Z",
     "iopub.status.busy": "2023-12-29T13:09:34.432517Z",
     "iopub.status.idle": "2023-12-29T13:09:35.099236Z",
     "shell.execute_reply": "2023-12-29T13:09:35.097930Z"
    },
    "papermill": {
     "duration": 0.683714,
     "end_time": "2023-12-29T13:09:35.102310",
     "exception": false,
     "start_time": "2023-12-29T13:09:34.418596",
     "status": "completed"
    },
    "tags": []
   },
   "outputs": [],
   "source": [
    "vector = cv.fit_transform(movies_df['tags'].values.astype('U')).toarray()"
   ]
  },
  {
   "cell_type": "code",
   "execution_count": 17,
   "id": "e1c8925e",
   "metadata": {
    "execution": {
     "iopub.execute_input": "2023-12-29T13:09:35.128585Z",
     "iopub.status.busy": "2023-12-29T13:09:35.127629Z",
     "iopub.status.idle": "2023-12-29T13:09:35.135493Z",
     "shell.execute_reply": "2023-12-29T13:09:35.134247Z"
    },
    "papermill": {
     "duration": 0.02421,
     "end_time": "2023-12-29T13:09:35.138321",
     "exception": false,
     "start_time": "2023-12-29T13:09:35.114111",
     "status": "completed"
    },
    "tags": []
   },
   "outputs": [
    {
     "data": {
      "text/plain": [
       "(4803, 5000)"
      ]
     },
     "execution_count": 17,
     "metadata": {},
     "output_type": "execute_result"
    }
   ],
   "source": [
    "vector.shape"
   ]
  },
  {
   "cell_type": "code",
   "execution_count": 18,
   "id": "cd5cdbfd",
   "metadata": {
    "execution": {
     "iopub.execute_input": "2023-12-29T13:09:35.165314Z",
     "iopub.status.busy": "2023-12-29T13:09:35.164429Z",
     "iopub.status.idle": "2023-12-29T13:09:37.821854Z",
     "shell.execute_reply": "2023-12-29T13:09:37.820542Z"
    },
    "papermill": {
     "duration": 2.674073,
     "end_time": "2023-12-29T13:09:37.824929",
     "exception": false,
     "start_time": "2023-12-29T13:09:35.150856",
     "status": "completed"
    },
    "tags": []
   },
   "outputs": [],
   "source": [
    "similarity = cosine_similarity(vector)"
   ]
  },
  {
   "cell_type": "code",
   "execution_count": 19,
   "id": "731f5266",
   "metadata": {
    "execution": {
     "iopub.execute_input": "2023-12-29T13:09:37.852689Z",
     "iopub.status.busy": "2023-12-29T13:09:37.851861Z",
     "iopub.status.idle": "2023-12-29T13:09:37.860535Z",
     "shell.execute_reply": "2023-12-29T13:09:37.859299Z"
    },
    "papermill": {
     "duration": 0.025951,
     "end_time": "2023-12-29T13:09:37.863007",
     "exception": false,
     "start_time": "2023-12-29T13:09:37.837056",
     "status": "completed"
    },
    "tags": []
   },
   "outputs": [
    {
     "data": {
      "text/plain": [
       "array([[1.        , 0.        , 0.        , ..., 0.        , 0.        ,\n",
       "        0.        ],\n",
       "       [0.        , 1.        , 0.        , ..., 0.0855921 , 0.        ,\n",
       "        0.        ],\n",
       "       [0.        , 0.        , 1.        , ..., 0.03494283, 0.        ,\n",
       "        0.        ],\n",
       "       ...,\n",
       "       [0.        , 0.0855921 , 0.03494283, ..., 1.        , 0.04721922,\n",
       "        0.02668803],\n",
       "       [0.        , 0.        , 0.        , ..., 0.04721922, 1.        ,\n",
       "        0.04914732],\n",
       "       [0.        , 0.        , 0.        , ..., 0.02668803, 0.04914732,\n",
       "        1.        ]])"
      ]
     },
     "execution_count": 19,
     "metadata": {},
     "output_type": "execute_result"
    }
   ],
   "source": [
    "similarity"
   ]
  },
  {
   "cell_type": "code",
   "execution_count": null,
   "id": "d64623d9",
   "metadata": {
    "papermill": {
     "duration": 0.014893,
     "end_time": "2023-12-29T13:09:37.890864",
     "exception": false,
     "start_time": "2023-12-29T13:09:37.875971",
     "status": "completed"
    },
    "tags": []
   },
   "outputs": [],
   "source": []
  }
 ],
 "metadata": {
  "kaggle": {
   "accelerator": "none",
   "dataSources": [
    {
     "datasetId": 1636,
     "sourceId": 792972,
     "sourceType": "datasetVersion"
    },
    {
     "datasetId": 138,
     "sourceId": 4508,
     "sourceType": "datasetVersion"
    }
   ],
   "dockerImageVersionId": 30626,
   "isGpuEnabled": false,
   "isInternetEnabled": true,
   "language": "python",
   "sourceType": "notebook"
  },
  "kernelspec": {
   "display_name": "Python 3",
   "language": "python",
   "name": "python3"
  },
  "language_info": {
   "codemirror_mode": {
    "name": "ipython",
    "version": 3
   },
   "file_extension": ".py",
   "mimetype": "text/x-python",
   "name": "python",
   "nbconvert_exporter": "python",
   "pygments_lexer": "ipython3",
   "version": "3.10.12"
  },
  "papermill": {
   "default_parameters": {},
   "duration": 15.098466,
   "end_time": "2023-12-29T13:09:38.931688",
   "environment_variables": {},
   "exception": null,
   "input_path": "__notebook__.ipynb",
   "output_path": "__notebook__.ipynb",
   "parameters": {},
   "start_time": "2023-12-29T13:09:23.833222",
   "version": "2.4.0"
  }
 },
 "nbformat": 4,
 "nbformat_minor": 5
}
