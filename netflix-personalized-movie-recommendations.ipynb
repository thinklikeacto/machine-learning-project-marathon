{
 "cells": [
  {
   "cell_type": "markdown",
   "id": "3ad6da14",
   "metadata": {
    "papermill": {
     "duration": 0.007908,
     "end_time": "2023-12-29T16:58:01.849224",
     "exception": false,
     "start_time": "2023-12-29T16:58:01.841316",
     "status": "completed"
    },
    "tags": []
   },
   "source": [
    "# Problem Statement\n",
    "Develop a machine learning model that provides personalized movie recommendations to Netflix users. The system should analyze user preferences and viewing history to suggest movies that align with their tastes and interests. The goal is to enhance user engagement and satisfaction by presenting a curated list of movies that are likely to be of interest to each individual user.\"\n",
    "\n",
    "Key aspects of this problem statement include:\n",
    "\n",
    "**Personalization**: The system must tailor recommendations to individual users based on their unique preferences and viewing history.\n",
    "\n",
    "**Data-Driven**: The recommendations should be based on data, such as user ratings, viewing patterns, and movie metadata (genres, directors, actors, etc.).\n",
    "\n",
    "**User Engagement**: The primary objective is to increase user engagement by suggesting movies that users are likely to enjoy and watch.\n",
    "\n",
    "**Scalability**: The system should be scalable, capable of handling a large number of users and movies.\n",
    "\n",
    "**Performance Metrics**: The effectiveness of the system should be measurable using appropriate metrics (e.g., accuracy of recommendations, user satisfaction, click-through rates).\n",
    "\n",
    "**Ethical Considerations**: The system should respect user privacy and comply with data usage regulations.\n",
    "\n",
    "Uses machine learning algorithms to recommend movies and TV shows based on user preferences and viewing history."
   ]
  },
  {
   "cell_type": "markdown",
   "id": "e3df3bbf",
   "metadata": {
    "papermill": {
     "duration": 0.007194,
     "end_time": "2023-12-29T16:58:01.863872",
     "exception": false,
     "start_time": "2023-12-29T16:58:01.856678",
     "status": "completed"
    },
    "tags": []
   },
   "source": [
    "# Understand the goals and expectations\n",
    "\n",
    "\n",
    "The project's goal is to enhance Netflix's user experience by providing personalized movie recommendations, increasing engagement and retention. It focuses on scalable, efficient algorithms that respect user privacy, continuously improve through feedback, and positively impact business metrics, while innovating in machine learning and recommendation systems."
   ]
  },
  {
   "cell_type": "code",
   "execution_count": 1,
   "id": "9dbef5dd",
   "metadata": {
    "_cell_guid": "b1076dfc-b9ad-4769-8c92-a6c4dae69d19",
    "_uuid": "8f2839f25d086af736a60e9eeb907d3b93b6e0e5",
    "execution": {
     "iopub.execute_input": "2023-12-29T16:58:01.879806Z",
     "iopub.status.busy": "2023-12-29T16:58:01.879178Z",
     "iopub.status.idle": "2023-12-29T16:58:03.807520Z",
     "shell.execute_reply": "2023-12-29T16:58:03.806377Z"
    },
    "papermill": {
     "duration": 1.939549,
     "end_time": "2023-12-29T16:58:03.810271",
     "exception": false,
     "start_time": "2023-12-29T16:58:01.870722",
     "status": "completed"
    },
    "tags": []
   },
   "outputs": [],
   "source": [
    "import numpy as np # linear algebra\n",
    "import pandas as pd # data processing, CSV file I/O (e.g. pd.read_csv)\n",
    "import matplotlib.pyplot as plt\n",
    "import seaborn as sns\n",
    "import json\n",
    "from sklearn.feature_extraction.text import CountVectorizer\n",
    "from sklearn.metrics.pairwise import cosine_similarity"
   ]
  },
  {
   "cell_type": "code",
   "execution_count": 2,
   "id": "7f9d8224",
   "metadata": {
    "execution": {
     "iopub.execute_input": "2023-12-29T16:58:03.826538Z",
     "iopub.status.busy": "2023-12-29T16:58:03.825975Z",
     "iopub.status.idle": "2023-12-29T16:58:03.844314Z",
     "shell.execute_reply": "2023-12-29T16:58:03.843527Z"
    },
    "papermill": {
     "duration": 0.029441,
     "end_time": "2023-12-29T16:58:03.846697",
     "exception": false,
     "start_time": "2023-12-29T16:58:03.817256",
     "status": "completed"
    },
    "tags": []
   },
   "outputs": [
    {
     "name": "stdout",
     "output_type": "stream",
     "text": [
      "/kaggle/input/tmdb-movie-metadata/tmdb_5000_movies.csv\n",
      "/kaggle/input/tmdb-movie-metadata/tmdb_5000_credits.csv\n",
      "/kaggle/input/netflix-prize-data/combined_data_3.txt\n",
      "/kaggle/input/netflix-prize-data/movie_titles.csv\n",
      "/kaggle/input/netflix-prize-data/combined_data_4.txt\n",
      "/kaggle/input/netflix-prize-data/combined_data_1.txt\n",
      "/kaggle/input/netflix-prize-data/README\n",
      "/kaggle/input/netflix-prize-data/probe.txt\n",
      "/kaggle/input/netflix-prize-data/combined_data_2.txt\n",
      "/kaggle/input/netflix-prize-data/qualifying.txt\n"
     ]
    }
   ],
   "source": [
    "# Input data files are available in the read-only \"../kaggle/working\" directory\n",
    "import os\n",
    "for dirname, _, filenames in os.walk('/kaggle/input'):\n",
    "    for filename in filenames:\n",
    "        print(os.path.join(dirname, filename))"
   ]
  },
  {
   "cell_type": "code",
   "execution_count": 3,
   "id": "866dcf1f",
   "metadata": {
    "execution": {
     "iopub.execute_input": "2023-12-29T16:58:03.863248Z",
     "iopub.status.busy": "2023-12-29T16:58:03.862522Z",
     "iopub.status.idle": "2023-12-29T16:58:04.031436Z",
     "shell.execute_reply": "2023-12-29T16:58:04.030534Z"
    },
    "papermill": {
     "duration": 0.179818,
     "end_time": "2023-12-29T16:58:04.033836",
     "exception": false,
     "start_time": "2023-12-29T16:58:03.854018",
     "status": "completed"
    },
    "tags": []
   },
   "outputs": [],
   "source": [
    "#df = pd.read_csv(\"/kaggle/input/netflix-prize-data/movie_titles.csv\", encoding='cp1252', sep=',')\n",
    "df = pd.read_csv(\"/kaggle/input/tmdb-movie-metadata/tmdb_5000_movies.csv\")"
   ]
  },
  {
   "cell_type": "code",
   "execution_count": 4,
   "id": "b8434e3f",
   "metadata": {
    "execution": {
     "iopub.execute_input": "2023-12-29T16:58:04.050259Z",
     "iopub.status.busy": "2023-12-29T16:58:04.049518Z",
     "iopub.status.idle": "2023-12-29T16:58:04.081903Z",
     "shell.execute_reply": "2023-12-29T16:58:04.080835Z"
    },
    "papermill": {
     "duration": 0.044341,
     "end_time": "2023-12-29T16:58:04.085254",
     "exception": false,
     "start_time": "2023-12-29T16:58:04.040913",
     "status": "completed"
    },
    "tags": []
   },
   "outputs": [
    {
     "data": {
      "text/html": [
       "<div>\n",
       "<style scoped>\n",
       "    .dataframe tbody tr th:only-of-type {\n",
       "        vertical-align: middle;\n",
       "    }\n",
       "\n",
       "    .dataframe tbody tr th {\n",
       "        vertical-align: top;\n",
       "    }\n",
       "\n",
       "    .dataframe thead th {\n",
       "        text-align: right;\n",
       "    }\n",
       "</style>\n",
       "<table border=\"1\" class=\"dataframe\">\n",
       "  <thead>\n",
       "    <tr style=\"text-align: right;\">\n",
       "      <th></th>\n",
       "      <th>budget</th>\n",
       "      <th>genres</th>\n",
       "      <th>homepage</th>\n",
       "      <th>id</th>\n",
       "      <th>keywords</th>\n",
       "      <th>original_language</th>\n",
       "      <th>original_title</th>\n",
       "      <th>overview</th>\n",
       "      <th>popularity</th>\n",
       "      <th>production_companies</th>\n",
       "      <th>production_countries</th>\n",
       "      <th>release_date</th>\n",
       "      <th>revenue</th>\n",
       "      <th>runtime</th>\n",
       "      <th>spoken_languages</th>\n",
       "      <th>status</th>\n",
       "      <th>tagline</th>\n",
       "      <th>title</th>\n",
       "      <th>vote_average</th>\n",
       "      <th>vote_count</th>\n",
       "    </tr>\n",
       "  </thead>\n",
       "  <tbody>\n",
       "    <tr>\n",
       "      <th>0</th>\n",
       "      <td>237000000</td>\n",
       "      <td>[{\"id\": 28, \"name\": \"Action\"}, {\"id\": 12, \"nam...</td>\n",
       "      <td>http://www.avatarmovie.com/</td>\n",
       "      <td>19995</td>\n",
       "      <td>[{\"id\": 1463, \"name\": \"culture clash\"}, {\"id\":...</td>\n",
       "      <td>en</td>\n",
       "      <td>Avatar</td>\n",
       "      <td>In the 22nd century, a paraplegic Marine is di...</td>\n",
       "      <td>150.437577</td>\n",
       "      <td>[{\"name\": \"Ingenious Film Partners\", \"id\": 289...</td>\n",
       "      <td>[{\"iso_3166_1\": \"US\", \"name\": \"United States o...</td>\n",
       "      <td>2009-12-10</td>\n",
       "      <td>2787965087</td>\n",
       "      <td>162.0</td>\n",
       "      <td>[{\"iso_639_1\": \"en\", \"name\": \"English\"}, {\"iso...</td>\n",
       "      <td>Released</td>\n",
       "      <td>Enter the World of Pandora.</td>\n",
       "      <td>Avatar</td>\n",
       "      <td>7.2</td>\n",
       "      <td>11800</td>\n",
       "    </tr>\n",
       "    <tr>\n",
       "      <th>1</th>\n",
       "      <td>300000000</td>\n",
       "      <td>[{\"id\": 12, \"name\": \"Adventure\"}, {\"id\": 14, \"...</td>\n",
       "      <td>http://disney.go.com/disneypictures/pirates/</td>\n",
       "      <td>285</td>\n",
       "      <td>[{\"id\": 270, \"name\": \"ocean\"}, {\"id\": 726, \"na...</td>\n",
       "      <td>en</td>\n",
       "      <td>Pirates of the Caribbean: At World's End</td>\n",
       "      <td>Captain Barbossa, long believed to be dead, ha...</td>\n",
       "      <td>139.082615</td>\n",
       "      <td>[{\"name\": \"Walt Disney Pictures\", \"id\": 2}, {\"...</td>\n",
       "      <td>[{\"iso_3166_1\": \"US\", \"name\": \"United States o...</td>\n",
       "      <td>2007-05-19</td>\n",
       "      <td>961000000</td>\n",
       "      <td>169.0</td>\n",
       "      <td>[{\"iso_639_1\": \"en\", \"name\": \"English\"}]</td>\n",
       "      <td>Released</td>\n",
       "      <td>At the end of the world, the adventure begins.</td>\n",
       "      <td>Pirates of the Caribbean: At World's End</td>\n",
       "      <td>6.9</td>\n",
       "      <td>4500</td>\n",
       "    </tr>\n",
       "    <tr>\n",
       "      <th>2</th>\n",
       "      <td>245000000</td>\n",
       "      <td>[{\"id\": 28, \"name\": \"Action\"}, {\"id\": 12, \"nam...</td>\n",
       "      <td>http://www.sonypictures.com/movies/spectre/</td>\n",
       "      <td>206647</td>\n",
       "      <td>[{\"id\": 470, \"name\": \"spy\"}, {\"id\": 818, \"name...</td>\n",
       "      <td>en</td>\n",
       "      <td>Spectre</td>\n",
       "      <td>A cryptic message from Bond’s past sends him o...</td>\n",
       "      <td>107.376788</td>\n",
       "      <td>[{\"name\": \"Columbia Pictures\", \"id\": 5}, {\"nam...</td>\n",
       "      <td>[{\"iso_3166_1\": \"GB\", \"name\": \"United Kingdom\"...</td>\n",
       "      <td>2015-10-26</td>\n",
       "      <td>880674609</td>\n",
       "      <td>148.0</td>\n",
       "      <td>[{\"iso_639_1\": \"fr\", \"name\": \"Fran\\u00e7ais\"},...</td>\n",
       "      <td>Released</td>\n",
       "      <td>A Plan No One Escapes</td>\n",
       "      <td>Spectre</td>\n",
       "      <td>6.3</td>\n",
       "      <td>4466</td>\n",
       "    </tr>\n",
       "    <tr>\n",
       "      <th>3</th>\n",
       "      <td>250000000</td>\n",
       "      <td>[{\"id\": 28, \"name\": \"Action\"}, {\"id\": 80, \"nam...</td>\n",
       "      <td>http://www.thedarkknightrises.com/</td>\n",
       "      <td>49026</td>\n",
       "      <td>[{\"id\": 849, \"name\": \"dc comics\"}, {\"id\": 853,...</td>\n",
       "      <td>en</td>\n",
       "      <td>The Dark Knight Rises</td>\n",
       "      <td>Following the death of District Attorney Harve...</td>\n",
       "      <td>112.312950</td>\n",
       "      <td>[{\"name\": \"Legendary Pictures\", \"id\": 923}, {\"...</td>\n",
       "      <td>[{\"iso_3166_1\": \"US\", \"name\": \"United States o...</td>\n",
       "      <td>2012-07-16</td>\n",
       "      <td>1084939099</td>\n",
       "      <td>165.0</td>\n",
       "      <td>[{\"iso_639_1\": \"en\", \"name\": \"English\"}]</td>\n",
       "      <td>Released</td>\n",
       "      <td>The Legend Ends</td>\n",
       "      <td>The Dark Knight Rises</td>\n",
       "      <td>7.6</td>\n",
       "      <td>9106</td>\n",
       "    </tr>\n",
       "    <tr>\n",
       "      <th>4</th>\n",
       "      <td>260000000</td>\n",
       "      <td>[{\"id\": 28, \"name\": \"Action\"}, {\"id\": 12, \"nam...</td>\n",
       "      <td>http://movies.disney.com/john-carter</td>\n",
       "      <td>49529</td>\n",
       "      <td>[{\"id\": 818, \"name\": \"based on novel\"}, {\"id\":...</td>\n",
       "      <td>en</td>\n",
       "      <td>John Carter</td>\n",
       "      <td>John Carter is a war-weary, former military ca...</td>\n",
       "      <td>43.926995</td>\n",
       "      <td>[{\"name\": \"Walt Disney Pictures\", \"id\": 2}]</td>\n",
       "      <td>[{\"iso_3166_1\": \"US\", \"name\": \"United States o...</td>\n",
       "      <td>2012-03-07</td>\n",
       "      <td>284139100</td>\n",
       "      <td>132.0</td>\n",
       "      <td>[{\"iso_639_1\": \"en\", \"name\": \"English\"}]</td>\n",
       "      <td>Released</td>\n",
       "      <td>Lost in our world, found in another.</td>\n",
       "      <td>John Carter</td>\n",
       "      <td>6.1</td>\n",
       "      <td>2124</td>\n",
       "    </tr>\n",
       "  </tbody>\n",
       "</table>\n",
       "</div>"
      ],
      "text/plain": [
       "      budget                                             genres  \\\n",
       "0  237000000  [{\"id\": 28, \"name\": \"Action\"}, {\"id\": 12, \"nam...   \n",
       "1  300000000  [{\"id\": 12, \"name\": \"Adventure\"}, {\"id\": 14, \"...   \n",
       "2  245000000  [{\"id\": 28, \"name\": \"Action\"}, {\"id\": 12, \"nam...   \n",
       "3  250000000  [{\"id\": 28, \"name\": \"Action\"}, {\"id\": 80, \"nam...   \n",
       "4  260000000  [{\"id\": 28, \"name\": \"Action\"}, {\"id\": 12, \"nam...   \n",
       "\n",
       "                                       homepage      id  \\\n",
       "0                   http://www.avatarmovie.com/   19995   \n",
       "1  http://disney.go.com/disneypictures/pirates/     285   \n",
       "2   http://www.sonypictures.com/movies/spectre/  206647   \n",
       "3            http://www.thedarkknightrises.com/   49026   \n",
       "4          http://movies.disney.com/john-carter   49529   \n",
       "\n",
       "                                            keywords original_language  \\\n",
       "0  [{\"id\": 1463, \"name\": \"culture clash\"}, {\"id\":...                en   \n",
       "1  [{\"id\": 270, \"name\": \"ocean\"}, {\"id\": 726, \"na...                en   \n",
       "2  [{\"id\": 470, \"name\": \"spy\"}, {\"id\": 818, \"name...                en   \n",
       "3  [{\"id\": 849, \"name\": \"dc comics\"}, {\"id\": 853,...                en   \n",
       "4  [{\"id\": 818, \"name\": \"based on novel\"}, {\"id\":...                en   \n",
       "\n",
       "                             original_title  \\\n",
       "0                                    Avatar   \n",
       "1  Pirates of the Caribbean: At World's End   \n",
       "2                                   Spectre   \n",
       "3                     The Dark Knight Rises   \n",
       "4                               John Carter   \n",
       "\n",
       "                                            overview  popularity  \\\n",
       "0  In the 22nd century, a paraplegic Marine is di...  150.437577   \n",
       "1  Captain Barbossa, long believed to be dead, ha...  139.082615   \n",
       "2  A cryptic message from Bond’s past sends him o...  107.376788   \n",
       "3  Following the death of District Attorney Harve...  112.312950   \n",
       "4  John Carter is a war-weary, former military ca...   43.926995   \n",
       "\n",
       "                                production_companies  \\\n",
       "0  [{\"name\": \"Ingenious Film Partners\", \"id\": 289...   \n",
       "1  [{\"name\": \"Walt Disney Pictures\", \"id\": 2}, {\"...   \n",
       "2  [{\"name\": \"Columbia Pictures\", \"id\": 5}, {\"nam...   \n",
       "3  [{\"name\": \"Legendary Pictures\", \"id\": 923}, {\"...   \n",
       "4        [{\"name\": \"Walt Disney Pictures\", \"id\": 2}]   \n",
       "\n",
       "                                production_countries release_date     revenue  \\\n",
       "0  [{\"iso_3166_1\": \"US\", \"name\": \"United States o...   2009-12-10  2787965087   \n",
       "1  [{\"iso_3166_1\": \"US\", \"name\": \"United States o...   2007-05-19   961000000   \n",
       "2  [{\"iso_3166_1\": \"GB\", \"name\": \"United Kingdom\"...   2015-10-26   880674609   \n",
       "3  [{\"iso_3166_1\": \"US\", \"name\": \"United States o...   2012-07-16  1084939099   \n",
       "4  [{\"iso_3166_1\": \"US\", \"name\": \"United States o...   2012-03-07   284139100   \n",
       "\n",
       "   runtime                                   spoken_languages    status  \\\n",
       "0    162.0  [{\"iso_639_1\": \"en\", \"name\": \"English\"}, {\"iso...  Released   \n",
       "1    169.0           [{\"iso_639_1\": \"en\", \"name\": \"English\"}]  Released   \n",
       "2    148.0  [{\"iso_639_1\": \"fr\", \"name\": \"Fran\\u00e7ais\"},...  Released   \n",
       "3    165.0           [{\"iso_639_1\": \"en\", \"name\": \"English\"}]  Released   \n",
       "4    132.0           [{\"iso_639_1\": \"en\", \"name\": \"English\"}]  Released   \n",
       "\n",
       "                                          tagline  \\\n",
       "0                     Enter the World of Pandora.   \n",
       "1  At the end of the world, the adventure begins.   \n",
       "2                           A Plan No One Escapes   \n",
       "3                                 The Legend Ends   \n",
       "4            Lost in our world, found in another.   \n",
       "\n",
       "                                      title  vote_average  vote_count  \n",
       "0                                    Avatar           7.2       11800  \n",
       "1  Pirates of the Caribbean: At World's End           6.9        4500  \n",
       "2                                   Spectre           6.3        4466  \n",
       "3                     The Dark Knight Rises           7.6        9106  \n",
       "4                               John Carter           6.1        2124  "
      ]
     },
     "execution_count": 4,
     "metadata": {},
     "output_type": "execute_result"
    }
   ],
   "source": [
    "df.head()"
   ]
  },
  {
   "cell_type": "code",
   "execution_count": 5,
   "id": "be0c5534",
   "metadata": {
    "execution": {
     "iopub.execute_input": "2023-12-29T16:58:04.102629Z",
     "iopub.status.busy": "2023-12-29T16:58:04.102221Z",
     "iopub.status.idle": "2023-12-29T16:58:04.135775Z",
     "shell.execute_reply": "2023-12-29T16:58:04.134710Z"
    },
    "papermill": {
     "duration": 0.045212,
     "end_time": "2023-12-29T16:58:04.138122",
     "exception": false,
     "start_time": "2023-12-29T16:58:04.092910",
     "status": "completed"
    },
    "tags": []
   },
   "outputs": [
    {
     "data": {
      "text/html": [
       "<div>\n",
       "<style scoped>\n",
       "    .dataframe tbody tr th:only-of-type {\n",
       "        vertical-align: middle;\n",
       "    }\n",
       "\n",
       "    .dataframe tbody tr th {\n",
       "        vertical-align: top;\n",
       "    }\n",
       "\n",
       "    .dataframe thead th {\n",
       "        text-align: right;\n",
       "    }\n",
       "</style>\n",
       "<table border=\"1\" class=\"dataframe\">\n",
       "  <thead>\n",
       "    <tr style=\"text-align: right;\">\n",
       "      <th></th>\n",
       "      <th>budget</th>\n",
       "      <th>id</th>\n",
       "      <th>popularity</th>\n",
       "      <th>revenue</th>\n",
       "      <th>runtime</th>\n",
       "      <th>vote_average</th>\n",
       "      <th>vote_count</th>\n",
       "    </tr>\n",
       "  </thead>\n",
       "  <tbody>\n",
       "    <tr>\n",
       "      <th>count</th>\n",
       "      <td>4.803000e+03</td>\n",
       "      <td>4803.000000</td>\n",
       "      <td>4803.000000</td>\n",
       "      <td>4.803000e+03</td>\n",
       "      <td>4801.000000</td>\n",
       "      <td>4803.000000</td>\n",
       "      <td>4803.000000</td>\n",
       "    </tr>\n",
       "    <tr>\n",
       "      <th>mean</th>\n",
       "      <td>2.904504e+07</td>\n",
       "      <td>57165.484281</td>\n",
       "      <td>21.492301</td>\n",
       "      <td>8.226064e+07</td>\n",
       "      <td>106.875859</td>\n",
       "      <td>6.092172</td>\n",
       "      <td>690.217989</td>\n",
       "    </tr>\n",
       "    <tr>\n",
       "      <th>std</th>\n",
       "      <td>4.072239e+07</td>\n",
       "      <td>88694.614033</td>\n",
       "      <td>31.816650</td>\n",
       "      <td>1.628571e+08</td>\n",
       "      <td>22.611935</td>\n",
       "      <td>1.194612</td>\n",
       "      <td>1234.585891</td>\n",
       "    </tr>\n",
       "    <tr>\n",
       "      <th>min</th>\n",
       "      <td>0.000000e+00</td>\n",
       "      <td>5.000000</td>\n",
       "      <td>0.000000</td>\n",
       "      <td>0.000000e+00</td>\n",
       "      <td>0.000000</td>\n",
       "      <td>0.000000</td>\n",
       "      <td>0.000000</td>\n",
       "    </tr>\n",
       "    <tr>\n",
       "      <th>25%</th>\n",
       "      <td>7.900000e+05</td>\n",
       "      <td>9014.500000</td>\n",
       "      <td>4.668070</td>\n",
       "      <td>0.000000e+00</td>\n",
       "      <td>94.000000</td>\n",
       "      <td>5.600000</td>\n",
       "      <td>54.000000</td>\n",
       "    </tr>\n",
       "    <tr>\n",
       "      <th>50%</th>\n",
       "      <td>1.500000e+07</td>\n",
       "      <td>14629.000000</td>\n",
       "      <td>12.921594</td>\n",
       "      <td>1.917000e+07</td>\n",
       "      <td>103.000000</td>\n",
       "      <td>6.200000</td>\n",
       "      <td>235.000000</td>\n",
       "    </tr>\n",
       "    <tr>\n",
       "      <th>75%</th>\n",
       "      <td>4.000000e+07</td>\n",
       "      <td>58610.500000</td>\n",
       "      <td>28.313505</td>\n",
       "      <td>9.291719e+07</td>\n",
       "      <td>118.000000</td>\n",
       "      <td>6.800000</td>\n",
       "      <td>737.000000</td>\n",
       "    </tr>\n",
       "    <tr>\n",
       "      <th>max</th>\n",
       "      <td>3.800000e+08</td>\n",
       "      <td>459488.000000</td>\n",
       "      <td>875.581305</td>\n",
       "      <td>2.787965e+09</td>\n",
       "      <td>338.000000</td>\n",
       "      <td>10.000000</td>\n",
       "      <td>13752.000000</td>\n",
       "    </tr>\n",
       "  </tbody>\n",
       "</table>\n",
       "</div>"
      ],
      "text/plain": [
       "             budget             id   popularity       revenue      runtime  \\\n",
       "count  4.803000e+03    4803.000000  4803.000000  4.803000e+03  4801.000000   \n",
       "mean   2.904504e+07   57165.484281    21.492301  8.226064e+07   106.875859   \n",
       "std    4.072239e+07   88694.614033    31.816650  1.628571e+08    22.611935   \n",
       "min    0.000000e+00       5.000000     0.000000  0.000000e+00     0.000000   \n",
       "25%    7.900000e+05    9014.500000     4.668070  0.000000e+00    94.000000   \n",
       "50%    1.500000e+07   14629.000000    12.921594  1.917000e+07   103.000000   \n",
       "75%    4.000000e+07   58610.500000    28.313505  9.291719e+07   118.000000   \n",
       "max    3.800000e+08  459488.000000   875.581305  2.787965e+09   338.000000   \n",
       "\n",
       "       vote_average    vote_count  \n",
       "count   4803.000000   4803.000000  \n",
       "mean       6.092172    690.217989  \n",
       "std        1.194612   1234.585891  \n",
       "min        0.000000      0.000000  \n",
       "25%        5.600000     54.000000  \n",
       "50%        6.200000    235.000000  \n",
       "75%        6.800000    737.000000  \n",
       "max       10.000000  13752.000000  "
      ]
     },
     "execution_count": 5,
     "metadata": {},
     "output_type": "execute_result"
    }
   ],
   "source": [
    "df.describe()"
   ]
  },
  {
   "cell_type": "code",
   "execution_count": 6,
   "id": "9cc5e4af",
   "metadata": {
    "execution": {
     "iopub.execute_input": "2023-12-29T16:58:04.155625Z",
     "iopub.status.busy": "2023-12-29T16:58:04.155235Z",
     "iopub.status.idle": "2023-12-29T16:58:04.183138Z",
     "shell.execute_reply": "2023-12-29T16:58:04.181814Z"
    },
    "papermill": {
     "duration": 0.040166,
     "end_time": "2023-12-29T16:58:04.186108",
     "exception": false,
     "start_time": "2023-12-29T16:58:04.145942",
     "status": "completed"
    },
    "tags": []
   },
   "outputs": [
    {
     "name": "stdout",
     "output_type": "stream",
     "text": [
      "<class 'pandas.core.frame.DataFrame'>\n",
      "RangeIndex: 4803 entries, 0 to 4802\n",
      "Data columns (total 20 columns):\n",
      " #   Column                Non-Null Count  Dtype  \n",
      "---  ------                --------------  -----  \n",
      " 0   budget                4803 non-null   int64  \n",
      " 1   genres                4803 non-null   object \n",
      " 2   homepage              1712 non-null   object \n",
      " 3   id                    4803 non-null   int64  \n",
      " 4   keywords              4803 non-null   object \n",
      " 5   original_language     4803 non-null   object \n",
      " 6   original_title        4803 non-null   object \n",
      " 7   overview              4800 non-null   object \n",
      " 8   popularity            4803 non-null   float64\n",
      " 9   production_companies  4803 non-null   object \n",
      " 10  production_countries  4803 non-null   object \n",
      " 11  release_date          4802 non-null   object \n",
      " 12  revenue               4803 non-null   int64  \n",
      " 13  runtime               4801 non-null   float64\n",
      " 14  spoken_languages      4803 non-null   object \n",
      " 15  status                4803 non-null   object \n",
      " 16  tagline               3959 non-null   object \n",
      " 17  title                 4803 non-null   object \n",
      " 18  vote_average          4803 non-null   float64\n",
      " 19  vote_count            4803 non-null   int64  \n",
      "dtypes: float64(3), int64(4), object(13)\n",
      "memory usage: 750.6+ KB\n"
     ]
    }
   ],
   "source": [
    "df.info()"
   ]
  },
  {
   "cell_type": "code",
   "execution_count": 7,
   "id": "b3ee25e4",
   "metadata": {
    "execution": {
     "iopub.execute_input": "2023-12-29T16:58:04.203658Z",
     "iopub.status.busy": "2023-12-29T16:58:04.203253Z",
     "iopub.status.idle": "2023-12-29T16:58:04.210593Z",
     "shell.execute_reply": "2023-12-29T16:58:04.209446Z"
    },
    "papermill": {
     "duration": 0.018989,
     "end_time": "2023-12-29T16:58:04.212908",
     "exception": false,
     "start_time": "2023-12-29T16:58:04.193919",
     "status": "completed"
    },
    "tags": []
   },
   "outputs": [
    {
     "data": {
      "text/plain": [
       "Index(['budget', 'genres', 'homepage', 'id', 'keywords', 'original_language',\n",
       "       'original_title', 'overview', 'popularity', 'production_companies',\n",
       "       'production_countries', 'release_date', 'revenue', 'runtime',\n",
       "       'spoken_languages', 'status', 'tagline', 'title', 'vote_average',\n",
       "       'vote_count'],\n",
       "      dtype='object')"
      ]
     },
     "execution_count": 7,
     "metadata": {},
     "output_type": "execute_result"
    }
   ],
   "source": [
    "df.columns"
   ]
  },
  {
   "cell_type": "code",
   "execution_count": 8,
   "id": "882c4b05",
   "metadata": {
    "execution": {
     "iopub.execute_input": "2023-12-29T16:58:04.231849Z",
     "iopub.status.busy": "2023-12-29T16:58:04.231082Z",
     "iopub.status.idle": "2023-12-29T16:58:04.243677Z",
     "shell.execute_reply": "2023-12-29T16:58:04.242758Z"
    },
    "papermill": {
     "duration": 0.023766,
     "end_time": "2023-12-29T16:58:04.245630",
     "exception": false,
     "start_time": "2023-12-29T16:58:04.221864",
     "status": "completed"
    },
    "tags": []
   },
   "outputs": [
    {
     "data": {
      "text/plain": [
       "budget                     0\n",
       "genres                     0\n",
       "homepage                3091\n",
       "id                         0\n",
       "keywords                   0\n",
       "original_language          0\n",
       "original_title             0\n",
       "overview                   3\n",
       "popularity                 0\n",
       "production_companies       0\n",
       "production_countries       0\n",
       "release_date               1\n",
       "revenue                    0\n",
       "runtime                    2\n",
       "spoken_languages           0\n",
       "status                     0\n",
       "tagline                  844\n",
       "title                      0\n",
       "vote_average               0\n",
       "vote_count                 0\n",
       "dtype: int64"
      ]
     },
     "execution_count": 8,
     "metadata": {},
     "output_type": "execute_result"
    }
   ],
   "source": [
    "df.isnull().sum()"
   ]
  },
  {
   "cell_type": "code",
   "execution_count": 9,
   "id": "b64dd125",
   "metadata": {
    "execution": {
     "iopub.execute_input": "2023-12-29T16:58:04.264067Z",
     "iopub.status.busy": "2023-12-29T16:58:04.263274Z",
     "iopub.status.idle": "2023-12-29T16:58:04.273127Z",
     "shell.execute_reply": "2023-12-29T16:58:04.271926Z"
    },
    "papermill": {
     "duration": 0.021493,
     "end_time": "2023-12-29T16:58:04.275281",
     "exception": false,
     "start_time": "2023-12-29T16:58:04.253788",
     "status": "completed"
    },
    "tags": []
   },
   "outputs": [],
   "source": [
    "movies = df[['id', 'keywords', 'overview', 'title', 'genres']]"
   ]
  },
  {
   "cell_type": "code",
   "execution_count": 10,
   "id": "432e0fb7",
   "metadata": {
    "execution": {
     "iopub.execute_input": "2023-12-29T16:58:04.294247Z",
     "iopub.status.busy": "2023-12-29T16:58:04.293623Z",
     "iopub.status.idle": "2023-12-29T16:58:04.307525Z",
     "shell.execute_reply": "2023-12-29T16:58:04.306371Z"
    },
    "papermill": {
     "duration": 0.026361,
     "end_time": "2023-12-29T16:58:04.309866",
     "exception": false,
     "start_time": "2023-12-29T16:58:04.283505",
     "status": "completed"
    },
    "tags": []
   },
   "outputs": [
    {
     "data": {
      "text/html": [
       "<div>\n",
       "<style scoped>\n",
       "    .dataframe tbody tr th:only-of-type {\n",
       "        vertical-align: middle;\n",
       "    }\n",
       "\n",
       "    .dataframe tbody tr th {\n",
       "        vertical-align: top;\n",
       "    }\n",
       "\n",
       "    .dataframe thead th {\n",
       "        text-align: right;\n",
       "    }\n",
       "</style>\n",
       "<table border=\"1\" class=\"dataframe\">\n",
       "  <thead>\n",
       "    <tr style=\"text-align: right;\">\n",
       "      <th></th>\n",
       "      <th>id</th>\n",
       "      <th>keywords</th>\n",
       "      <th>overview</th>\n",
       "      <th>title</th>\n",
       "      <th>genres</th>\n",
       "    </tr>\n",
       "  </thead>\n",
       "  <tbody>\n",
       "    <tr>\n",
       "      <th>0</th>\n",
       "      <td>19995</td>\n",
       "      <td>[{\"id\": 1463, \"name\": \"culture clash\"}, {\"id\":...</td>\n",
       "      <td>In the 22nd century, a paraplegic Marine is di...</td>\n",
       "      <td>Avatar</td>\n",
       "      <td>[{\"id\": 28, \"name\": \"Action\"}, {\"id\": 12, \"nam...</td>\n",
       "    </tr>\n",
       "    <tr>\n",
       "      <th>1</th>\n",
       "      <td>285</td>\n",
       "      <td>[{\"id\": 270, \"name\": \"ocean\"}, {\"id\": 726, \"na...</td>\n",
       "      <td>Captain Barbossa, long believed to be dead, ha...</td>\n",
       "      <td>Pirates of the Caribbean: At World's End</td>\n",
       "      <td>[{\"id\": 12, \"name\": \"Adventure\"}, {\"id\": 14, \"...</td>\n",
       "    </tr>\n",
       "    <tr>\n",
       "      <th>2</th>\n",
       "      <td>206647</td>\n",
       "      <td>[{\"id\": 470, \"name\": \"spy\"}, {\"id\": 818, \"name...</td>\n",
       "      <td>A cryptic message from Bond’s past sends him o...</td>\n",
       "      <td>Spectre</td>\n",
       "      <td>[{\"id\": 28, \"name\": \"Action\"}, {\"id\": 12, \"nam...</td>\n",
       "    </tr>\n",
       "    <tr>\n",
       "      <th>3</th>\n",
       "      <td>49026</td>\n",
       "      <td>[{\"id\": 849, \"name\": \"dc comics\"}, {\"id\": 853,...</td>\n",
       "      <td>Following the death of District Attorney Harve...</td>\n",
       "      <td>The Dark Knight Rises</td>\n",
       "      <td>[{\"id\": 28, \"name\": \"Action\"}, {\"id\": 80, \"nam...</td>\n",
       "    </tr>\n",
       "    <tr>\n",
       "      <th>4</th>\n",
       "      <td>49529</td>\n",
       "      <td>[{\"id\": 818, \"name\": \"based on novel\"}, {\"id\":...</td>\n",
       "      <td>John Carter is a war-weary, former military ca...</td>\n",
       "      <td>John Carter</td>\n",
       "      <td>[{\"id\": 28, \"name\": \"Action\"}, {\"id\": 12, \"nam...</td>\n",
       "    </tr>\n",
       "    <tr>\n",
       "      <th>...</th>\n",
       "      <td>...</td>\n",
       "      <td>...</td>\n",
       "      <td>...</td>\n",
       "      <td>...</td>\n",
       "      <td>...</td>\n",
       "    </tr>\n",
       "    <tr>\n",
       "      <th>4798</th>\n",
       "      <td>9367</td>\n",
       "      <td>[{\"id\": 5616, \"name\": \"united states\\u2013mexi...</td>\n",
       "      <td>El Mariachi just wants to play his guitar and ...</td>\n",
       "      <td>El Mariachi</td>\n",
       "      <td>[{\"id\": 28, \"name\": \"Action\"}, {\"id\": 80, \"nam...</td>\n",
       "    </tr>\n",
       "    <tr>\n",
       "      <th>4799</th>\n",
       "      <td>72766</td>\n",
       "      <td>[]</td>\n",
       "      <td>A newlywed couple's honeymoon is upended by th...</td>\n",
       "      <td>Newlyweds</td>\n",
       "      <td>[{\"id\": 35, \"name\": \"Comedy\"}, {\"id\": 10749, \"...</td>\n",
       "    </tr>\n",
       "    <tr>\n",
       "      <th>4800</th>\n",
       "      <td>231617</td>\n",
       "      <td>[{\"id\": 248, \"name\": \"date\"}, {\"id\": 699, \"nam...</td>\n",
       "      <td>\"Signed, Sealed, Delivered\" introduces a dedic...</td>\n",
       "      <td>Signed, Sealed, Delivered</td>\n",
       "      <td>[{\"id\": 35, \"name\": \"Comedy\"}, {\"id\": 18, \"nam...</td>\n",
       "    </tr>\n",
       "    <tr>\n",
       "      <th>4801</th>\n",
       "      <td>126186</td>\n",
       "      <td>[]</td>\n",
       "      <td>When ambitious New York attorney Sam is sent t...</td>\n",
       "      <td>Shanghai Calling</td>\n",
       "      <td>[]</td>\n",
       "    </tr>\n",
       "    <tr>\n",
       "      <th>4802</th>\n",
       "      <td>25975</td>\n",
       "      <td>[{\"id\": 1523, \"name\": \"obsession\"}, {\"id\": 224...</td>\n",
       "      <td>Ever since the second grade when he first saw ...</td>\n",
       "      <td>My Date with Drew</td>\n",
       "      <td>[{\"id\": 99, \"name\": \"Documentary\"}]</td>\n",
       "    </tr>\n",
       "  </tbody>\n",
       "</table>\n",
       "<p>4803 rows × 5 columns</p>\n",
       "</div>"
      ],
      "text/plain": [
       "          id                                           keywords  \\\n",
       "0      19995  [{\"id\": 1463, \"name\": \"culture clash\"}, {\"id\":...   \n",
       "1        285  [{\"id\": 270, \"name\": \"ocean\"}, {\"id\": 726, \"na...   \n",
       "2     206647  [{\"id\": 470, \"name\": \"spy\"}, {\"id\": 818, \"name...   \n",
       "3      49026  [{\"id\": 849, \"name\": \"dc comics\"}, {\"id\": 853,...   \n",
       "4      49529  [{\"id\": 818, \"name\": \"based on novel\"}, {\"id\":...   \n",
       "...      ...                                                ...   \n",
       "4798    9367  [{\"id\": 5616, \"name\": \"united states\\u2013mexi...   \n",
       "4799   72766                                                 []   \n",
       "4800  231617  [{\"id\": 248, \"name\": \"date\"}, {\"id\": 699, \"nam...   \n",
       "4801  126186                                                 []   \n",
       "4802   25975  [{\"id\": 1523, \"name\": \"obsession\"}, {\"id\": 224...   \n",
       "\n",
       "                                               overview  \\\n",
       "0     In the 22nd century, a paraplegic Marine is di...   \n",
       "1     Captain Barbossa, long believed to be dead, ha...   \n",
       "2     A cryptic message from Bond’s past sends him o...   \n",
       "3     Following the death of District Attorney Harve...   \n",
       "4     John Carter is a war-weary, former military ca...   \n",
       "...                                                 ...   \n",
       "4798  El Mariachi just wants to play his guitar and ...   \n",
       "4799  A newlywed couple's honeymoon is upended by th...   \n",
       "4800  \"Signed, Sealed, Delivered\" introduces a dedic...   \n",
       "4801  When ambitious New York attorney Sam is sent t...   \n",
       "4802  Ever since the second grade when he first saw ...   \n",
       "\n",
       "                                         title  \\\n",
       "0                                       Avatar   \n",
       "1     Pirates of the Caribbean: At World's End   \n",
       "2                                      Spectre   \n",
       "3                        The Dark Knight Rises   \n",
       "4                                  John Carter   \n",
       "...                                        ...   \n",
       "4798                               El Mariachi   \n",
       "4799                                 Newlyweds   \n",
       "4800                 Signed, Sealed, Delivered   \n",
       "4801                          Shanghai Calling   \n",
       "4802                         My Date with Drew   \n",
       "\n",
       "                                                 genres  \n",
       "0     [{\"id\": 28, \"name\": \"Action\"}, {\"id\": 12, \"nam...  \n",
       "1     [{\"id\": 12, \"name\": \"Adventure\"}, {\"id\": 14, \"...  \n",
       "2     [{\"id\": 28, \"name\": \"Action\"}, {\"id\": 12, \"nam...  \n",
       "3     [{\"id\": 28, \"name\": \"Action\"}, {\"id\": 80, \"nam...  \n",
       "4     [{\"id\": 28, \"name\": \"Action\"}, {\"id\": 12, \"nam...  \n",
       "...                                                 ...  \n",
       "4798  [{\"id\": 28, \"name\": \"Action\"}, {\"id\": 80, \"nam...  \n",
       "4799  [{\"id\": 35, \"name\": \"Comedy\"}, {\"id\": 10749, \"...  \n",
       "4800  [{\"id\": 35, \"name\": \"Comedy\"}, {\"id\": 18, \"nam...  \n",
       "4801                                                 []  \n",
       "4802                [{\"id\": 99, \"name\": \"Documentary\"}]  \n",
       "\n",
       "[4803 rows x 5 columns]"
      ]
     },
     "execution_count": 10,
     "metadata": {},
     "output_type": "execute_result"
    }
   ],
   "source": [
    "movies"
   ]
  },
  {
   "cell_type": "code",
   "execution_count": 11,
   "id": "417ebdb3",
   "metadata": {
    "execution": {
     "iopub.execute_input": "2023-12-29T16:58:04.329308Z",
     "iopub.status.busy": "2023-12-29T16:58:04.328685Z",
     "iopub.status.idle": "2023-12-29T16:58:04.334180Z",
     "shell.execute_reply": "2023-12-29T16:58:04.333420Z"
    },
    "papermill": {
     "duration": 0.017568,
     "end_time": "2023-12-29T16:58:04.336266",
     "exception": false,
     "start_time": "2023-12-29T16:58:04.318698",
     "status": "completed"
    },
    "tags": []
   },
   "outputs": [],
   "source": [
    "def extract_names(json_str):\n",
    "    try:\n",
    "        items = json.loads(json_str)\n",
    "        names = [item['name'] for item in items]\n",
    "        return ', '.join(names)\n",
    "    except json.JSONDecodeError:\n",
    "        return ''"
   ]
  },
  {
   "cell_type": "code",
   "execution_count": 12,
   "id": "13cf7506",
   "metadata": {
    "execution": {
     "iopub.execute_input": "2023-12-29T16:58:04.355282Z",
     "iopub.status.busy": "2023-12-29T16:58:04.354682Z",
     "iopub.status.idle": "2023-12-29T16:58:04.424444Z",
     "shell.execute_reply": "2023-12-29T16:58:04.423069Z"
    },
    "papermill": {
     "duration": 0.082288,
     "end_time": "2023-12-29T16:58:04.427007",
     "exception": false,
     "start_time": "2023-12-29T16:58:04.344719",
     "status": "completed"
    },
    "tags": []
   },
   "outputs": [
    {
     "name": "stderr",
     "output_type": "stream",
     "text": [
      "/tmp/ipykernel_19/3018727747.py:1: SettingWithCopyWarning: \n",
      "A value is trying to be set on a copy of a slice from a DataFrame.\n",
      "Try using .loc[row_indexer,col_indexer] = value instead\n",
      "\n",
      "See the caveats in the documentation: https://pandas.pydata.org/pandas-docs/stable/user_guide/indexing.html#returning-a-view-versus-a-copy\n",
      "  movies.loc[:,'only_genres'] = movies['genres'].apply(extract_names)\n",
      "/tmp/ipykernel_19/3018727747.py:2: SettingWithCopyWarning: \n",
      "A value is trying to be set on a copy of a slice from a DataFrame.\n",
      "Try using .loc[row_indexer,col_indexer] = value instead\n",
      "\n",
      "See the caveats in the documentation: https://pandas.pydata.org/pandas-docs/stable/user_guide/indexing.html#returning-a-view-versus-a-copy\n",
      "  movies.loc[:,'only_keywords'] = movies['keywords'].apply(extract_names)\n"
     ]
    }
   ],
   "source": [
    "movies.loc[:,'only_genres'] = movies['genres'].apply(extract_names)\n",
    "movies.loc[:,'only_keywords'] = movies['keywords'].apply(extract_names)"
   ]
  },
  {
   "cell_type": "code",
   "execution_count": 13,
   "id": "3feba9f6",
   "metadata": {
    "execution": {
     "iopub.execute_input": "2023-12-29T16:58:04.446587Z",
     "iopub.status.busy": "2023-12-29T16:58:04.446144Z",
     "iopub.status.idle": "2023-12-29T16:58:04.452546Z",
     "shell.execute_reply": "2023-12-29T16:58:04.451510Z"
    },
    "papermill": {
     "duration": 0.018891,
     "end_time": "2023-12-29T16:58:04.454787",
     "exception": false,
     "start_time": "2023-12-29T16:58:04.435896",
     "status": "completed"
    },
    "tags": []
   },
   "outputs": [],
   "source": [
    "movies = movies.copy()"
   ]
  },
  {
   "cell_type": "code",
   "execution_count": 14,
   "id": "180eaa96",
   "metadata": {
    "execution": {
     "iopub.execute_input": "2023-12-29T16:58:04.474536Z",
     "iopub.status.busy": "2023-12-29T16:58:04.474101Z",
     "iopub.status.idle": "2023-12-29T16:58:04.490571Z",
     "shell.execute_reply": "2023-12-29T16:58:04.489483Z"
    },
    "papermill": {
     "duration": 0.029045,
     "end_time": "2023-12-29T16:58:04.492728",
     "exception": false,
     "start_time": "2023-12-29T16:58:04.463683",
     "status": "completed"
    },
    "tags": []
   },
   "outputs": [],
   "source": [
    "movies.loc[:,'tags'] = movies['only_genres']+movies['overview']+movies['only_keywords']"
   ]
  },
  {
   "cell_type": "code",
   "execution_count": 15,
   "id": "c6e4df02",
   "metadata": {
    "execution": {
     "iopub.execute_input": "2023-12-29T16:58:04.513423Z",
     "iopub.status.busy": "2023-12-29T16:58:04.512731Z",
     "iopub.status.idle": "2023-12-29T16:58:04.529232Z",
     "shell.execute_reply": "2023-12-29T16:58:04.528095Z"
    },
    "papermill": {
     "duration": 0.029744,
     "end_time": "2023-12-29T16:58:04.531680",
     "exception": false,
     "start_time": "2023-12-29T16:58:04.501936",
     "status": "completed"
    },
    "tags": []
   },
   "outputs": [
    {
     "data": {
      "text/html": [
       "<div>\n",
       "<style scoped>\n",
       "    .dataframe tbody tr th:only-of-type {\n",
       "        vertical-align: middle;\n",
       "    }\n",
       "\n",
       "    .dataframe tbody tr th {\n",
       "        vertical-align: top;\n",
       "    }\n",
       "\n",
       "    .dataframe thead th {\n",
       "        text-align: right;\n",
       "    }\n",
       "</style>\n",
       "<table border=\"1\" class=\"dataframe\">\n",
       "  <thead>\n",
       "    <tr style=\"text-align: right;\">\n",
       "      <th></th>\n",
       "      <th>id</th>\n",
       "      <th>keywords</th>\n",
       "      <th>overview</th>\n",
       "      <th>title</th>\n",
       "      <th>genres</th>\n",
       "      <th>only_genres</th>\n",
       "      <th>only_keywords</th>\n",
       "      <th>tags</th>\n",
       "    </tr>\n",
       "  </thead>\n",
       "  <tbody>\n",
       "    <tr>\n",
       "      <th>0</th>\n",
       "      <td>19995</td>\n",
       "      <td>[{\"id\": 1463, \"name\": \"culture clash\"}, {\"id\":...</td>\n",
       "      <td>In the 22nd century, a paraplegic Marine is di...</td>\n",
       "      <td>Avatar</td>\n",
       "      <td>[{\"id\": 28, \"name\": \"Action\"}, {\"id\": 12, \"nam...</td>\n",
       "      <td>Action, Adventure, Fantasy, Science Fiction</td>\n",
       "      <td>culture clash, future, space war, space colony...</td>\n",
       "      <td>Action, Adventure, Fantasy, Science FictionIn ...</td>\n",
       "    </tr>\n",
       "    <tr>\n",
       "      <th>1</th>\n",
       "      <td>285</td>\n",
       "      <td>[{\"id\": 270, \"name\": \"ocean\"}, {\"id\": 726, \"na...</td>\n",
       "      <td>Captain Barbossa, long believed to be dead, ha...</td>\n",
       "      <td>Pirates of the Caribbean: At World's End</td>\n",
       "      <td>[{\"id\": 12, \"name\": \"Adventure\"}, {\"id\": 14, \"...</td>\n",
       "      <td>Adventure, Fantasy, Action</td>\n",
       "      <td>ocean, drug abuse, exotic island, east india t...</td>\n",
       "      <td>Adventure, Fantasy, ActionCaptain Barbossa, lo...</td>\n",
       "    </tr>\n",
       "    <tr>\n",
       "      <th>2</th>\n",
       "      <td>206647</td>\n",
       "      <td>[{\"id\": 470, \"name\": \"spy\"}, {\"id\": 818, \"name...</td>\n",
       "      <td>A cryptic message from Bond’s past sends him o...</td>\n",
       "      <td>Spectre</td>\n",
       "      <td>[{\"id\": 28, \"name\": \"Action\"}, {\"id\": 12, \"nam...</td>\n",
       "      <td>Action, Adventure, Crime</td>\n",
       "      <td>spy, based on novel, secret agent, sequel, mi6...</td>\n",
       "      <td>Action, Adventure, CrimeA cryptic message from...</td>\n",
       "    </tr>\n",
       "    <tr>\n",
       "      <th>3</th>\n",
       "      <td>49026</td>\n",
       "      <td>[{\"id\": 849, \"name\": \"dc comics\"}, {\"id\": 853,...</td>\n",
       "      <td>Following the death of District Attorney Harve...</td>\n",
       "      <td>The Dark Knight Rises</td>\n",
       "      <td>[{\"id\": 28, \"name\": \"Action\"}, {\"id\": 80, \"nam...</td>\n",
       "      <td>Action, Crime, Drama, Thriller</td>\n",
       "      <td>dc comics, crime fighter, terrorist, secret id...</td>\n",
       "      <td>Action, Crime, Drama, ThrillerFollowing the de...</td>\n",
       "    </tr>\n",
       "    <tr>\n",
       "      <th>4</th>\n",
       "      <td>49529</td>\n",
       "      <td>[{\"id\": 818, \"name\": \"based on novel\"}, {\"id\":...</td>\n",
       "      <td>John Carter is a war-weary, former military ca...</td>\n",
       "      <td>John Carter</td>\n",
       "      <td>[{\"id\": 28, \"name\": \"Action\"}, {\"id\": 12, \"nam...</td>\n",
       "      <td>Action, Adventure, Science Fiction</td>\n",
       "      <td>based on novel, mars, medallion, space travel,...</td>\n",
       "      <td>Action, Adventure, Science FictionJohn Carter ...</td>\n",
       "    </tr>\n",
       "    <tr>\n",
       "      <th>...</th>\n",
       "      <td>...</td>\n",
       "      <td>...</td>\n",
       "      <td>...</td>\n",
       "      <td>...</td>\n",
       "      <td>...</td>\n",
       "      <td>...</td>\n",
       "      <td>...</td>\n",
       "      <td>...</td>\n",
       "    </tr>\n",
       "    <tr>\n",
       "      <th>4798</th>\n",
       "      <td>9367</td>\n",
       "      <td>[{\"id\": 5616, \"name\": \"united states\\u2013mexi...</td>\n",
       "      <td>El Mariachi just wants to play his guitar and ...</td>\n",
       "      <td>El Mariachi</td>\n",
       "      <td>[{\"id\": 28, \"name\": \"Action\"}, {\"id\": 80, \"nam...</td>\n",
       "      <td>Action, Crime, Thriller</td>\n",
       "      <td>united states–mexico barrier, legs, arms, pape...</td>\n",
       "      <td>Action, Crime, ThrillerEl Mariachi just wants ...</td>\n",
       "    </tr>\n",
       "    <tr>\n",
       "      <th>4799</th>\n",
       "      <td>72766</td>\n",
       "      <td>[]</td>\n",
       "      <td>A newlywed couple's honeymoon is upended by th...</td>\n",
       "      <td>Newlyweds</td>\n",
       "      <td>[{\"id\": 35, \"name\": \"Comedy\"}, {\"id\": 10749, \"...</td>\n",
       "      <td>Comedy, Romance</td>\n",
       "      <td></td>\n",
       "      <td>Comedy, RomanceA newlywed couple's honeymoon i...</td>\n",
       "    </tr>\n",
       "    <tr>\n",
       "      <th>4800</th>\n",
       "      <td>231617</td>\n",
       "      <td>[{\"id\": 248, \"name\": \"date\"}, {\"id\": 699, \"nam...</td>\n",
       "      <td>\"Signed, Sealed, Delivered\" introduces a dedic...</td>\n",
       "      <td>Signed, Sealed, Delivered</td>\n",
       "      <td>[{\"id\": 35, \"name\": \"Comedy\"}, {\"id\": 18, \"nam...</td>\n",
       "      <td>Comedy, Drama, Romance, TV Movie</td>\n",
       "      <td>date, love at first sight, narration, investig...</td>\n",
       "      <td>Comedy, Drama, Romance, TV Movie\"Signed, Seale...</td>\n",
       "    </tr>\n",
       "    <tr>\n",
       "      <th>4801</th>\n",
       "      <td>126186</td>\n",
       "      <td>[]</td>\n",
       "      <td>When ambitious New York attorney Sam is sent t...</td>\n",
       "      <td>Shanghai Calling</td>\n",
       "      <td>[]</td>\n",
       "      <td></td>\n",
       "      <td></td>\n",
       "      <td>When ambitious New York attorney Sam is sent t...</td>\n",
       "    </tr>\n",
       "    <tr>\n",
       "      <th>4802</th>\n",
       "      <td>25975</td>\n",
       "      <td>[{\"id\": 1523, \"name\": \"obsession\"}, {\"id\": 224...</td>\n",
       "      <td>Ever since the second grade when he first saw ...</td>\n",
       "      <td>My Date with Drew</td>\n",
       "      <td>[{\"id\": 99, \"name\": \"Documentary\"}]</td>\n",
       "      <td>Documentary</td>\n",
       "      <td>obsession, camcorder, crush, dream girl</td>\n",
       "      <td>DocumentaryEver since the second grade when he...</td>\n",
       "    </tr>\n",
       "  </tbody>\n",
       "</table>\n",
       "<p>4803 rows × 8 columns</p>\n",
       "</div>"
      ],
      "text/plain": [
       "          id                                           keywords  \\\n",
       "0      19995  [{\"id\": 1463, \"name\": \"culture clash\"}, {\"id\":...   \n",
       "1        285  [{\"id\": 270, \"name\": \"ocean\"}, {\"id\": 726, \"na...   \n",
       "2     206647  [{\"id\": 470, \"name\": \"spy\"}, {\"id\": 818, \"name...   \n",
       "3      49026  [{\"id\": 849, \"name\": \"dc comics\"}, {\"id\": 853,...   \n",
       "4      49529  [{\"id\": 818, \"name\": \"based on novel\"}, {\"id\":...   \n",
       "...      ...                                                ...   \n",
       "4798    9367  [{\"id\": 5616, \"name\": \"united states\\u2013mexi...   \n",
       "4799   72766                                                 []   \n",
       "4800  231617  [{\"id\": 248, \"name\": \"date\"}, {\"id\": 699, \"nam...   \n",
       "4801  126186                                                 []   \n",
       "4802   25975  [{\"id\": 1523, \"name\": \"obsession\"}, {\"id\": 224...   \n",
       "\n",
       "                                               overview  \\\n",
       "0     In the 22nd century, a paraplegic Marine is di...   \n",
       "1     Captain Barbossa, long believed to be dead, ha...   \n",
       "2     A cryptic message from Bond’s past sends him o...   \n",
       "3     Following the death of District Attorney Harve...   \n",
       "4     John Carter is a war-weary, former military ca...   \n",
       "...                                                 ...   \n",
       "4798  El Mariachi just wants to play his guitar and ...   \n",
       "4799  A newlywed couple's honeymoon is upended by th...   \n",
       "4800  \"Signed, Sealed, Delivered\" introduces a dedic...   \n",
       "4801  When ambitious New York attorney Sam is sent t...   \n",
       "4802  Ever since the second grade when he first saw ...   \n",
       "\n",
       "                                         title  \\\n",
       "0                                       Avatar   \n",
       "1     Pirates of the Caribbean: At World's End   \n",
       "2                                      Spectre   \n",
       "3                        The Dark Knight Rises   \n",
       "4                                  John Carter   \n",
       "...                                        ...   \n",
       "4798                               El Mariachi   \n",
       "4799                                 Newlyweds   \n",
       "4800                 Signed, Sealed, Delivered   \n",
       "4801                          Shanghai Calling   \n",
       "4802                         My Date with Drew   \n",
       "\n",
       "                                                 genres  \\\n",
       "0     [{\"id\": 28, \"name\": \"Action\"}, {\"id\": 12, \"nam...   \n",
       "1     [{\"id\": 12, \"name\": \"Adventure\"}, {\"id\": 14, \"...   \n",
       "2     [{\"id\": 28, \"name\": \"Action\"}, {\"id\": 12, \"nam...   \n",
       "3     [{\"id\": 28, \"name\": \"Action\"}, {\"id\": 80, \"nam...   \n",
       "4     [{\"id\": 28, \"name\": \"Action\"}, {\"id\": 12, \"nam...   \n",
       "...                                                 ...   \n",
       "4798  [{\"id\": 28, \"name\": \"Action\"}, {\"id\": 80, \"nam...   \n",
       "4799  [{\"id\": 35, \"name\": \"Comedy\"}, {\"id\": 10749, \"...   \n",
       "4800  [{\"id\": 35, \"name\": \"Comedy\"}, {\"id\": 18, \"nam...   \n",
       "4801                                                 []   \n",
       "4802                [{\"id\": 99, \"name\": \"Documentary\"}]   \n",
       "\n",
       "                                      only_genres  \\\n",
       "0     Action, Adventure, Fantasy, Science Fiction   \n",
       "1                      Adventure, Fantasy, Action   \n",
       "2                        Action, Adventure, Crime   \n",
       "3                  Action, Crime, Drama, Thriller   \n",
       "4              Action, Adventure, Science Fiction   \n",
       "...                                           ...   \n",
       "4798                      Action, Crime, Thriller   \n",
       "4799                              Comedy, Romance   \n",
       "4800             Comedy, Drama, Romance, TV Movie   \n",
       "4801                                                \n",
       "4802                                  Documentary   \n",
       "\n",
       "                                          only_keywords  \\\n",
       "0     culture clash, future, space war, space colony...   \n",
       "1     ocean, drug abuse, exotic island, east india t...   \n",
       "2     spy, based on novel, secret agent, sequel, mi6...   \n",
       "3     dc comics, crime fighter, terrorist, secret id...   \n",
       "4     based on novel, mars, medallion, space travel,...   \n",
       "...                                                 ...   \n",
       "4798  united states–mexico barrier, legs, arms, pape...   \n",
       "4799                                                      \n",
       "4800  date, love at first sight, narration, investig...   \n",
       "4801                                                      \n",
       "4802            obsession, camcorder, crush, dream girl   \n",
       "\n",
       "                                                   tags  \n",
       "0     Action, Adventure, Fantasy, Science FictionIn ...  \n",
       "1     Adventure, Fantasy, ActionCaptain Barbossa, lo...  \n",
       "2     Action, Adventure, CrimeA cryptic message from...  \n",
       "3     Action, Crime, Drama, ThrillerFollowing the de...  \n",
       "4     Action, Adventure, Science FictionJohn Carter ...  \n",
       "...                                                 ...  \n",
       "4798  Action, Crime, ThrillerEl Mariachi just wants ...  \n",
       "4799  Comedy, RomanceA newlywed couple's honeymoon i...  \n",
       "4800  Comedy, Drama, Romance, TV Movie\"Signed, Seale...  \n",
       "4801  When ambitious New York attorney Sam is sent t...  \n",
       "4802  DocumentaryEver since the second grade when he...  \n",
       "\n",
       "[4803 rows x 8 columns]"
      ]
     },
     "execution_count": 15,
     "metadata": {},
     "output_type": "execute_result"
    }
   ],
   "source": [
    "movies"
   ]
  },
  {
   "cell_type": "code",
   "execution_count": 16,
   "id": "a7f12930",
   "metadata": {
    "execution": {
     "iopub.execute_input": "2023-12-29T16:58:04.552181Z",
     "iopub.status.busy": "2023-12-29T16:58:04.551783Z",
     "iopub.status.idle": "2023-12-29T16:58:04.560599Z",
     "shell.execute_reply": "2023-12-29T16:58:04.558899Z"
    },
    "papermill": {
     "duration": 0.02193,
     "end_time": "2023-12-29T16:58:04.563332",
     "exception": false,
     "start_time": "2023-12-29T16:58:04.541402",
     "status": "completed"
    },
    "tags": []
   },
   "outputs": [],
   "source": [
    "movies_df = movies.drop(columns=['keywords','overview','genres','only_genres','only_keywords'])"
   ]
  },
  {
   "cell_type": "code",
   "execution_count": 17,
   "id": "51fc2fde",
   "metadata": {
    "execution": {
     "iopub.execute_input": "2023-12-29T16:58:04.583123Z",
     "iopub.status.busy": "2023-12-29T16:58:04.582732Z",
     "iopub.status.idle": "2023-12-29T16:58:04.595580Z",
     "shell.execute_reply": "2023-12-29T16:58:04.594326Z"
    },
    "papermill": {
     "duration": 0.02511,
     "end_time": "2023-12-29T16:58:04.597716",
     "exception": false,
     "start_time": "2023-12-29T16:58:04.572606",
     "status": "completed"
    },
    "tags": []
   },
   "outputs": [
    {
     "data": {
      "text/html": [
       "<div>\n",
       "<style scoped>\n",
       "    .dataframe tbody tr th:only-of-type {\n",
       "        vertical-align: middle;\n",
       "    }\n",
       "\n",
       "    .dataframe tbody tr th {\n",
       "        vertical-align: top;\n",
       "    }\n",
       "\n",
       "    .dataframe thead th {\n",
       "        text-align: right;\n",
       "    }\n",
       "</style>\n",
       "<table border=\"1\" class=\"dataframe\">\n",
       "  <thead>\n",
       "    <tr style=\"text-align: right;\">\n",
       "      <th></th>\n",
       "      <th>id</th>\n",
       "      <th>title</th>\n",
       "      <th>tags</th>\n",
       "    </tr>\n",
       "  </thead>\n",
       "  <tbody>\n",
       "    <tr>\n",
       "      <th>0</th>\n",
       "      <td>19995</td>\n",
       "      <td>Avatar</td>\n",
       "      <td>Action, Adventure, Fantasy, Science FictionIn ...</td>\n",
       "    </tr>\n",
       "    <tr>\n",
       "      <th>1</th>\n",
       "      <td>285</td>\n",
       "      <td>Pirates of the Caribbean: At World's End</td>\n",
       "      <td>Adventure, Fantasy, ActionCaptain Barbossa, lo...</td>\n",
       "    </tr>\n",
       "    <tr>\n",
       "      <th>2</th>\n",
       "      <td>206647</td>\n",
       "      <td>Spectre</td>\n",
       "      <td>Action, Adventure, CrimeA cryptic message from...</td>\n",
       "    </tr>\n",
       "    <tr>\n",
       "      <th>3</th>\n",
       "      <td>49026</td>\n",
       "      <td>The Dark Knight Rises</td>\n",
       "      <td>Action, Crime, Drama, ThrillerFollowing the de...</td>\n",
       "    </tr>\n",
       "    <tr>\n",
       "      <th>4</th>\n",
       "      <td>49529</td>\n",
       "      <td>John Carter</td>\n",
       "      <td>Action, Adventure, Science FictionJohn Carter ...</td>\n",
       "    </tr>\n",
       "    <tr>\n",
       "      <th>...</th>\n",
       "      <td>...</td>\n",
       "      <td>...</td>\n",
       "      <td>...</td>\n",
       "    </tr>\n",
       "    <tr>\n",
       "      <th>4798</th>\n",
       "      <td>9367</td>\n",
       "      <td>El Mariachi</td>\n",
       "      <td>Action, Crime, ThrillerEl Mariachi just wants ...</td>\n",
       "    </tr>\n",
       "    <tr>\n",
       "      <th>4799</th>\n",
       "      <td>72766</td>\n",
       "      <td>Newlyweds</td>\n",
       "      <td>Comedy, RomanceA newlywed couple's honeymoon i...</td>\n",
       "    </tr>\n",
       "    <tr>\n",
       "      <th>4800</th>\n",
       "      <td>231617</td>\n",
       "      <td>Signed, Sealed, Delivered</td>\n",
       "      <td>Comedy, Drama, Romance, TV Movie\"Signed, Seale...</td>\n",
       "    </tr>\n",
       "    <tr>\n",
       "      <th>4801</th>\n",
       "      <td>126186</td>\n",
       "      <td>Shanghai Calling</td>\n",
       "      <td>When ambitious New York attorney Sam is sent t...</td>\n",
       "    </tr>\n",
       "    <tr>\n",
       "      <th>4802</th>\n",
       "      <td>25975</td>\n",
       "      <td>My Date with Drew</td>\n",
       "      <td>DocumentaryEver since the second grade when he...</td>\n",
       "    </tr>\n",
       "  </tbody>\n",
       "</table>\n",
       "<p>4803 rows × 3 columns</p>\n",
       "</div>"
      ],
      "text/plain": [
       "          id                                     title  \\\n",
       "0      19995                                    Avatar   \n",
       "1        285  Pirates of the Caribbean: At World's End   \n",
       "2     206647                                   Spectre   \n",
       "3      49026                     The Dark Knight Rises   \n",
       "4      49529                               John Carter   \n",
       "...      ...                                       ...   \n",
       "4798    9367                               El Mariachi   \n",
       "4799   72766                                 Newlyweds   \n",
       "4800  231617                 Signed, Sealed, Delivered   \n",
       "4801  126186                          Shanghai Calling   \n",
       "4802   25975                         My Date with Drew   \n",
       "\n",
       "                                                   tags  \n",
       "0     Action, Adventure, Fantasy, Science FictionIn ...  \n",
       "1     Adventure, Fantasy, ActionCaptain Barbossa, lo...  \n",
       "2     Action, Adventure, CrimeA cryptic message from...  \n",
       "3     Action, Crime, Drama, ThrillerFollowing the de...  \n",
       "4     Action, Adventure, Science FictionJohn Carter ...  \n",
       "...                                                 ...  \n",
       "4798  Action, Crime, ThrillerEl Mariachi just wants ...  \n",
       "4799  Comedy, RomanceA newlywed couple's honeymoon i...  \n",
       "4800  Comedy, Drama, Romance, TV Movie\"Signed, Seale...  \n",
       "4801  When ambitious New York attorney Sam is sent t...  \n",
       "4802  DocumentaryEver since the second grade when he...  \n",
       "\n",
       "[4803 rows x 3 columns]"
      ]
     },
     "execution_count": 17,
     "metadata": {},
     "output_type": "execute_result"
    }
   ],
   "source": [
    "movies_df"
   ]
  },
  {
   "cell_type": "code",
   "execution_count": 18,
   "id": "437725ca",
   "metadata": {
    "execution": {
     "iopub.execute_input": "2023-12-29T16:58:04.618099Z",
     "iopub.status.busy": "2023-12-29T16:58:04.617673Z",
     "iopub.status.idle": "2023-12-29T16:58:04.622215Z",
     "shell.execute_reply": "2023-12-29T16:58:04.621370Z"
    },
    "papermill": {
     "duration": 0.017296,
     "end_time": "2023-12-29T16:58:04.624219",
     "exception": false,
     "start_time": "2023-12-29T16:58:04.606923",
     "status": "completed"
    },
    "tags": []
   },
   "outputs": [],
   "source": [
    "cv = CountVectorizer(max_features=4803, stop_words='english')"
   ]
  },
  {
   "cell_type": "code",
   "execution_count": 19,
   "id": "974b7b91",
   "metadata": {
    "execution": {
     "iopub.execute_input": "2023-12-29T16:58:04.645072Z",
     "iopub.status.busy": "2023-12-29T16:58:04.644388Z",
     "iopub.status.idle": "2023-12-29T16:58:05.198890Z",
     "shell.execute_reply": "2023-12-29T16:58:05.197828Z"
    },
    "papermill": {
     "duration": 0.568215,
     "end_time": "2023-12-29T16:58:05.201649",
     "exception": false,
     "start_time": "2023-12-29T16:58:04.633434",
     "status": "completed"
    },
    "tags": []
   },
   "outputs": [],
   "source": [
    "vector = cv.fit_transform(movies_df['tags'].values.astype('U')).toarray()"
   ]
  },
  {
   "cell_type": "code",
   "execution_count": 20,
   "id": "29019108",
   "metadata": {
    "execution": {
     "iopub.execute_input": "2023-12-29T16:58:05.222344Z",
     "iopub.status.busy": "2023-12-29T16:58:05.221948Z",
     "iopub.status.idle": "2023-12-29T16:58:05.229080Z",
     "shell.execute_reply": "2023-12-29T16:58:05.228153Z"
    },
    "papermill": {
     "duration": 0.020474,
     "end_time": "2023-12-29T16:58:05.231680",
     "exception": false,
     "start_time": "2023-12-29T16:58:05.211206",
     "status": "completed"
    },
    "tags": []
   },
   "outputs": [
    {
     "data": {
      "text/plain": [
       "array([[0, 0, 0, ..., 0, 0, 0],\n",
       "       [0, 0, 0, ..., 0, 0, 0],\n",
       "       [0, 0, 0, ..., 0, 0, 0],\n",
       "       ...,\n",
       "       [0, 0, 0, ..., 0, 0, 0],\n",
       "       [0, 0, 0, ..., 0, 0, 0],\n",
       "       [0, 0, 0, ..., 0, 0, 0]])"
      ]
     },
     "execution_count": 20,
     "metadata": {},
     "output_type": "execute_result"
    }
   ],
   "source": [
    "vector"
   ]
  },
  {
   "cell_type": "code",
   "execution_count": 21,
   "id": "60f1307e",
   "metadata": {
    "execution": {
     "iopub.execute_input": "2023-12-29T16:58:05.252778Z",
     "iopub.status.busy": "2023-12-29T16:58:05.252320Z",
     "iopub.status.idle": "2023-12-29T16:58:05.258970Z",
     "shell.execute_reply": "2023-12-29T16:58:05.257750Z"
    },
    "papermill": {
     "duration": 0.020398,
     "end_time": "2023-12-29T16:58:05.261528",
     "exception": false,
     "start_time": "2023-12-29T16:58:05.241130",
     "status": "completed"
    },
    "tags": []
   },
   "outputs": [
    {
     "data": {
      "text/plain": [
       "(4803, 4803)"
      ]
     },
     "execution_count": 21,
     "metadata": {},
     "output_type": "execute_result"
    }
   ],
   "source": [
    "vector.shape"
   ]
  },
  {
   "cell_type": "code",
   "execution_count": 22,
   "id": "5aacac47",
   "metadata": {
    "execution": {
     "iopub.execute_input": "2023-12-29T16:58:05.283663Z",
     "iopub.status.busy": "2023-12-29T16:58:05.282435Z",
     "iopub.status.idle": "2023-12-29T16:58:07.286428Z",
     "shell.execute_reply": "2023-12-29T16:58:07.285524Z"
    },
    "papermill": {
     "duration": 2.017405,
     "end_time": "2023-12-29T16:58:07.288914",
     "exception": false,
     "start_time": "2023-12-29T16:58:05.271509",
     "status": "completed"
    },
    "tags": []
   },
   "outputs": [],
   "source": [
    "similarity = cosine_similarity(vector)"
   ]
  },
  {
   "cell_type": "code",
   "execution_count": 23,
   "id": "08c6afa8",
   "metadata": {
    "execution": {
     "iopub.execute_input": "2023-12-29T16:58:07.315273Z",
     "iopub.status.busy": "2023-12-29T16:58:07.314480Z",
     "iopub.status.idle": "2023-12-29T16:58:07.321647Z",
     "shell.execute_reply": "2023-12-29T16:58:07.320556Z"
    },
    "papermill": {
     "duration": 0.021538,
     "end_time": "2023-12-29T16:58:07.323820",
     "exception": false,
     "start_time": "2023-12-29T16:58:07.302282",
     "status": "completed"
    },
    "tags": []
   },
   "outputs": [
    {
     "data": {
      "text/plain": [
       "array([[1.        , 0.06019293, 0.03671734, ..., 0.03439596, 0.01903467,\n",
       "        0.        ],\n",
       "       [0.06019293, 1.        , 0.02541643, ..., 0.04761905, 0.        ,\n",
       "        0.        ],\n",
       "       [0.03671734, 0.02541643, 1.        , ..., 0.02178551, 0.        ,\n",
       "        0.        ],\n",
       "       ...,\n",
       "       [0.03439596, 0.04761905, 0.02178551, ..., 1.        , 0.06776309,\n",
       "        0.04462107],\n",
       "       [0.01903467, 0.        , 0.        , ..., 0.06776309, 1.        ,\n",
       "        0.04938648],\n",
       "       [0.        , 0.        , 0.        , ..., 0.04462107, 0.04938648,\n",
       "        1.        ]])"
      ]
     },
     "execution_count": 23,
     "metadata": {},
     "output_type": "execute_result"
    }
   ],
   "source": [
    "similarity"
   ]
  },
  {
   "cell_type": "code",
   "execution_count": 24,
   "id": "c6166d45",
   "metadata": {
    "execution": {
     "iopub.execute_input": "2023-12-29T16:58:07.345778Z",
     "iopub.status.busy": "2023-12-29T16:58:07.345140Z",
     "iopub.status.idle": "2023-12-29T16:58:07.355943Z",
     "shell.execute_reply": "2023-12-29T16:58:07.354846Z"
    },
    "papermill": {
     "duration": 0.024606,
     "end_time": "2023-12-29T16:58:07.358199",
     "exception": false,
     "start_time": "2023-12-29T16:58:07.333593",
     "status": "completed"
    },
    "tags": []
   },
   "outputs": [
    {
     "name": "stdout",
     "output_type": "stream",
     "text": [
      "Spectre\n",
      "Never Say Never Again\n",
      "Quantum of Solace\n",
      "Die Another Day\n",
      "Dr. No\n"
     ]
    }
   ],
   "source": [
    "distance = sorted(list(enumerate(similarity[2])), reverse=True, key=lambda vector:vector[1])\n",
    "for i in distance[:5]:\n",
    "    print(movies_df.iloc[i[0]].title)"
   ]
  },
  {
   "cell_type": "code",
   "execution_count": 25,
   "id": "98c6ee9a",
   "metadata": {
    "execution": {
     "iopub.execute_input": "2023-12-29T16:58:07.379447Z",
     "iopub.status.busy": "2023-12-29T16:58:07.379035Z",
     "iopub.status.idle": "2023-12-29T16:58:07.385444Z",
     "shell.execute_reply": "2023-12-29T16:58:07.384363Z"
    },
    "papermill": {
     "duration": 0.019481,
     "end_time": "2023-12-29T16:58:07.387512",
     "exception": false,
     "start_time": "2023-12-29T16:58:07.368031",
     "status": "completed"
    },
    "tags": []
   },
   "outputs": [],
   "source": [
    "def recommend(movie):\n",
    "    index = movies_df[movies_df['title'] == movie].index[0]\n",
    "    distance = sorted(list(enumerate(similarity[index])), reverse=True, key=lambda vector:vector[1])\n",
    "    for i in distance[1:6]:\n",
    "        print(movies_df.iloc[i[0]].title)"
   ]
  },
  {
   "cell_type": "code",
   "execution_count": 26,
   "id": "91383870",
   "metadata": {
    "execution": {
     "iopub.execute_input": "2023-12-29T16:58:07.409065Z",
     "iopub.status.busy": "2023-12-29T16:58:07.408351Z",
     "iopub.status.idle": "2023-12-29T16:58:07.419596Z",
     "shell.execute_reply": "2023-12-29T16:58:07.418493Z"
    },
    "papermill": {
     "duration": 0.024548,
     "end_time": "2023-12-29T16:58:07.421874",
     "exception": false,
     "start_time": "2023-12-29T16:58:07.397326",
     "status": "completed"
    },
    "tags": []
   },
   "outputs": [
    {
     "name": "stdout",
     "output_type": "stream",
     "text": [
      "Moonraker\n",
      "Aliens\n",
      "Silent Running\n",
      "Mission to Mars\n",
      "Alien\n"
     ]
    }
   ],
   "source": [
    "recommend('Avatar')"
   ]
  },
  {
   "cell_type": "code",
   "execution_count": 27,
   "id": "7b2971b6",
   "metadata": {
    "execution": {
     "iopub.execute_input": "2023-12-29T16:58:07.443756Z",
     "iopub.status.busy": "2023-12-29T16:58:07.443372Z",
     "iopub.status.idle": "2023-12-29T16:58:07.452775Z",
     "shell.execute_reply": "2023-12-29T16:58:07.452030Z"
    },
    "papermill": {
     "duration": 0.023123,
     "end_time": "2023-12-29T16:58:07.454895",
     "exception": false,
     "start_time": "2023-12-29T16:58:07.431772",
     "status": "completed"
    },
    "tags": []
   },
   "outputs": [
    {
     "name": "stdout",
     "output_type": "stream",
     "text": [
      "Avatar\n",
      "Mission to Mars\n",
      "Star Trek: Insurrection\n",
      "The Martian\n",
      "Escape from Planet Earth\n"
     ]
    }
   ],
   "source": [
    "recommend('John Carter')"
   ]
  },
  {
   "cell_type": "code",
   "execution_count": 28,
   "id": "1af03471",
   "metadata": {
    "execution": {
     "iopub.execute_input": "2023-12-29T16:58:07.476381Z",
     "iopub.status.busy": "2023-12-29T16:58:07.475992Z",
     "iopub.status.idle": "2023-12-29T16:58:07.486020Z",
     "shell.execute_reply": "2023-12-29T16:58:07.484874Z"
    },
    "papermill": {
     "duration": 0.023916,
     "end_time": "2023-12-29T16:58:07.488702",
     "exception": false,
     "start_time": "2023-12-29T16:58:07.464786",
     "status": "completed"
    },
    "tags": []
   },
   "outputs": [
    {
     "name": "stdout",
     "output_type": "stream",
     "text": [
      "The Devil Wears Prada\n",
      "The Out-of-Towners\n",
      "I Am Sam\n",
      "Me and Orson Welles\n",
      "Home Alone 2: Lost in New York\n"
     ]
    }
   ],
   "source": [
    "recommend('Shanghai Calling')"
   ]
  }
 ],
 "metadata": {
  "kaggle": {
   "accelerator": "none",
   "dataSources": [
    {
     "datasetId": 1636,
     "sourceId": 792972,
     "sourceType": "datasetVersion"
    },
    {
     "datasetId": 138,
     "sourceId": 4508,
     "sourceType": "datasetVersion"
    }
   ],
   "dockerImageVersionId": 30626,
   "isGpuEnabled": false,
   "isInternetEnabled": true,
   "language": "python",
   "sourceType": "notebook"
  },
  "kernelspec": {
   "display_name": "Python 3",
   "language": "python",
   "name": "python3"
  },
  "language_info": {
   "codemirror_mode": {
    "name": "ipython",
    "version": 3
   },
   "file_extension": ".py",
   "mimetype": "text/x-python",
   "name": "python",
   "nbconvert_exporter": "python",
   "pygments_lexer": "ipython3",
   "version": "3.10.12"
  },
  "papermill": {
   "default_parameters": {},
   "duration": 9.352319,
   "end_time": "2023-12-29T16:58:08.119606",
   "environment_variables": {},
   "exception": null,
   "input_path": "__notebook__.ipynb",
   "output_path": "__notebook__.ipynb",
   "parameters": {},
   "start_time": "2023-12-29T16:57:58.767287",
   "version": "2.4.0"
  }
 },
 "nbformat": 4,
 "nbformat_minor": 5
}
