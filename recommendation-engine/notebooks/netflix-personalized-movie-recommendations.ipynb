{
 "cells": [
  {
   "cell_type": "markdown",
   "id": "e558e3cd",
   "metadata": {
    "papermill": {
     "duration": 0.007792,
     "end_time": "2023-12-30T03:01:01.975617",
     "exception": false,
     "start_time": "2023-12-30T03:01:01.967825",
     "status": "completed"
    },
    "tags": []
   },
   "source": [
    "# Problem Statement\n",
    "Develop a machine learning model that provides personalized movie recommendations to Netflix users. The system should analyze user preferences and viewing history to suggest movies that align with their tastes and interests. The goal is to enhance user engagement and satisfaction by presenting a curated list of movies that are likely to be of interest to each individual user.\"\n",
    "\n",
    "Key aspects of this problem statement include:\n",
    "\n",
    "**Personalization**: The system must tailor recommendations to individual users based on their unique preferences and viewing history.\n",
    "\n",
    "**Data-Driven**: The recommendations should be based on data, such as user ratings, viewing patterns, and movie metadata (genres, directors, actors, etc.).\n",
    "\n",
    "**User Engagement**: The primary objective is to increase user engagement by suggesting movies that users are likely to enjoy and watch.\n",
    "\n",
    "**Scalability**: The system should be scalable, capable of handling a large number of users and movies.\n",
    "\n",
    "**Performance Metrics**: The effectiveness of the system should be measurable using appropriate metrics (e.g., accuracy of recommendations, user satisfaction, click-through rates).\n",
    "\n",
    "**Ethical Considerations**: The system should respect user privacy and comply with data usage regulations.\n",
    "\n",
    "Uses machine learning algorithms to recommend movies and TV shows based on user preferences and viewing history."
   ]
  },
  {
   "cell_type": "markdown",
   "id": "3e71aaff",
   "metadata": {
    "papermill": {
     "duration": 0.006235,
     "end_time": "2023-12-30T03:01:01.988647",
     "exception": false,
     "start_time": "2023-12-30T03:01:01.982412",
     "status": "completed"
    },
    "tags": []
   },
   "source": [
    "# Understand the goals and expectations\n",
    "\n",
    "\n",
    "The project's goal is to enhance Netflix's user experience by providing personalized movie recommendations, increasing engagement and retention. It focuses on scalable, efficient algorithms that respect user privacy, continuously improve through feedback, and positively impact business metrics, while innovating in machine learning and recommendation systems."
   ]
  },
  {
   "cell_type": "code",
   "execution_count": 1,
   "id": "c2d86adc",
   "metadata": {
    "_cell_guid": "b1076dfc-b9ad-4769-8c92-a6c4dae69d19",
    "_uuid": "8f2839f25d086af736a60e9eeb907d3b93b6e0e5",
    "execution": {
     "iopub.execute_input": "2023-12-30T03:01:02.005399Z",
     "iopub.status.busy": "2023-12-30T03:01:02.004053Z",
     "iopub.status.idle": "2023-12-30T03:01:03.938694Z",
     "shell.execute_reply": "2023-12-30T03:01:03.937617Z"
    },
    "papermill": {
     "duration": 1.946405,
     "end_time": "2023-12-30T03:01:03.941571",
     "exception": false,
     "start_time": "2023-12-30T03:01:01.995166",
     "status": "completed"
    },
    "tags": []
   },
   "outputs": [],
   "source": [
    "import numpy as np # linear algebra\n",
    "import pandas as pd # data processing, CSV file I/O (e.g. pd.read_csv)\n",
    "import matplotlib.pyplot as plt\n",
    "import seaborn as sns\n",
    "import json\n",
    "import pickle\n",
    "from sklearn.feature_extraction.text import CountVectorizer\n",
    "from sklearn.metrics.pairwise import cosine_similarity"
   ]
  },
  {
   "cell_type": "code",
   "execution_count": 2,
   "id": "44bb9b6c",
   "metadata": {
    "execution": {
     "iopub.execute_input": "2023-12-30T03:01:03.957228Z",
     "iopub.status.busy": "2023-12-30T03:01:03.955989Z",
     "iopub.status.idle": "2023-12-30T03:01:03.973511Z",
     "shell.execute_reply": "2023-12-30T03:01:03.971887Z"
    },
    "papermill": {
     "duration": 0.027439,
     "end_time": "2023-12-30T03:01:03.975898",
     "exception": false,
     "start_time": "2023-12-30T03:01:03.948459",
     "status": "completed"
    },
    "tags": []
   },
   "outputs": [
    {
     "name": "stdout",
     "output_type": "stream",
     "text": [
      "/kaggle/input/netflix-prize-data/combined_data_3.txt\n",
      "/kaggle/input/netflix-prize-data/movie_titles.csv\n",
      "/kaggle/input/netflix-prize-data/combined_data_4.txt\n",
      "/kaggle/input/netflix-prize-data/combined_data_1.txt\n",
      "/kaggle/input/netflix-prize-data/README\n",
      "/kaggle/input/netflix-prize-data/probe.txt\n",
      "/kaggle/input/netflix-prize-data/combined_data_2.txt\n",
      "/kaggle/input/netflix-prize-data/qualifying.txt\n",
      "/kaggle/input/tmdb-movie-metadata/tmdb_5000_movies.csv\n",
      "/kaggle/input/tmdb-movie-metadata/tmdb_5000_credits.csv\n"
     ]
    }
   ],
   "source": [
    "# Input data files are available in the read-only \"../kaggle/working\" directory\n",
    "import os\n",
    "for dirname, _, filenames in os.walk('/kaggle/input'):\n",
    "    for filename in filenames:\n",
    "        print(os.path.join(dirname, filename))"
   ]
  },
  {
   "cell_type": "code",
   "execution_count": 3,
   "id": "01281db8",
   "metadata": {
    "execution": {
     "iopub.execute_input": "2023-12-30T03:01:03.994471Z",
     "iopub.status.busy": "2023-12-30T03:01:03.993611Z",
     "iopub.status.idle": "2023-12-30T03:01:04.148272Z",
     "shell.execute_reply": "2023-12-30T03:01:04.147419Z"
    },
    "papermill": {
     "duration": 0.167238,
     "end_time": "2023-12-30T03:01:04.150992",
     "exception": false,
     "start_time": "2023-12-30T03:01:03.983754",
     "status": "completed"
    },
    "tags": []
   },
   "outputs": [],
   "source": [
    "#df = pd.read_csv(\"/kaggle/input/netflix-prize-data/movie_titles.csv\", encoding='cp1252', sep=',')\n",
    "df = pd.read_csv(\"/kaggle/input/tmdb-movie-metadata/tmdb_5000_movies.csv\")"
   ]
  },
  {
   "cell_type": "code",
   "execution_count": 4,
   "id": "8aeaeaa6",
   "metadata": {
    "execution": {
     "iopub.execute_input": "2023-12-30T03:01:04.167404Z",
     "iopub.status.busy": "2023-12-30T03:01:04.167036Z",
     "iopub.status.idle": "2023-12-30T03:01:04.199576Z",
     "shell.execute_reply": "2023-12-30T03:01:04.198316Z"
    },
    "papermill": {
     "duration": 0.043159,
     "end_time": "2023-12-30T03:01:04.202224",
     "exception": false,
     "start_time": "2023-12-30T03:01:04.159065",
     "status": "completed"
    },
    "tags": []
   },
   "outputs": [
    {
     "data": {
      "text/html": [
       "<div>\n",
       "<style scoped>\n",
       "    .dataframe tbody tr th:only-of-type {\n",
       "        vertical-align: middle;\n",
       "    }\n",
       "\n",
       "    .dataframe tbody tr th {\n",
       "        vertical-align: top;\n",
       "    }\n",
       "\n",
       "    .dataframe thead th {\n",
       "        text-align: right;\n",
       "    }\n",
       "</style>\n",
       "<table border=\"1\" class=\"dataframe\">\n",
       "  <thead>\n",
       "    <tr style=\"text-align: right;\">\n",
       "      <th></th>\n",
       "      <th>budget</th>\n",
       "      <th>genres</th>\n",
       "      <th>homepage</th>\n",
       "      <th>id</th>\n",
       "      <th>keywords</th>\n",
       "      <th>original_language</th>\n",
       "      <th>original_title</th>\n",
       "      <th>overview</th>\n",
       "      <th>popularity</th>\n",
       "      <th>production_companies</th>\n",
       "      <th>production_countries</th>\n",
       "      <th>release_date</th>\n",
       "      <th>revenue</th>\n",
       "      <th>runtime</th>\n",
       "      <th>spoken_languages</th>\n",
       "      <th>status</th>\n",
       "      <th>tagline</th>\n",
       "      <th>title</th>\n",
       "      <th>vote_average</th>\n",
       "      <th>vote_count</th>\n",
       "    </tr>\n",
       "  </thead>\n",
       "  <tbody>\n",
       "    <tr>\n",
       "      <th>0</th>\n",
       "      <td>237000000</td>\n",
       "      <td>[{\"id\": 28, \"name\": \"Action\"}, {\"id\": 12, \"nam...</td>\n",
       "      <td>http://www.avatarmovie.com/</td>\n",
       "      <td>19995</td>\n",
       "      <td>[{\"id\": 1463, \"name\": \"culture clash\"}, {\"id\":...</td>\n",
       "      <td>en</td>\n",
       "      <td>Avatar</td>\n",
       "      <td>In the 22nd century, a paraplegic Marine is di...</td>\n",
       "      <td>150.437577</td>\n",
       "      <td>[{\"name\": \"Ingenious Film Partners\", \"id\": 289...</td>\n",
       "      <td>[{\"iso_3166_1\": \"US\", \"name\": \"United States o...</td>\n",
       "      <td>2009-12-10</td>\n",
       "      <td>2787965087</td>\n",
       "      <td>162.0</td>\n",
       "      <td>[{\"iso_639_1\": \"en\", \"name\": \"English\"}, {\"iso...</td>\n",
       "      <td>Released</td>\n",
       "      <td>Enter the World of Pandora.</td>\n",
       "      <td>Avatar</td>\n",
       "      <td>7.2</td>\n",
       "      <td>11800</td>\n",
       "    </tr>\n",
       "    <tr>\n",
       "      <th>1</th>\n",
       "      <td>300000000</td>\n",
       "      <td>[{\"id\": 12, \"name\": \"Adventure\"}, {\"id\": 14, \"...</td>\n",
       "      <td>http://disney.go.com/disneypictures/pirates/</td>\n",
       "      <td>285</td>\n",
       "      <td>[{\"id\": 270, \"name\": \"ocean\"}, {\"id\": 726, \"na...</td>\n",
       "      <td>en</td>\n",
       "      <td>Pirates of the Caribbean: At World's End</td>\n",
       "      <td>Captain Barbossa, long believed to be dead, ha...</td>\n",
       "      <td>139.082615</td>\n",
       "      <td>[{\"name\": \"Walt Disney Pictures\", \"id\": 2}, {\"...</td>\n",
       "      <td>[{\"iso_3166_1\": \"US\", \"name\": \"United States o...</td>\n",
       "      <td>2007-05-19</td>\n",
       "      <td>961000000</td>\n",
       "      <td>169.0</td>\n",
       "      <td>[{\"iso_639_1\": \"en\", \"name\": \"English\"}]</td>\n",
       "      <td>Released</td>\n",
       "      <td>At the end of the world, the adventure begins.</td>\n",
       "      <td>Pirates of the Caribbean: At World's End</td>\n",
       "      <td>6.9</td>\n",
       "      <td>4500</td>\n",
       "    </tr>\n",
       "    <tr>\n",
       "      <th>2</th>\n",
       "      <td>245000000</td>\n",
       "      <td>[{\"id\": 28, \"name\": \"Action\"}, {\"id\": 12, \"nam...</td>\n",
       "      <td>http://www.sonypictures.com/movies/spectre/</td>\n",
       "      <td>206647</td>\n",
       "      <td>[{\"id\": 470, \"name\": \"spy\"}, {\"id\": 818, \"name...</td>\n",
       "      <td>en</td>\n",
       "      <td>Spectre</td>\n",
       "      <td>A cryptic message from Bond’s past sends him o...</td>\n",
       "      <td>107.376788</td>\n",
       "      <td>[{\"name\": \"Columbia Pictures\", \"id\": 5}, {\"nam...</td>\n",
       "      <td>[{\"iso_3166_1\": \"GB\", \"name\": \"United Kingdom\"...</td>\n",
       "      <td>2015-10-26</td>\n",
       "      <td>880674609</td>\n",
       "      <td>148.0</td>\n",
       "      <td>[{\"iso_639_1\": \"fr\", \"name\": \"Fran\\u00e7ais\"},...</td>\n",
       "      <td>Released</td>\n",
       "      <td>A Plan No One Escapes</td>\n",
       "      <td>Spectre</td>\n",
       "      <td>6.3</td>\n",
       "      <td>4466</td>\n",
       "    </tr>\n",
       "    <tr>\n",
       "      <th>3</th>\n",
       "      <td>250000000</td>\n",
       "      <td>[{\"id\": 28, \"name\": \"Action\"}, {\"id\": 80, \"nam...</td>\n",
       "      <td>http://www.thedarkknightrises.com/</td>\n",
       "      <td>49026</td>\n",
       "      <td>[{\"id\": 849, \"name\": \"dc comics\"}, {\"id\": 853,...</td>\n",
       "      <td>en</td>\n",
       "      <td>The Dark Knight Rises</td>\n",
       "      <td>Following the death of District Attorney Harve...</td>\n",
       "      <td>112.312950</td>\n",
       "      <td>[{\"name\": \"Legendary Pictures\", \"id\": 923}, {\"...</td>\n",
       "      <td>[{\"iso_3166_1\": \"US\", \"name\": \"United States o...</td>\n",
       "      <td>2012-07-16</td>\n",
       "      <td>1084939099</td>\n",
       "      <td>165.0</td>\n",
       "      <td>[{\"iso_639_1\": \"en\", \"name\": \"English\"}]</td>\n",
       "      <td>Released</td>\n",
       "      <td>The Legend Ends</td>\n",
       "      <td>The Dark Knight Rises</td>\n",
       "      <td>7.6</td>\n",
       "      <td>9106</td>\n",
       "    </tr>\n",
       "    <tr>\n",
       "      <th>4</th>\n",
       "      <td>260000000</td>\n",
       "      <td>[{\"id\": 28, \"name\": \"Action\"}, {\"id\": 12, \"nam...</td>\n",
       "      <td>http://movies.disney.com/john-carter</td>\n",
       "      <td>49529</td>\n",
       "      <td>[{\"id\": 818, \"name\": \"based on novel\"}, {\"id\":...</td>\n",
       "      <td>en</td>\n",
       "      <td>John Carter</td>\n",
       "      <td>John Carter is a war-weary, former military ca...</td>\n",
       "      <td>43.926995</td>\n",
       "      <td>[{\"name\": \"Walt Disney Pictures\", \"id\": 2}]</td>\n",
       "      <td>[{\"iso_3166_1\": \"US\", \"name\": \"United States o...</td>\n",
       "      <td>2012-03-07</td>\n",
       "      <td>284139100</td>\n",
       "      <td>132.0</td>\n",
       "      <td>[{\"iso_639_1\": \"en\", \"name\": \"English\"}]</td>\n",
       "      <td>Released</td>\n",
       "      <td>Lost in our world, found in another.</td>\n",
       "      <td>John Carter</td>\n",
       "      <td>6.1</td>\n",
       "      <td>2124</td>\n",
       "    </tr>\n",
       "  </tbody>\n",
       "</table>\n",
       "</div>"
      ],
      "text/plain": [
       "      budget                                             genres  \\\n",
       "0  237000000  [{\"id\": 28, \"name\": \"Action\"}, {\"id\": 12, \"nam...   \n",
       "1  300000000  [{\"id\": 12, \"name\": \"Adventure\"}, {\"id\": 14, \"...   \n",
       "2  245000000  [{\"id\": 28, \"name\": \"Action\"}, {\"id\": 12, \"nam...   \n",
       "3  250000000  [{\"id\": 28, \"name\": \"Action\"}, {\"id\": 80, \"nam...   \n",
       "4  260000000  [{\"id\": 28, \"name\": \"Action\"}, {\"id\": 12, \"nam...   \n",
       "\n",
       "                                       homepage      id  \\\n",
       "0                   http://www.avatarmovie.com/   19995   \n",
       "1  http://disney.go.com/disneypictures/pirates/     285   \n",
       "2   http://www.sonypictures.com/movies/spectre/  206647   \n",
       "3            http://www.thedarkknightrises.com/   49026   \n",
       "4          http://movies.disney.com/john-carter   49529   \n",
       "\n",
       "                                            keywords original_language  \\\n",
       "0  [{\"id\": 1463, \"name\": \"culture clash\"}, {\"id\":...                en   \n",
       "1  [{\"id\": 270, \"name\": \"ocean\"}, {\"id\": 726, \"na...                en   \n",
       "2  [{\"id\": 470, \"name\": \"spy\"}, {\"id\": 818, \"name...                en   \n",
       "3  [{\"id\": 849, \"name\": \"dc comics\"}, {\"id\": 853,...                en   \n",
       "4  [{\"id\": 818, \"name\": \"based on novel\"}, {\"id\":...                en   \n",
       "\n",
       "                             original_title  \\\n",
       "0                                    Avatar   \n",
       "1  Pirates of the Caribbean: At World's End   \n",
       "2                                   Spectre   \n",
       "3                     The Dark Knight Rises   \n",
       "4                               John Carter   \n",
       "\n",
       "                                            overview  popularity  \\\n",
       "0  In the 22nd century, a paraplegic Marine is di...  150.437577   \n",
       "1  Captain Barbossa, long believed to be dead, ha...  139.082615   \n",
       "2  A cryptic message from Bond’s past sends him o...  107.376788   \n",
       "3  Following the death of District Attorney Harve...  112.312950   \n",
       "4  John Carter is a war-weary, former military ca...   43.926995   \n",
       "\n",
       "                                production_companies  \\\n",
       "0  [{\"name\": \"Ingenious Film Partners\", \"id\": 289...   \n",
       "1  [{\"name\": \"Walt Disney Pictures\", \"id\": 2}, {\"...   \n",
       "2  [{\"name\": \"Columbia Pictures\", \"id\": 5}, {\"nam...   \n",
       "3  [{\"name\": \"Legendary Pictures\", \"id\": 923}, {\"...   \n",
       "4        [{\"name\": \"Walt Disney Pictures\", \"id\": 2}]   \n",
       "\n",
       "                                production_countries release_date     revenue  \\\n",
       "0  [{\"iso_3166_1\": \"US\", \"name\": \"United States o...   2009-12-10  2787965087   \n",
       "1  [{\"iso_3166_1\": \"US\", \"name\": \"United States o...   2007-05-19   961000000   \n",
       "2  [{\"iso_3166_1\": \"GB\", \"name\": \"United Kingdom\"...   2015-10-26   880674609   \n",
       "3  [{\"iso_3166_1\": \"US\", \"name\": \"United States o...   2012-07-16  1084939099   \n",
       "4  [{\"iso_3166_1\": \"US\", \"name\": \"United States o...   2012-03-07   284139100   \n",
       "\n",
       "   runtime                                   spoken_languages    status  \\\n",
       "0    162.0  [{\"iso_639_1\": \"en\", \"name\": \"English\"}, {\"iso...  Released   \n",
       "1    169.0           [{\"iso_639_1\": \"en\", \"name\": \"English\"}]  Released   \n",
       "2    148.0  [{\"iso_639_1\": \"fr\", \"name\": \"Fran\\u00e7ais\"},...  Released   \n",
       "3    165.0           [{\"iso_639_1\": \"en\", \"name\": \"English\"}]  Released   \n",
       "4    132.0           [{\"iso_639_1\": \"en\", \"name\": \"English\"}]  Released   \n",
       "\n",
       "                                          tagline  \\\n",
       "0                     Enter the World of Pandora.   \n",
       "1  At the end of the world, the adventure begins.   \n",
       "2                           A Plan No One Escapes   \n",
       "3                                 The Legend Ends   \n",
       "4            Lost in our world, found in another.   \n",
       "\n",
       "                                      title  vote_average  vote_count  \n",
       "0                                    Avatar           7.2       11800  \n",
       "1  Pirates of the Caribbean: At World's End           6.9        4500  \n",
       "2                                   Spectre           6.3        4466  \n",
       "3                     The Dark Knight Rises           7.6        9106  \n",
       "4                               John Carter           6.1        2124  "
      ]
     },
     "execution_count": 4,
     "metadata": {},
     "output_type": "execute_result"
    }
   ],
   "source": [
    "df.head()"
   ]
  },
  {
   "cell_type": "code",
   "execution_count": 5,
   "id": "8add530d",
   "metadata": {
    "execution": {
     "iopub.execute_input": "2023-12-30T03:01:04.219674Z",
     "iopub.status.busy": "2023-12-30T03:01:04.218808Z",
     "iopub.status.idle": "2023-12-30T03:01:04.249673Z",
     "shell.execute_reply": "2023-12-30T03:01:04.248585Z"
    },
    "papermill": {
     "duration": 0.042043,
     "end_time": "2023-12-30T03:01:04.251771",
     "exception": false,
     "start_time": "2023-12-30T03:01:04.209728",
     "status": "completed"
    },
    "tags": []
   },
   "outputs": [
    {
     "data": {
      "text/html": [
       "<div>\n",
       "<style scoped>\n",
       "    .dataframe tbody tr th:only-of-type {\n",
       "        vertical-align: middle;\n",
       "    }\n",
       "\n",
       "    .dataframe tbody tr th {\n",
       "        vertical-align: top;\n",
       "    }\n",
       "\n",
       "    .dataframe thead th {\n",
       "        text-align: right;\n",
       "    }\n",
       "</style>\n",
       "<table border=\"1\" class=\"dataframe\">\n",
       "  <thead>\n",
       "    <tr style=\"text-align: right;\">\n",
       "      <th></th>\n",
       "      <th>budget</th>\n",
       "      <th>id</th>\n",
       "      <th>popularity</th>\n",
       "      <th>revenue</th>\n",
       "      <th>runtime</th>\n",
       "      <th>vote_average</th>\n",
       "      <th>vote_count</th>\n",
       "    </tr>\n",
       "  </thead>\n",
       "  <tbody>\n",
       "    <tr>\n",
       "      <th>count</th>\n",
       "      <td>4.803000e+03</td>\n",
       "      <td>4803.000000</td>\n",
       "      <td>4803.000000</td>\n",
       "      <td>4.803000e+03</td>\n",
       "      <td>4801.000000</td>\n",
       "      <td>4803.000000</td>\n",
       "      <td>4803.000000</td>\n",
       "    </tr>\n",
       "    <tr>\n",
       "      <th>mean</th>\n",
       "      <td>2.904504e+07</td>\n",
       "      <td>57165.484281</td>\n",
       "      <td>21.492301</td>\n",
       "      <td>8.226064e+07</td>\n",
       "      <td>106.875859</td>\n",
       "      <td>6.092172</td>\n",
       "      <td>690.217989</td>\n",
       "    </tr>\n",
       "    <tr>\n",
       "      <th>std</th>\n",
       "      <td>4.072239e+07</td>\n",
       "      <td>88694.614033</td>\n",
       "      <td>31.816650</td>\n",
       "      <td>1.628571e+08</td>\n",
       "      <td>22.611935</td>\n",
       "      <td>1.194612</td>\n",
       "      <td>1234.585891</td>\n",
       "    </tr>\n",
       "    <tr>\n",
       "      <th>min</th>\n",
       "      <td>0.000000e+00</td>\n",
       "      <td>5.000000</td>\n",
       "      <td>0.000000</td>\n",
       "      <td>0.000000e+00</td>\n",
       "      <td>0.000000</td>\n",
       "      <td>0.000000</td>\n",
       "      <td>0.000000</td>\n",
       "    </tr>\n",
       "    <tr>\n",
       "      <th>25%</th>\n",
       "      <td>7.900000e+05</td>\n",
       "      <td>9014.500000</td>\n",
       "      <td>4.668070</td>\n",
       "      <td>0.000000e+00</td>\n",
       "      <td>94.000000</td>\n",
       "      <td>5.600000</td>\n",
       "      <td>54.000000</td>\n",
       "    </tr>\n",
       "    <tr>\n",
       "      <th>50%</th>\n",
       "      <td>1.500000e+07</td>\n",
       "      <td>14629.000000</td>\n",
       "      <td>12.921594</td>\n",
       "      <td>1.917000e+07</td>\n",
       "      <td>103.000000</td>\n",
       "      <td>6.200000</td>\n",
       "      <td>235.000000</td>\n",
       "    </tr>\n",
       "    <tr>\n",
       "      <th>75%</th>\n",
       "      <td>4.000000e+07</td>\n",
       "      <td>58610.500000</td>\n",
       "      <td>28.313505</td>\n",
       "      <td>9.291719e+07</td>\n",
       "      <td>118.000000</td>\n",
       "      <td>6.800000</td>\n",
       "      <td>737.000000</td>\n",
       "    </tr>\n",
       "    <tr>\n",
       "      <th>max</th>\n",
       "      <td>3.800000e+08</td>\n",
       "      <td>459488.000000</td>\n",
       "      <td>875.581305</td>\n",
       "      <td>2.787965e+09</td>\n",
       "      <td>338.000000</td>\n",
       "      <td>10.000000</td>\n",
       "      <td>13752.000000</td>\n",
       "    </tr>\n",
       "  </tbody>\n",
       "</table>\n",
       "</div>"
      ],
      "text/plain": [
       "             budget             id   popularity       revenue      runtime  \\\n",
       "count  4.803000e+03    4803.000000  4803.000000  4.803000e+03  4801.000000   \n",
       "mean   2.904504e+07   57165.484281    21.492301  8.226064e+07   106.875859   \n",
       "std    4.072239e+07   88694.614033    31.816650  1.628571e+08    22.611935   \n",
       "min    0.000000e+00       5.000000     0.000000  0.000000e+00     0.000000   \n",
       "25%    7.900000e+05    9014.500000     4.668070  0.000000e+00    94.000000   \n",
       "50%    1.500000e+07   14629.000000    12.921594  1.917000e+07   103.000000   \n",
       "75%    4.000000e+07   58610.500000    28.313505  9.291719e+07   118.000000   \n",
       "max    3.800000e+08  459488.000000   875.581305  2.787965e+09   338.000000   \n",
       "\n",
       "       vote_average    vote_count  \n",
       "count   4803.000000   4803.000000  \n",
       "mean       6.092172    690.217989  \n",
       "std        1.194612   1234.585891  \n",
       "min        0.000000      0.000000  \n",
       "25%        5.600000     54.000000  \n",
       "50%        6.200000    235.000000  \n",
       "75%        6.800000    737.000000  \n",
       "max       10.000000  13752.000000  "
      ]
     },
     "execution_count": 5,
     "metadata": {},
     "output_type": "execute_result"
    }
   ],
   "source": [
    "df.describe()"
   ]
  },
  {
   "cell_type": "code",
   "execution_count": 6,
   "id": "6c99d556",
   "metadata": {
    "execution": {
     "iopub.execute_input": "2023-12-30T03:01:04.268180Z",
     "iopub.status.busy": "2023-12-30T03:01:04.267698Z",
     "iopub.status.idle": "2023-12-30T03:01:04.298833Z",
     "shell.execute_reply": "2023-12-30T03:01:04.297634Z"
    },
    "papermill": {
     "duration": 0.041876,
     "end_time": "2023-12-30T03:01:04.300811",
     "exception": false,
     "start_time": "2023-12-30T03:01:04.258935",
     "status": "completed"
    },
    "tags": []
   },
   "outputs": [
    {
     "name": "stdout",
     "output_type": "stream",
     "text": [
      "<class 'pandas.core.frame.DataFrame'>\n",
      "RangeIndex: 4803 entries, 0 to 4802\n",
      "Data columns (total 20 columns):\n",
      " #   Column                Non-Null Count  Dtype  \n",
      "---  ------                --------------  -----  \n",
      " 0   budget                4803 non-null   int64  \n",
      " 1   genres                4803 non-null   object \n",
      " 2   homepage              1712 non-null   object \n",
      " 3   id                    4803 non-null   int64  \n",
      " 4   keywords              4803 non-null   object \n",
      " 5   original_language     4803 non-null   object \n",
      " 6   original_title        4803 non-null   object \n",
      " 7   overview              4800 non-null   object \n",
      " 8   popularity            4803 non-null   float64\n",
      " 9   production_companies  4803 non-null   object \n",
      " 10  production_countries  4803 non-null   object \n",
      " 11  release_date          4802 non-null   object \n",
      " 12  revenue               4803 non-null   int64  \n",
      " 13  runtime               4801 non-null   float64\n",
      " 14  spoken_languages      4803 non-null   object \n",
      " 15  status                4803 non-null   object \n",
      " 16  tagline               3959 non-null   object \n",
      " 17  title                 4803 non-null   object \n",
      " 18  vote_average          4803 non-null   float64\n",
      " 19  vote_count            4803 non-null   int64  \n",
      "dtypes: float64(3), int64(4), object(13)\n",
      "memory usage: 750.6+ KB\n"
     ]
    }
   ],
   "source": [
    "df.info()"
   ]
  },
  {
   "cell_type": "code",
   "execution_count": 7,
   "id": "8911ab01",
   "metadata": {
    "execution": {
     "iopub.execute_input": "2023-12-30T03:01:04.317105Z",
     "iopub.status.busy": "2023-12-30T03:01:04.316659Z",
     "iopub.status.idle": "2023-12-30T03:01:04.325529Z",
     "shell.execute_reply": "2023-12-30T03:01:04.324326Z"
    },
    "papermill": {
     "duration": 0.018967,
     "end_time": "2023-12-30T03:01:04.327375",
     "exception": false,
     "start_time": "2023-12-30T03:01:04.308408",
     "status": "completed"
    },
    "tags": []
   },
   "outputs": [
    {
     "data": {
      "text/plain": [
       "Index(['budget', 'genres', 'homepage', 'id', 'keywords', 'original_language',\n",
       "       'original_title', 'overview', 'popularity', 'production_companies',\n",
       "       'production_countries', 'release_date', 'revenue', 'runtime',\n",
       "       'spoken_languages', 'status', 'tagline', 'title', 'vote_average',\n",
       "       'vote_count'],\n",
       "      dtype='object')"
      ]
     },
     "execution_count": 7,
     "metadata": {},
     "output_type": "execute_result"
    }
   ],
   "source": [
    "df.columns"
   ]
  },
  {
   "cell_type": "code",
   "execution_count": 8,
   "id": "c379bee8",
   "metadata": {
    "execution": {
     "iopub.execute_input": "2023-12-30T03:01:04.346263Z",
     "iopub.status.busy": "2023-12-30T03:01:04.345132Z",
     "iopub.status.idle": "2023-12-30T03:01:04.357851Z",
     "shell.execute_reply": "2023-12-30T03:01:04.357159Z"
    },
    "papermill": {
     "duration": 0.024534,
     "end_time": "2023-12-30T03:01:04.359519",
     "exception": false,
     "start_time": "2023-12-30T03:01:04.334985",
     "status": "completed"
    },
    "tags": []
   },
   "outputs": [
    {
     "data": {
      "text/plain": [
       "budget                     0\n",
       "genres                     0\n",
       "homepage                3091\n",
       "id                         0\n",
       "keywords                   0\n",
       "original_language          0\n",
       "original_title             0\n",
       "overview                   3\n",
       "popularity                 0\n",
       "production_companies       0\n",
       "production_countries       0\n",
       "release_date               1\n",
       "revenue                    0\n",
       "runtime                    2\n",
       "spoken_languages           0\n",
       "status                     0\n",
       "tagline                  844\n",
       "title                      0\n",
       "vote_average               0\n",
       "vote_count                 0\n",
       "dtype: int64"
      ]
     },
     "execution_count": 8,
     "metadata": {},
     "output_type": "execute_result"
    }
   ],
   "source": [
    "df.isnull().sum()"
   ]
  },
  {
   "cell_type": "code",
   "execution_count": 9,
   "id": "512da146",
   "metadata": {
    "execution": {
     "iopub.execute_input": "2023-12-30T03:01:04.378295Z",
     "iopub.status.busy": "2023-12-30T03:01:04.377617Z",
     "iopub.status.idle": "2023-12-30T03:01:04.385541Z",
     "shell.execute_reply": "2023-12-30T03:01:04.384872Z"
    },
    "papermill": {
     "duration": 0.020577,
     "end_time": "2023-12-30T03:01:04.387356",
     "exception": false,
     "start_time": "2023-12-30T03:01:04.366779",
     "status": "completed"
    },
    "tags": []
   },
   "outputs": [],
   "source": [
    "movies = df[['id', 'keywords', 'overview', 'title', 'genres']]"
   ]
  },
  {
   "cell_type": "code",
   "execution_count": 10,
   "id": "bf641e18",
   "metadata": {
    "execution": {
     "iopub.execute_input": "2023-12-30T03:01:04.402787Z",
     "iopub.status.busy": "2023-12-30T03:01:04.402373Z",
     "iopub.status.idle": "2023-12-30T03:01:04.413457Z",
     "shell.execute_reply": "2023-12-30T03:01:04.412605Z"
    },
    "papermill": {
     "duration": 0.021489,
     "end_time": "2023-12-30T03:01:04.415896",
     "exception": false,
     "start_time": "2023-12-30T03:01:04.394407",
     "status": "completed"
    },
    "tags": []
   },
   "outputs": [
    {
     "data": {
      "text/html": [
       "<div>\n",
       "<style scoped>\n",
       "    .dataframe tbody tr th:only-of-type {\n",
       "        vertical-align: middle;\n",
       "    }\n",
       "\n",
       "    .dataframe tbody tr th {\n",
       "        vertical-align: top;\n",
       "    }\n",
       "\n",
       "    .dataframe thead th {\n",
       "        text-align: right;\n",
       "    }\n",
       "</style>\n",
       "<table border=\"1\" class=\"dataframe\">\n",
       "  <thead>\n",
       "    <tr style=\"text-align: right;\">\n",
       "      <th></th>\n",
       "      <th>id</th>\n",
       "      <th>keywords</th>\n",
       "      <th>overview</th>\n",
       "      <th>title</th>\n",
       "      <th>genres</th>\n",
       "    </tr>\n",
       "  </thead>\n",
       "  <tbody>\n",
       "    <tr>\n",
       "      <th>0</th>\n",
       "      <td>19995</td>\n",
       "      <td>[{\"id\": 1463, \"name\": \"culture clash\"}, {\"id\":...</td>\n",
       "      <td>In the 22nd century, a paraplegic Marine is di...</td>\n",
       "      <td>Avatar</td>\n",
       "      <td>[{\"id\": 28, \"name\": \"Action\"}, {\"id\": 12, \"nam...</td>\n",
       "    </tr>\n",
       "    <tr>\n",
       "      <th>1</th>\n",
       "      <td>285</td>\n",
       "      <td>[{\"id\": 270, \"name\": \"ocean\"}, {\"id\": 726, \"na...</td>\n",
       "      <td>Captain Barbossa, long believed to be dead, ha...</td>\n",
       "      <td>Pirates of the Caribbean: At World's End</td>\n",
       "      <td>[{\"id\": 12, \"name\": \"Adventure\"}, {\"id\": 14, \"...</td>\n",
       "    </tr>\n",
       "    <tr>\n",
       "      <th>2</th>\n",
       "      <td>206647</td>\n",
       "      <td>[{\"id\": 470, \"name\": \"spy\"}, {\"id\": 818, \"name...</td>\n",
       "      <td>A cryptic message from Bond’s past sends him o...</td>\n",
       "      <td>Spectre</td>\n",
       "      <td>[{\"id\": 28, \"name\": \"Action\"}, {\"id\": 12, \"nam...</td>\n",
       "    </tr>\n",
       "    <tr>\n",
       "      <th>3</th>\n",
       "      <td>49026</td>\n",
       "      <td>[{\"id\": 849, \"name\": \"dc comics\"}, {\"id\": 853,...</td>\n",
       "      <td>Following the death of District Attorney Harve...</td>\n",
       "      <td>The Dark Knight Rises</td>\n",
       "      <td>[{\"id\": 28, \"name\": \"Action\"}, {\"id\": 80, \"nam...</td>\n",
       "    </tr>\n",
       "    <tr>\n",
       "      <th>4</th>\n",
       "      <td>49529</td>\n",
       "      <td>[{\"id\": 818, \"name\": \"based on novel\"}, {\"id\":...</td>\n",
       "      <td>John Carter is a war-weary, former military ca...</td>\n",
       "      <td>John Carter</td>\n",
       "      <td>[{\"id\": 28, \"name\": \"Action\"}, {\"id\": 12, \"nam...</td>\n",
       "    </tr>\n",
       "    <tr>\n",
       "      <th>...</th>\n",
       "      <td>...</td>\n",
       "      <td>...</td>\n",
       "      <td>...</td>\n",
       "      <td>...</td>\n",
       "      <td>...</td>\n",
       "    </tr>\n",
       "    <tr>\n",
       "      <th>4798</th>\n",
       "      <td>9367</td>\n",
       "      <td>[{\"id\": 5616, \"name\": \"united states\\u2013mexi...</td>\n",
       "      <td>El Mariachi just wants to play his guitar and ...</td>\n",
       "      <td>El Mariachi</td>\n",
       "      <td>[{\"id\": 28, \"name\": \"Action\"}, {\"id\": 80, \"nam...</td>\n",
       "    </tr>\n",
       "    <tr>\n",
       "      <th>4799</th>\n",
       "      <td>72766</td>\n",
       "      <td>[]</td>\n",
       "      <td>A newlywed couple's honeymoon is upended by th...</td>\n",
       "      <td>Newlyweds</td>\n",
       "      <td>[{\"id\": 35, \"name\": \"Comedy\"}, {\"id\": 10749, \"...</td>\n",
       "    </tr>\n",
       "    <tr>\n",
       "      <th>4800</th>\n",
       "      <td>231617</td>\n",
       "      <td>[{\"id\": 248, \"name\": \"date\"}, {\"id\": 699, \"nam...</td>\n",
       "      <td>\"Signed, Sealed, Delivered\" introduces a dedic...</td>\n",
       "      <td>Signed, Sealed, Delivered</td>\n",
       "      <td>[{\"id\": 35, \"name\": \"Comedy\"}, {\"id\": 18, \"nam...</td>\n",
       "    </tr>\n",
       "    <tr>\n",
       "      <th>4801</th>\n",
       "      <td>126186</td>\n",
       "      <td>[]</td>\n",
       "      <td>When ambitious New York attorney Sam is sent t...</td>\n",
       "      <td>Shanghai Calling</td>\n",
       "      <td>[]</td>\n",
       "    </tr>\n",
       "    <tr>\n",
       "      <th>4802</th>\n",
       "      <td>25975</td>\n",
       "      <td>[{\"id\": 1523, \"name\": \"obsession\"}, {\"id\": 224...</td>\n",
       "      <td>Ever since the second grade when he first saw ...</td>\n",
       "      <td>My Date with Drew</td>\n",
       "      <td>[{\"id\": 99, \"name\": \"Documentary\"}]</td>\n",
       "    </tr>\n",
       "  </tbody>\n",
       "</table>\n",
       "<p>4803 rows × 5 columns</p>\n",
       "</div>"
      ],
      "text/plain": [
       "          id                                           keywords  \\\n",
       "0      19995  [{\"id\": 1463, \"name\": \"culture clash\"}, {\"id\":...   \n",
       "1        285  [{\"id\": 270, \"name\": \"ocean\"}, {\"id\": 726, \"na...   \n",
       "2     206647  [{\"id\": 470, \"name\": \"spy\"}, {\"id\": 818, \"name...   \n",
       "3      49026  [{\"id\": 849, \"name\": \"dc comics\"}, {\"id\": 853,...   \n",
       "4      49529  [{\"id\": 818, \"name\": \"based on novel\"}, {\"id\":...   \n",
       "...      ...                                                ...   \n",
       "4798    9367  [{\"id\": 5616, \"name\": \"united states\\u2013mexi...   \n",
       "4799   72766                                                 []   \n",
       "4800  231617  [{\"id\": 248, \"name\": \"date\"}, {\"id\": 699, \"nam...   \n",
       "4801  126186                                                 []   \n",
       "4802   25975  [{\"id\": 1523, \"name\": \"obsession\"}, {\"id\": 224...   \n",
       "\n",
       "                                               overview  \\\n",
       "0     In the 22nd century, a paraplegic Marine is di...   \n",
       "1     Captain Barbossa, long believed to be dead, ha...   \n",
       "2     A cryptic message from Bond’s past sends him o...   \n",
       "3     Following the death of District Attorney Harve...   \n",
       "4     John Carter is a war-weary, former military ca...   \n",
       "...                                                 ...   \n",
       "4798  El Mariachi just wants to play his guitar and ...   \n",
       "4799  A newlywed couple's honeymoon is upended by th...   \n",
       "4800  \"Signed, Sealed, Delivered\" introduces a dedic...   \n",
       "4801  When ambitious New York attorney Sam is sent t...   \n",
       "4802  Ever since the second grade when he first saw ...   \n",
       "\n",
       "                                         title  \\\n",
       "0                                       Avatar   \n",
       "1     Pirates of the Caribbean: At World's End   \n",
       "2                                      Spectre   \n",
       "3                        The Dark Knight Rises   \n",
       "4                                  John Carter   \n",
       "...                                        ...   \n",
       "4798                               El Mariachi   \n",
       "4799                                 Newlyweds   \n",
       "4800                 Signed, Sealed, Delivered   \n",
       "4801                          Shanghai Calling   \n",
       "4802                         My Date with Drew   \n",
       "\n",
       "                                                 genres  \n",
       "0     [{\"id\": 28, \"name\": \"Action\"}, {\"id\": 12, \"nam...  \n",
       "1     [{\"id\": 12, \"name\": \"Adventure\"}, {\"id\": 14, \"...  \n",
       "2     [{\"id\": 28, \"name\": \"Action\"}, {\"id\": 12, \"nam...  \n",
       "3     [{\"id\": 28, \"name\": \"Action\"}, {\"id\": 80, \"nam...  \n",
       "4     [{\"id\": 28, \"name\": \"Action\"}, {\"id\": 12, \"nam...  \n",
       "...                                                 ...  \n",
       "4798  [{\"id\": 28, \"name\": \"Action\"}, {\"id\": 80, \"nam...  \n",
       "4799  [{\"id\": 35, \"name\": \"Comedy\"}, {\"id\": 10749, \"...  \n",
       "4800  [{\"id\": 35, \"name\": \"Comedy\"}, {\"id\": 18, \"nam...  \n",
       "4801                                                 []  \n",
       "4802                [{\"id\": 99, \"name\": \"Documentary\"}]  \n",
       "\n",
       "[4803 rows x 5 columns]"
      ]
     },
     "execution_count": 10,
     "metadata": {},
     "output_type": "execute_result"
    }
   ],
   "source": [
    "movies"
   ]
  },
  {
   "cell_type": "code",
   "execution_count": 11,
   "id": "35f1c78a",
   "metadata": {
    "execution": {
     "iopub.execute_input": "2023-12-30T03:01:04.433945Z",
     "iopub.status.busy": "2023-12-30T03:01:04.433437Z",
     "iopub.status.idle": "2023-12-30T03:01:04.438007Z",
     "shell.execute_reply": "2023-12-30T03:01:04.437446Z"
    },
    "papermill": {
     "duration": 0.014858,
     "end_time": "2023-12-30T03:01:04.439612",
     "exception": false,
     "start_time": "2023-12-30T03:01:04.424754",
     "status": "completed"
    },
    "tags": []
   },
   "outputs": [],
   "source": [
    "def extract_names(json_str):\n",
    "    try:\n",
    "        items = json.loads(json_str)\n",
    "        names = [item['name'] for item in items]\n",
    "        return ', '.join(names)\n",
    "    except json.JSONDecodeError:\n",
    "        return ''"
   ]
  },
  {
   "cell_type": "code",
   "execution_count": 12,
   "id": "7e317f07",
   "metadata": {
    "execution": {
     "iopub.execute_input": "2023-12-30T03:01:04.459447Z",
     "iopub.status.busy": "2023-12-30T03:01:04.458385Z",
     "iopub.status.idle": "2023-12-30T03:01:04.463769Z",
     "shell.execute_reply": "2023-12-30T03:01:04.463150Z"
    },
    "papermill": {
     "duration": 0.018643,
     "end_time": "2023-12-30T03:01:04.465664",
     "exception": false,
     "start_time": "2023-12-30T03:01:04.447021",
     "status": "completed"
    },
    "tags": []
   },
   "outputs": [],
   "source": [
    "movies = movies.copy()"
   ]
  },
  {
   "cell_type": "code",
   "execution_count": 13,
   "id": "a0b9e8a1",
   "metadata": {
    "execution": {
     "iopub.execute_input": "2023-12-30T03:01:04.484113Z",
     "iopub.status.busy": "2023-12-30T03:01:04.483731Z",
     "iopub.status.idle": "2023-12-30T03:01:04.508849Z",
     "shell.execute_reply": "2023-12-30T03:01:04.508155Z"
    },
    "papermill": {
     "duration": 0.036292,
     "end_time": "2023-12-30T03:01:04.510847",
     "exception": false,
     "start_time": "2023-12-30T03:01:04.474555",
     "status": "completed"
    },
    "tags": []
   },
   "outputs": [],
   "source": [
    "movies.loc[:,'only_genres'] = movies['genres'].apply(extract_names)"
   ]
  },
  {
   "cell_type": "code",
   "execution_count": 14,
   "id": "a0ed157d",
   "metadata": {
    "execution": {
     "iopub.execute_input": "2023-12-30T03:01:04.530550Z",
     "iopub.status.busy": "2023-12-30T03:01:04.529954Z",
     "iopub.status.idle": "2023-12-30T03:01:04.568855Z",
     "shell.execute_reply": "2023-12-30T03:01:04.567369Z"
    },
    "papermill": {
     "duration": 0.051461,
     "end_time": "2023-12-30T03:01:04.571710",
     "exception": false,
     "start_time": "2023-12-30T03:01:04.520249",
     "status": "completed"
    },
    "tags": []
   },
   "outputs": [],
   "source": [
    "movies.loc[:,'only_keywords'] = movies['keywords'].apply(extract_names)"
   ]
  },
  {
   "cell_type": "code",
   "execution_count": 15,
   "id": "dd1b755f",
   "metadata": {
    "execution": {
     "iopub.execute_input": "2023-12-30T03:01:04.590244Z",
     "iopub.status.busy": "2023-12-30T03:01:04.589804Z",
     "iopub.status.idle": "2023-12-30T03:01:04.595598Z",
     "shell.execute_reply": "2023-12-30T03:01:04.594843Z"
    },
    "papermill": {
     "duration": 0.017112,
     "end_time": "2023-12-30T03:01:04.597356",
     "exception": false,
     "start_time": "2023-12-30T03:01:04.580244",
     "status": "completed"
    },
    "tags": []
   },
   "outputs": [],
   "source": [
    "movies = movies.copy()"
   ]
  },
  {
   "cell_type": "code",
   "execution_count": 16,
   "id": "77d24e84",
   "metadata": {
    "execution": {
     "iopub.execute_input": "2023-12-30T03:01:04.614773Z",
     "iopub.status.busy": "2023-12-30T03:01:04.614287Z",
     "iopub.status.idle": "2023-12-30T03:01:04.626574Z",
     "shell.execute_reply": "2023-12-30T03:01:04.625289Z"
    },
    "papermill": {
     "duration": 0.023746,
     "end_time": "2023-12-30T03:01:04.629331",
     "exception": false,
     "start_time": "2023-12-30T03:01:04.605585",
     "status": "completed"
    },
    "tags": []
   },
   "outputs": [],
   "source": [
    "movies.loc[:,'tags'] = movies['only_genres']+movies['overview']+movies['only_keywords']"
   ]
  },
  {
   "cell_type": "code",
   "execution_count": 17,
   "id": "1b4dde90",
   "metadata": {
    "execution": {
     "iopub.execute_input": "2023-12-30T03:01:04.647557Z",
     "iopub.status.busy": "2023-12-30T03:01:04.647224Z",
     "iopub.status.idle": "2023-12-30T03:01:04.662343Z",
     "shell.execute_reply": "2023-12-30T03:01:04.661212Z"
    },
    "papermill": {
     "duration": 0.026256,
     "end_time": "2023-12-30T03:01:04.664186",
     "exception": false,
     "start_time": "2023-12-30T03:01:04.637930",
     "status": "completed"
    },
    "tags": []
   },
   "outputs": [
    {
     "data": {
      "text/html": [
       "<div>\n",
       "<style scoped>\n",
       "    .dataframe tbody tr th:only-of-type {\n",
       "        vertical-align: middle;\n",
       "    }\n",
       "\n",
       "    .dataframe tbody tr th {\n",
       "        vertical-align: top;\n",
       "    }\n",
       "\n",
       "    .dataframe thead th {\n",
       "        text-align: right;\n",
       "    }\n",
       "</style>\n",
       "<table border=\"1\" class=\"dataframe\">\n",
       "  <thead>\n",
       "    <tr style=\"text-align: right;\">\n",
       "      <th></th>\n",
       "      <th>id</th>\n",
       "      <th>keywords</th>\n",
       "      <th>overview</th>\n",
       "      <th>title</th>\n",
       "      <th>genres</th>\n",
       "      <th>only_genres</th>\n",
       "      <th>only_keywords</th>\n",
       "      <th>tags</th>\n",
       "    </tr>\n",
       "  </thead>\n",
       "  <tbody>\n",
       "    <tr>\n",
       "      <th>0</th>\n",
       "      <td>19995</td>\n",
       "      <td>[{\"id\": 1463, \"name\": \"culture clash\"}, {\"id\":...</td>\n",
       "      <td>In the 22nd century, a paraplegic Marine is di...</td>\n",
       "      <td>Avatar</td>\n",
       "      <td>[{\"id\": 28, \"name\": \"Action\"}, {\"id\": 12, \"nam...</td>\n",
       "      <td>Action, Adventure, Fantasy, Science Fiction</td>\n",
       "      <td>culture clash, future, space war, space colony...</td>\n",
       "      <td>Action, Adventure, Fantasy, Science FictionIn ...</td>\n",
       "    </tr>\n",
       "    <tr>\n",
       "      <th>1</th>\n",
       "      <td>285</td>\n",
       "      <td>[{\"id\": 270, \"name\": \"ocean\"}, {\"id\": 726, \"na...</td>\n",
       "      <td>Captain Barbossa, long believed to be dead, ha...</td>\n",
       "      <td>Pirates of the Caribbean: At World's End</td>\n",
       "      <td>[{\"id\": 12, \"name\": \"Adventure\"}, {\"id\": 14, \"...</td>\n",
       "      <td>Adventure, Fantasy, Action</td>\n",
       "      <td>ocean, drug abuse, exotic island, east india t...</td>\n",
       "      <td>Adventure, Fantasy, ActionCaptain Barbossa, lo...</td>\n",
       "    </tr>\n",
       "    <tr>\n",
       "      <th>2</th>\n",
       "      <td>206647</td>\n",
       "      <td>[{\"id\": 470, \"name\": \"spy\"}, {\"id\": 818, \"name...</td>\n",
       "      <td>A cryptic message from Bond’s past sends him o...</td>\n",
       "      <td>Spectre</td>\n",
       "      <td>[{\"id\": 28, \"name\": \"Action\"}, {\"id\": 12, \"nam...</td>\n",
       "      <td>Action, Adventure, Crime</td>\n",
       "      <td>spy, based on novel, secret agent, sequel, mi6...</td>\n",
       "      <td>Action, Adventure, CrimeA cryptic message from...</td>\n",
       "    </tr>\n",
       "    <tr>\n",
       "      <th>3</th>\n",
       "      <td>49026</td>\n",
       "      <td>[{\"id\": 849, \"name\": \"dc comics\"}, {\"id\": 853,...</td>\n",
       "      <td>Following the death of District Attorney Harve...</td>\n",
       "      <td>The Dark Knight Rises</td>\n",
       "      <td>[{\"id\": 28, \"name\": \"Action\"}, {\"id\": 80, \"nam...</td>\n",
       "      <td>Action, Crime, Drama, Thriller</td>\n",
       "      <td>dc comics, crime fighter, terrorist, secret id...</td>\n",
       "      <td>Action, Crime, Drama, ThrillerFollowing the de...</td>\n",
       "    </tr>\n",
       "    <tr>\n",
       "      <th>4</th>\n",
       "      <td>49529</td>\n",
       "      <td>[{\"id\": 818, \"name\": \"based on novel\"}, {\"id\":...</td>\n",
       "      <td>John Carter is a war-weary, former military ca...</td>\n",
       "      <td>John Carter</td>\n",
       "      <td>[{\"id\": 28, \"name\": \"Action\"}, {\"id\": 12, \"nam...</td>\n",
       "      <td>Action, Adventure, Science Fiction</td>\n",
       "      <td>based on novel, mars, medallion, space travel,...</td>\n",
       "      <td>Action, Adventure, Science FictionJohn Carter ...</td>\n",
       "    </tr>\n",
       "    <tr>\n",
       "      <th>...</th>\n",
       "      <td>...</td>\n",
       "      <td>...</td>\n",
       "      <td>...</td>\n",
       "      <td>...</td>\n",
       "      <td>...</td>\n",
       "      <td>...</td>\n",
       "      <td>...</td>\n",
       "      <td>...</td>\n",
       "    </tr>\n",
       "    <tr>\n",
       "      <th>4798</th>\n",
       "      <td>9367</td>\n",
       "      <td>[{\"id\": 5616, \"name\": \"united states\\u2013mexi...</td>\n",
       "      <td>El Mariachi just wants to play his guitar and ...</td>\n",
       "      <td>El Mariachi</td>\n",
       "      <td>[{\"id\": 28, \"name\": \"Action\"}, {\"id\": 80, \"nam...</td>\n",
       "      <td>Action, Crime, Thriller</td>\n",
       "      <td>united states–mexico barrier, legs, arms, pape...</td>\n",
       "      <td>Action, Crime, ThrillerEl Mariachi just wants ...</td>\n",
       "    </tr>\n",
       "    <tr>\n",
       "      <th>4799</th>\n",
       "      <td>72766</td>\n",
       "      <td>[]</td>\n",
       "      <td>A newlywed couple's honeymoon is upended by th...</td>\n",
       "      <td>Newlyweds</td>\n",
       "      <td>[{\"id\": 35, \"name\": \"Comedy\"}, {\"id\": 10749, \"...</td>\n",
       "      <td>Comedy, Romance</td>\n",
       "      <td></td>\n",
       "      <td>Comedy, RomanceA newlywed couple's honeymoon i...</td>\n",
       "    </tr>\n",
       "    <tr>\n",
       "      <th>4800</th>\n",
       "      <td>231617</td>\n",
       "      <td>[{\"id\": 248, \"name\": \"date\"}, {\"id\": 699, \"nam...</td>\n",
       "      <td>\"Signed, Sealed, Delivered\" introduces a dedic...</td>\n",
       "      <td>Signed, Sealed, Delivered</td>\n",
       "      <td>[{\"id\": 35, \"name\": \"Comedy\"}, {\"id\": 18, \"nam...</td>\n",
       "      <td>Comedy, Drama, Romance, TV Movie</td>\n",
       "      <td>date, love at first sight, narration, investig...</td>\n",
       "      <td>Comedy, Drama, Romance, TV Movie\"Signed, Seale...</td>\n",
       "    </tr>\n",
       "    <tr>\n",
       "      <th>4801</th>\n",
       "      <td>126186</td>\n",
       "      <td>[]</td>\n",
       "      <td>When ambitious New York attorney Sam is sent t...</td>\n",
       "      <td>Shanghai Calling</td>\n",
       "      <td>[]</td>\n",
       "      <td></td>\n",
       "      <td></td>\n",
       "      <td>When ambitious New York attorney Sam is sent t...</td>\n",
       "    </tr>\n",
       "    <tr>\n",
       "      <th>4802</th>\n",
       "      <td>25975</td>\n",
       "      <td>[{\"id\": 1523, \"name\": \"obsession\"}, {\"id\": 224...</td>\n",
       "      <td>Ever since the second grade when he first saw ...</td>\n",
       "      <td>My Date with Drew</td>\n",
       "      <td>[{\"id\": 99, \"name\": \"Documentary\"}]</td>\n",
       "      <td>Documentary</td>\n",
       "      <td>obsession, camcorder, crush, dream girl</td>\n",
       "      <td>DocumentaryEver since the second grade when he...</td>\n",
       "    </tr>\n",
       "  </tbody>\n",
       "</table>\n",
       "<p>4803 rows × 8 columns</p>\n",
       "</div>"
      ],
      "text/plain": [
       "          id                                           keywords  \\\n",
       "0      19995  [{\"id\": 1463, \"name\": \"culture clash\"}, {\"id\":...   \n",
       "1        285  [{\"id\": 270, \"name\": \"ocean\"}, {\"id\": 726, \"na...   \n",
       "2     206647  [{\"id\": 470, \"name\": \"spy\"}, {\"id\": 818, \"name...   \n",
       "3      49026  [{\"id\": 849, \"name\": \"dc comics\"}, {\"id\": 853,...   \n",
       "4      49529  [{\"id\": 818, \"name\": \"based on novel\"}, {\"id\":...   \n",
       "...      ...                                                ...   \n",
       "4798    9367  [{\"id\": 5616, \"name\": \"united states\\u2013mexi...   \n",
       "4799   72766                                                 []   \n",
       "4800  231617  [{\"id\": 248, \"name\": \"date\"}, {\"id\": 699, \"nam...   \n",
       "4801  126186                                                 []   \n",
       "4802   25975  [{\"id\": 1523, \"name\": \"obsession\"}, {\"id\": 224...   \n",
       "\n",
       "                                               overview  \\\n",
       "0     In the 22nd century, a paraplegic Marine is di...   \n",
       "1     Captain Barbossa, long believed to be dead, ha...   \n",
       "2     A cryptic message from Bond’s past sends him o...   \n",
       "3     Following the death of District Attorney Harve...   \n",
       "4     John Carter is a war-weary, former military ca...   \n",
       "...                                                 ...   \n",
       "4798  El Mariachi just wants to play his guitar and ...   \n",
       "4799  A newlywed couple's honeymoon is upended by th...   \n",
       "4800  \"Signed, Sealed, Delivered\" introduces a dedic...   \n",
       "4801  When ambitious New York attorney Sam is sent t...   \n",
       "4802  Ever since the second grade when he first saw ...   \n",
       "\n",
       "                                         title  \\\n",
       "0                                       Avatar   \n",
       "1     Pirates of the Caribbean: At World's End   \n",
       "2                                      Spectre   \n",
       "3                        The Dark Knight Rises   \n",
       "4                                  John Carter   \n",
       "...                                        ...   \n",
       "4798                               El Mariachi   \n",
       "4799                                 Newlyweds   \n",
       "4800                 Signed, Sealed, Delivered   \n",
       "4801                          Shanghai Calling   \n",
       "4802                         My Date with Drew   \n",
       "\n",
       "                                                 genres  \\\n",
       "0     [{\"id\": 28, \"name\": \"Action\"}, {\"id\": 12, \"nam...   \n",
       "1     [{\"id\": 12, \"name\": \"Adventure\"}, {\"id\": 14, \"...   \n",
       "2     [{\"id\": 28, \"name\": \"Action\"}, {\"id\": 12, \"nam...   \n",
       "3     [{\"id\": 28, \"name\": \"Action\"}, {\"id\": 80, \"nam...   \n",
       "4     [{\"id\": 28, \"name\": \"Action\"}, {\"id\": 12, \"nam...   \n",
       "...                                                 ...   \n",
       "4798  [{\"id\": 28, \"name\": \"Action\"}, {\"id\": 80, \"nam...   \n",
       "4799  [{\"id\": 35, \"name\": \"Comedy\"}, {\"id\": 10749, \"...   \n",
       "4800  [{\"id\": 35, \"name\": \"Comedy\"}, {\"id\": 18, \"nam...   \n",
       "4801                                                 []   \n",
       "4802                [{\"id\": 99, \"name\": \"Documentary\"}]   \n",
       "\n",
       "                                      only_genres  \\\n",
       "0     Action, Adventure, Fantasy, Science Fiction   \n",
       "1                      Adventure, Fantasy, Action   \n",
       "2                        Action, Adventure, Crime   \n",
       "3                  Action, Crime, Drama, Thriller   \n",
       "4              Action, Adventure, Science Fiction   \n",
       "...                                           ...   \n",
       "4798                      Action, Crime, Thriller   \n",
       "4799                              Comedy, Romance   \n",
       "4800             Comedy, Drama, Romance, TV Movie   \n",
       "4801                                                \n",
       "4802                                  Documentary   \n",
       "\n",
       "                                          only_keywords  \\\n",
       "0     culture clash, future, space war, space colony...   \n",
       "1     ocean, drug abuse, exotic island, east india t...   \n",
       "2     spy, based on novel, secret agent, sequel, mi6...   \n",
       "3     dc comics, crime fighter, terrorist, secret id...   \n",
       "4     based on novel, mars, medallion, space travel,...   \n",
       "...                                                 ...   \n",
       "4798  united states–mexico barrier, legs, arms, pape...   \n",
       "4799                                                      \n",
       "4800  date, love at first sight, narration, investig...   \n",
       "4801                                                      \n",
       "4802            obsession, camcorder, crush, dream girl   \n",
       "\n",
       "                                                   tags  \n",
       "0     Action, Adventure, Fantasy, Science FictionIn ...  \n",
       "1     Adventure, Fantasy, ActionCaptain Barbossa, lo...  \n",
       "2     Action, Adventure, CrimeA cryptic message from...  \n",
       "3     Action, Crime, Drama, ThrillerFollowing the de...  \n",
       "4     Action, Adventure, Science FictionJohn Carter ...  \n",
       "...                                                 ...  \n",
       "4798  Action, Crime, ThrillerEl Mariachi just wants ...  \n",
       "4799  Comedy, RomanceA newlywed couple's honeymoon i...  \n",
       "4800  Comedy, Drama, Romance, TV Movie\"Signed, Seale...  \n",
       "4801  When ambitious New York attorney Sam is sent t...  \n",
       "4802  DocumentaryEver since the second grade when he...  \n",
       "\n",
       "[4803 rows x 8 columns]"
      ]
     },
     "execution_count": 17,
     "metadata": {},
     "output_type": "execute_result"
    }
   ],
   "source": [
    "movies"
   ]
  },
  {
   "cell_type": "code",
   "execution_count": 18,
   "id": "5c9a1b97",
   "metadata": {
    "execution": {
     "iopub.execute_input": "2023-12-30T03:01:04.681443Z",
     "iopub.status.busy": "2023-12-30T03:01:04.681171Z",
     "iopub.status.idle": "2023-12-30T03:01:04.686960Z",
     "shell.execute_reply": "2023-12-30T03:01:04.686125Z"
    },
    "papermill": {
     "duration": 0.017425,
     "end_time": "2023-12-30T03:01:04.689913",
     "exception": false,
     "start_time": "2023-12-30T03:01:04.672488",
     "status": "completed"
    },
    "tags": []
   },
   "outputs": [],
   "source": [
    "movies_df = movies.drop(columns=['keywords','overview','genres','only_genres','only_keywords'])"
   ]
  },
  {
   "cell_type": "code",
   "execution_count": 19,
   "id": "805d39f3",
   "metadata": {
    "execution": {
     "iopub.execute_input": "2023-12-30T03:01:04.709737Z",
     "iopub.status.busy": "2023-12-30T03:01:04.709341Z",
     "iopub.status.idle": "2023-12-30T03:01:04.722239Z",
     "shell.execute_reply": "2023-12-30T03:01:04.720913Z"
    },
    "papermill": {
     "duration": 0.025891,
     "end_time": "2023-12-30T03:01:04.725230",
     "exception": false,
     "start_time": "2023-12-30T03:01:04.699339",
     "status": "completed"
    },
    "tags": []
   },
   "outputs": [
    {
     "data": {
      "text/html": [
       "<div>\n",
       "<style scoped>\n",
       "    .dataframe tbody tr th:only-of-type {\n",
       "        vertical-align: middle;\n",
       "    }\n",
       "\n",
       "    .dataframe tbody tr th {\n",
       "        vertical-align: top;\n",
       "    }\n",
       "\n",
       "    .dataframe thead th {\n",
       "        text-align: right;\n",
       "    }\n",
       "</style>\n",
       "<table border=\"1\" class=\"dataframe\">\n",
       "  <thead>\n",
       "    <tr style=\"text-align: right;\">\n",
       "      <th></th>\n",
       "      <th>id</th>\n",
       "      <th>title</th>\n",
       "      <th>tags</th>\n",
       "    </tr>\n",
       "  </thead>\n",
       "  <tbody>\n",
       "    <tr>\n",
       "      <th>0</th>\n",
       "      <td>19995</td>\n",
       "      <td>Avatar</td>\n",
       "      <td>Action, Adventure, Fantasy, Science FictionIn ...</td>\n",
       "    </tr>\n",
       "    <tr>\n",
       "      <th>1</th>\n",
       "      <td>285</td>\n",
       "      <td>Pirates of the Caribbean: At World's End</td>\n",
       "      <td>Adventure, Fantasy, ActionCaptain Barbossa, lo...</td>\n",
       "    </tr>\n",
       "    <tr>\n",
       "      <th>2</th>\n",
       "      <td>206647</td>\n",
       "      <td>Spectre</td>\n",
       "      <td>Action, Adventure, CrimeA cryptic message from...</td>\n",
       "    </tr>\n",
       "    <tr>\n",
       "      <th>3</th>\n",
       "      <td>49026</td>\n",
       "      <td>The Dark Knight Rises</td>\n",
       "      <td>Action, Crime, Drama, ThrillerFollowing the de...</td>\n",
       "    </tr>\n",
       "    <tr>\n",
       "      <th>4</th>\n",
       "      <td>49529</td>\n",
       "      <td>John Carter</td>\n",
       "      <td>Action, Adventure, Science FictionJohn Carter ...</td>\n",
       "    </tr>\n",
       "    <tr>\n",
       "      <th>...</th>\n",
       "      <td>...</td>\n",
       "      <td>...</td>\n",
       "      <td>...</td>\n",
       "    </tr>\n",
       "    <tr>\n",
       "      <th>4798</th>\n",
       "      <td>9367</td>\n",
       "      <td>El Mariachi</td>\n",
       "      <td>Action, Crime, ThrillerEl Mariachi just wants ...</td>\n",
       "    </tr>\n",
       "    <tr>\n",
       "      <th>4799</th>\n",
       "      <td>72766</td>\n",
       "      <td>Newlyweds</td>\n",
       "      <td>Comedy, RomanceA newlywed couple's honeymoon i...</td>\n",
       "    </tr>\n",
       "    <tr>\n",
       "      <th>4800</th>\n",
       "      <td>231617</td>\n",
       "      <td>Signed, Sealed, Delivered</td>\n",
       "      <td>Comedy, Drama, Romance, TV Movie\"Signed, Seale...</td>\n",
       "    </tr>\n",
       "    <tr>\n",
       "      <th>4801</th>\n",
       "      <td>126186</td>\n",
       "      <td>Shanghai Calling</td>\n",
       "      <td>When ambitious New York attorney Sam is sent t...</td>\n",
       "    </tr>\n",
       "    <tr>\n",
       "      <th>4802</th>\n",
       "      <td>25975</td>\n",
       "      <td>My Date with Drew</td>\n",
       "      <td>DocumentaryEver since the second grade when he...</td>\n",
       "    </tr>\n",
       "  </tbody>\n",
       "</table>\n",
       "<p>4803 rows × 3 columns</p>\n",
       "</div>"
      ],
      "text/plain": [
       "          id                                     title  \\\n",
       "0      19995                                    Avatar   \n",
       "1        285  Pirates of the Caribbean: At World's End   \n",
       "2     206647                                   Spectre   \n",
       "3      49026                     The Dark Knight Rises   \n",
       "4      49529                               John Carter   \n",
       "...      ...                                       ...   \n",
       "4798    9367                               El Mariachi   \n",
       "4799   72766                                 Newlyweds   \n",
       "4800  231617                 Signed, Sealed, Delivered   \n",
       "4801  126186                          Shanghai Calling   \n",
       "4802   25975                         My Date with Drew   \n",
       "\n",
       "                                                   tags  \n",
       "0     Action, Adventure, Fantasy, Science FictionIn ...  \n",
       "1     Adventure, Fantasy, ActionCaptain Barbossa, lo...  \n",
       "2     Action, Adventure, CrimeA cryptic message from...  \n",
       "3     Action, Crime, Drama, ThrillerFollowing the de...  \n",
       "4     Action, Adventure, Science FictionJohn Carter ...  \n",
       "...                                                 ...  \n",
       "4798  Action, Crime, ThrillerEl Mariachi just wants ...  \n",
       "4799  Comedy, RomanceA newlywed couple's honeymoon i...  \n",
       "4800  Comedy, Drama, Romance, TV Movie\"Signed, Seale...  \n",
       "4801  When ambitious New York attorney Sam is sent t...  \n",
       "4802  DocumentaryEver since the second grade when he...  \n",
       "\n",
       "[4803 rows x 3 columns]"
      ]
     },
     "execution_count": 19,
     "metadata": {},
     "output_type": "execute_result"
    }
   ],
   "source": [
    "movies_df"
   ]
  },
  {
   "cell_type": "code",
   "execution_count": 20,
   "id": "8028518f",
   "metadata": {
    "execution": {
     "iopub.execute_input": "2023-12-30T03:01:04.745464Z",
     "iopub.status.busy": "2023-12-30T03:01:04.745025Z",
     "iopub.status.idle": "2023-12-30T03:01:04.749221Z",
     "shell.execute_reply": "2023-12-30T03:01:04.748627Z"
    },
    "papermill": {
     "duration": 0.016622,
     "end_time": "2023-12-30T03:01:04.751288",
     "exception": false,
     "start_time": "2023-12-30T03:01:04.734666",
     "status": "completed"
    },
    "tags": []
   },
   "outputs": [],
   "source": [
    "cv = CountVectorizer(max_features=4803, stop_words='english')"
   ]
  },
  {
   "cell_type": "code",
   "execution_count": 21,
   "id": "eab04279",
   "metadata": {
    "execution": {
     "iopub.execute_input": "2023-12-30T03:01:04.771071Z",
     "iopub.status.busy": "2023-12-30T03:01:04.770767Z",
     "iopub.status.idle": "2023-12-30T03:01:05.122211Z",
     "shell.execute_reply": "2023-12-30T03:01:05.120552Z"
    },
    "papermill": {
     "duration": 0.364,
     "end_time": "2023-12-30T03:01:05.124733",
     "exception": false,
     "start_time": "2023-12-30T03:01:04.760733",
     "status": "completed"
    },
    "tags": []
   },
   "outputs": [],
   "source": [
    "vector = cv.fit_transform(movies_df['tags'].values.astype('U')).toarray()"
   ]
  },
  {
   "cell_type": "code",
   "execution_count": 22,
   "id": "a8df9224",
   "metadata": {
    "execution": {
     "iopub.execute_input": "2023-12-30T03:01:05.142779Z",
     "iopub.status.busy": "2023-12-30T03:01:05.142385Z",
     "iopub.status.idle": "2023-12-30T03:01:05.149395Z",
     "shell.execute_reply": "2023-12-30T03:01:05.148690Z"
    },
    "papermill": {
     "duration": 0.018002,
     "end_time": "2023-12-30T03:01:05.151003",
     "exception": false,
     "start_time": "2023-12-30T03:01:05.133001",
     "status": "completed"
    },
    "tags": []
   },
   "outputs": [
    {
     "data": {
      "text/plain": [
       "array([[0, 0, 0, ..., 0, 0, 0],\n",
       "       [0, 0, 0, ..., 0, 0, 0],\n",
       "       [0, 0, 0, ..., 0, 0, 0],\n",
       "       ...,\n",
       "       [0, 0, 0, ..., 0, 0, 0],\n",
       "       [0, 0, 0, ..., 0, 0, 0],\n",
       "       [0, 0, 0, ..., 0, 0, 0]])"
      ]
     },
     "execution_count": 22,
     "metadata": {},
     "output_type": "execute_result"
    }
   ],
   "source": [
    "vector"
   ]
  },
  {
   "cell_type": "code",
   "execution_count": 23,
   "id": "40f43150",
   "metadata": {
    "execution": {
     "iopub.execute_input": "2023-12-30T03:01:05.169990Z",
     "iopub.status.busy": "2023-12-30T03:01:05.169420Z",
     "iopub.status.idle": "2023-12-30T03:01:05.174411Z",
     "shell.execute_reply": "2023-12-30T03:01:05.173786Z"
    },
    "papermill": {
     "duration": 0.01591,
     "end_time": "2023-12-30T03:01:05.175888",
     "exception": false,
     "start_time": "2023-12-30T03:01:05.159978",
     "status": "completed"
    },
    "tags": []
   },
   "outputs": [
    {
     "data": {
      "text/plain": [
       "(4803, 4803)"
      ]
     },
     "execution_count": 23,
     "metadata": {},
     "output_type": "execute_result"
    }
   ],
   "source": [
    "vector.shape"
   ]
  },
  {
   "cell_type": "code",
   "execution_count": 24,
   "id": "28158c72",
   "metadata": {
    "execution": {
     "iopub.execute_input": "2023-12-30T03:01:05.193779Z",
     "iopub.status.busy": "2023-12-30T03:01:05.193206Z",
     "iopub.status.idle": "2023-12-30T03:01:06.666402Z",
     "shell.execute_reply": "2023-12-30T03:01:06.665650Z"
    },
    "papermill": {
     "duration": 1.485298,
     "end_time": "2023-12-30T03:01:06.669012",
     "exception": false,
     "start_time": "2023-12-30T03:01:05.183714",
     "status": "completed"
    },
    "tags": []
   },
   "outputs": [],
   "source": [
    "similarity = cosine_similarity(vector)"
   ]
  },
  {
   "cell_type": "code",
   "execution_count": 25,
   "id": "19583dd1",
   "metadata": {
    "execution": {
     "iopub.execute_input": "2023-12-30T03:01:06.693013Z",
     "iopub.status.busy": "2023-12-30T03:01:06.692471Z",
     "iopub.status.idle": "2023-12-30T03:01:06.698236Z",
     "shell.execute_reply": "2023-12-30T03:01:06.697576Z"
    },
    "papermill": {
     "duration": 0.022578,
     "end_time": "2023-12-30T03:01:06.703041",
     "exception": false,
     "start_time": "2023-12-30T03:01:06.680463",
     "status": "completed"
    },
    "tags": []
   },
   "outputs": [
    {
     "data": {
      "text/plain": [
       "array([[1.        , 0.06019293, 0.03671734, ..., 0.03439596, 0.01903467,\n",
       "        0.        ],\n",
       "       [0.06019293, 1.        , 0.02541643, ..., 0.04761905, 0.        ,\n",
       "        0.        ],\n",
       "       [0.03671734, 0.02541643, 1.        , ..., 0.02178551, 0.        ,\n",
       "        0.        ],\n",
       "       ...,\n",
       "       [0.03439596, 0.04761905, 0.02178551, ..., 1.        , 0.06776309,\n",
       "        0.04462107],\n",
       "       [0.01903467, 0.        , 0.        , ..., 0.06776309, 1.        ,\n",
       "        0.04938648],\n",
       "       [0.        , 0.        , 0.        , ..., 0.04462107, 0.04938648,\n",
       "        1.        ]])"
      ]
     },
     "execution_count": 25,
     "metadata": {},
     "output_type": "execute_result"
    }
   ],
   "source": [
    "similarity"
   ]
  },
  {
   "cell_type": "code",
   "execution_count": 26,
   "id": "6eb4672b",
   "metadata": {
    "execution": {
     "iopub.execute_input": "2023-12-30T03:01:06.725618Z",
     "iopub.status.busy": "2023-12-30T03:01:06.725343Z",
     "iopub.status.idle": "2023-12-30T03:01:06.736377Z",
     "shell.execute_reply": "2023-12-30T03:01:06.735671Z"
    },
    "papermill": {
     "duration": 0.024162,
     "end_time": "2023-12-30T03:01:06.738372",
     "exception": false,
     "start_time": "2023-12-30T03:01:06.714210",
     "status": "completed"
    },
    "tags": []
   },
   "outputs": [
    {
     "name": "stdout",
     "output_type": "stream",
     "text": [
      "Spectre\n",
      "Never Say Never Again\n",
      "Quantum of Solace\n",
      "Die Another Day\n",
      "Dr. No\n"
     ]
    }
   ],
   "source": [
    "distance = sorted(list(enumerate(similarity[2])), reverse=True, key=lambda vector:vector[1])\n",
    "for i in distance[:5]:\n",
    "    print(movies_df.iloc[i[0]].title)"
   ]
  },
  {
   "cell_type": "code",
   "execution_count": 27,
   "id": "6be4bda2",
   "metadata": {
    "execution": {
     "iopub.execute_input": "2023-12-30T03:01:06.755724Z",
     "iopub.status.busy": "2023-12-30T03:01:06.755442Z",
     "iopub.status.idle": "2023-12-30T03:01:06.760317Z",
     "shell.execute_reply": "2023-12-30T03:01:06.759626Z"
    },
    "papermill": {
     "duration": 0.015348,
     "end_time": "2023-12-30T03:01:06.762010",
     "exception": false,
     "start_time": "2023-12-30T03:01:06.746662",
     "status": "completed"
    },
    "tags": []
   },
   "outputs": [],
   "source": [
    "def recommend(movie):\n",
    "    index = movies_df[movies_df['title'] == movie].index[0]\n",
    "    distance = sorted(list(enumerate(similarity[index])), reverse=True, key=lambda vector:vector[1])\n",
    "    for i in distance[1:6]:\n",
    "        print(movies_df.iloc[i[0]].title)"
   ]
  },
  {
   "cell_type": "code",
   "execution_count": 28,
   "id": "7e70fec4",
   "metadata": {
    "execution": {
     "iopub.execute_input": "2023-12-30T03:01:06.778935Z",
     "iopub.status.busy": "2023-12-30T03:01:06.778679Z",
     "iopub.status.idle": "2023-12-30T03:01:06.787428Z",
     "shell.execute_reply": "2023-12-30T03:01:06.786565Z"
    },
    "papermill": {
     "duration": 0.018997,
     "end_time": "2023-12-30T03:01:06.789057",
     "exception": false,
     "start_time": "2023-12-30T03:01:06.770060",
     "status": "completed"
    },
    "tags": []
   },
   "outputs": [
    {
     "name": "stdout",
     "output_type": "stream",
     "text": [
      "Moonraker\n",
      "Aliens\n",
      "Silent Running\n",
      "Mission to Mars\n",
      "Alien\n"
     ]
    }
   ],
   "source": [
    "recommend('Avatar')"
   ]
  },
  {
   "cell_type": "code",
   "execution_count": 29,
   "id": "f8df7f36",
   "metadata": {
    "execution": {
     "iopub.execute_input": "2023-12-30T03:01:06.846991Z",
     "iopub.status.busy": "2023-12-30T03:01:06.846428Z",
     "iopub.status.idle": "2023-12-30T03:01:06.855605Z",
     "shell.execute_reply": "2023-12-30T03:01:06.854525Z"
    },
    "papermill": {
     "duration": 0.020308,
     "end_time": "2023-12-30T03:01:06.857414",
     "exception": false,
     "start_time": "2023-12-30T03:01:06.837106",
     "status": "completed"
    },
    "tags": []
   },
   "outputs": [
    {
     "name": "stdout",
     "output_type": "stream",
     "text": [
      "Avatar\n",
      "Mission to Mars\n",
      "Star Trek: Insurrection\n",
      "The Martian\n",
      "Escape from Planet Earth\n"
     ]
    }
   ],
   "source": [
    "recommend('John Carter')"
   ]
  },
  {
   "cell_type": "code",
   "execution_count": 30,
   "id": "092ae742",
   "metadata": {
    "execution": {
     "iopub.execute_input": "2023-12-30T03:01:06.876243Z",
     "iopub.status.busy": "2023-12-30T03:01:06.874706Z",
     "iopub.status.idle": "2023-12-30T03:01:06.886925Z",
     "shell.execute_reply": "2023-12-30T03:01:06.885828Z"
    },
    "papermill": {
     "duration": 0.02309,
     "end_time": "2023-12-30T03:01:06.888694",
     "exception": false,
     "start_time": "2023-12-30T03:01:06.865604",
     "status": "completed"
    },
    "tags": []
   },
   "outputs": [
    {
     "name": "stdout",
     "output_type": "stream",
     "text": [
      "The Devil Wears Prada\n",
      "The Out-of-Towners\n",
      "I Am Sam\n",
      "Me and Orson Welles\n",
      "Home Alone 2: Lost in New York\n"
     ]
    }
   ],
   "source": [
    "recommend('Shanghai Calling')"
   ]
  }
 ],
 "metadata": {
  "kaggle": {
   "accelerator": "none",
   "dataSources": [
    {
     "datasetId": 1636,
     "sourceId": 792972,
     "sourceType": "datasetVersion"
    },
    {
     "datasetId": 138,
     "sourceId": 4508,
     "sourceType": "datasetVersion"
    }
   ],
   "dockerImageVersionId": 30626,
   "isGpuEnabled": false,
   "isInternetEnabled": true,
   "language": "python",
   "sourceType": "notebook"
  },
  "kernelspec": {
   "display_name": "Python 3",
   "language": "python",
   "name": "python3"
  },
  "language_info": {
   "codemirror_mode": {
    "name": "ipython",
    "version": 3
   },
   "file_extension": ".py",
   "mimetype": "text/x-python",
   "name": "python",
   "nbconvert_exporter": "python",
   "pygments_lexer": "ipython3",
   "version": "3.10.12"
  },
  "papermill": {
   "default_parameters": {},
   "duration": 8.337192,
   "end_time": "2023-12-30T03:01:07.720022",
   "environment_variables": {},
   "exception": null,
   "input_path": "__notebook__.ipynb",
   "output_path": "__notebook__.ipynb",
   "parameters": {},
   "start_time": "2023-12-30T03:00:59.382830",
   "version": "2.4.0"
  }
 },
 "nbformat": 4,
 "nbformat_minor": 5
}
